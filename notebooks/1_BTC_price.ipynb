{
 "cells": [
  {
   "cell_type": "markdown",
   "id": "384dd23a-27cd-4590-a4dd-03dce74b7d74",
   "metadata": {},
   "source": [
    "# Analysis of the historical price of bitcoin"
   ]
  },
  {
   "cell_type": "markdown",
   "id": "07edf41b-7c1e-4d87-b808-2428ffc7d9b3",
   "metadata": {},
   "source": [
    "## Setup"
   ]
  },
  {
   "cell_type": "code",
   "execution_count": null,
   "id": "c10f3961-fce3-46db-80bc-5c8052fda27a",
   "metadata": {},
   "outputs": [],
   "source": [
    "import calendar\n",
    "import matplotlib.pyplot as plt\n",
    "from matplotlib.ticker import FuncFormatter\n",
    "import pandas as pd\n",
    "import seaborn as sns\n",
    "from scipy import signal\n",
    "from statsmodels.tsa.seasonal import STL"
   ]
  },
  {
   "cell_type": "code",
   "execution_count": null,
   "id": "6ed13df3-a4e8-484d-a6cd-3dceac35d305",
   "metadata": {},
   "outputs": [],
   "source": [
    "# Set charts theme\n",
    "sns.set_theme(style=\"darkgrid\", rc={\"grid.alpha\": 0.33})\n",
    "plt.style.use(\"dark_background\")\n",
    "\n",
    "# Save chart as png function\n",
    "def save_chart_as_png(filename: str) -> None:\n",
    "    plt.savefig(\n",
    "        f\"../images/{filename}.png\",\n",
    "        format=\"png\",\n",
    "        dpi=300,\n",
    "        orientation=\"landscape\",\n",
    "        bbox_inches=\"tight\",\n",
    "    )"
   ]
  },
  {
   "cell_type": "code",
   "execution_count": null,
   "id": "af64caf9-95cc-4e1f-8e99-33775d090a41",
   "metadata": {},
   "outputs": [],
   "source": [
    "# Get bitcoin df with date as index\n",
    "df_btc = pd.read_csv(\"../data/BTC.csv\", index_col=\"date\", parse_dates=True)"
   ]
  },
  {
   "cell_type": "markdown",
   "id": "bbd20dee-289c-4bb0-aa73-5bafad2fea29",
   "metadata": {},
   "source": [
    "## Price of bitcoin across time ₿"
   ]
  },
  {
   "cell_type": "code",
   "execution_count": null,
   "id": "f3aa9721-969a-43a0-8b01-c5d56a5f5b57",
   "metadata": {},
   "outputs": [],
   "source": [
    "plt.figure(figsize=(10, 6))\n",
    "\n",
    "sns.lineplot(data=df_btc, x=df_btc.index, y=\"price\", color=\"#f7931a\", linewidth=0.75)\n",
    "\n",
    "plt.xlim(pd.to_datetime(\"2010-01-01\"), pd.to_datetime(\"2025-01-01\"))\n",
    "\n",
    "plt.gca().yaxis.set_major_formatter(\n",
    "    FuncFormatter(lambda x, _: f\"{int(x)}\" if x < 1000 and x.is_integer() \n",
    "                  else f\"{x:.1f}\" if x < 1 else f\"{int(x / 1000)}K\")\n",
    ")\n",
    "\n",
    "plt.title(\"Bitcoin Price Over Time\")\n",
    "plt.xlabel(None)\n",
    "plt.ylabel(None)\n",
    "\n",
    "save_chart_as_png(\"1_BTC_price\")"
   ]
  },
  {
   "cell_type": "markdown",
   "id": "0651e1fb-fa1d-4507-a5ad-2a90d840173f",
   "metadata": {},
   "source": [
    "**To make it possible to see the early price fluctuations we need a logarithmic scale on the y-axis.**"
   ]
  },
  {
   "cell_type": "code",
   "execution_count": null,
   "id": "5176fdd3-5909-4611-ab1c-2ab53f6f4e40",
   "metadata": {},
   "outputs": [],
   "source": [
    "plt.figure(figsize=(10, 6))\n",
    "\n",
    "sns.lineplot(data=df_btc, x=df_btc.index, y=\"price\", color=\"#f7931a\", linewidth=0.75)\n",
    "\n",
    "plt.yscale(\"log\")\n",
    "plt.xlim(pd.to_datetime(\"2010-01-01\"), pd.to_datetime(\"2025-01-01\"))\n",
    "plt.ylim(0.04, 100_000)\n",
    "\n",
    "plt.gca().yaxis.set_major_formatter(\n",
    "    FuncFormatter(lambda x, _: f\"{int(x)}\" if x < 1000 and x.is_integer() \n",
    "                  else f\"{x:.1f}\" if x < 1 else f\"{int(x / 1000)}K\")\n",
    ")\n",
    "\n",
    "plt.title(\"Bitcoin Price Over Time\")\n",
    "plt.xlabel(None)\n",
    "plt.ylabel(None)\n",
    "\n",
    "save_chart_as_png(\"1_BTC_price_log\")"
   ]
  },
  {
   "cell_type": "code",
   "execution_count": null,
   "id": "e1b170c6-8f70-45c2-98ad-e2de94912150",
   "metadata": {},
   "outputs": [],
   "source": [
    "# All-time high\n",
    "ath_date = df_btc[\"price\"].idxmax()\n",
    "df_btc.loc[[ath_date]]"
   ]
  },
  {
   "cell_type": "code",
   "execution_count": null,
   "id": "37b6e5a4-50c6-4660-abae-9e177f9b82ea",
   "metadata": {},
   "outputs": [],
   "source": [
    "# All-time low\n",
    "atl_date = df_btc[\"price\"].idxmin()\n",
    "df_btc.loc[[atl_date]]"
   ]
  },
  {
   "cell_type": "code",
   "execution_count": null,
   "id": "2f57ebb6-60d7-43de-8654-925f5558e729",
   "metadata": {},
   "outputs": [],
   "source": [
    "# Peaks\n",
    "peaks, _ = signal.find_peaks(df_btc[\"price\"], distance=365)\n",
    "df_btc.iloc[peaks].nlargest(12, \"price\").sort_values(\"date\")[[\"price\"]].T"
   ]
  },
  {
   "cell_type": "code",
   "execution_count": null,
   "id": "67a920a1-f682-4dac-80c1-003a9d1de1b4",
   "metadata": {},
   "outputs": [],
   "source": [
    "# Valleys\n",
    "valleys, _ = signal.find_peaks(-df_btc[\"price\"], distance=365)\n",
    "df_btc.iloc[valleys].nsmallest(12, \"price\").sort_values(\"date\")[[\"price\"]].T"
   ]
  },
  {
   "cell_type": "code",
   "execution_count": null,
   "id": "66782ea3-f8a8-49ab-b76a-c82c44a30ea2",
   "metadata": {},
   "outputs": [],
   "source": [
    "# Price appreciation since first entry\n",
    "first_entry_price = df_btc.iloc[0][\"price\"]\n",
    "last_entry_price = df_btc.iloc[-1][\"price\"]\n",
    "(last_entry_price / first_entry_price) - 1"
   ]
  },
  {
   "cell_type": "code",
   "execution_count": null,
   "id": "7f1eccf0-9baf-4f75-b253-3b7157ed5347",
   "metadata": {},
   "outputs": [],
   "source": [
    "# How many times the price has multiplied since the first entry\n",
    "last_entry_price / first_entry_price"
   ]
  },
  {
   "cell_type": "markdown",
   "id": "2f1ccfeb-eeec-470e-b0cb-9fca720de6aa",
   "metadata": {},
   "source": [
    "**Key takeaways:**\n",
    "- The all-time low occurred at the very beginning of the dataset, with bitcoin trading around \\$0.05.\n",
    "- From there, the price rose rapidly, peaking in mid-2011.\n",
    "- In 2013, bitcoin gained significant mainstream attention, going viral and breaking its previous all-time high, peaking by the end of the year.\n",
    "- After three years of relatively low activity, bitcoin went viral again in 2017, reaching nearly \\$20k.\n",
    "- The market remained quiet from 2018 to 2020, with minimal performance until bitcoin regained momentum in late 2020, going viral once again.\n",
    "- Following a sharp collapse in 2022, bitcoin rebounded quickly, reaching a new all-time high of around \\$72.4k in March 2024.\n",
    "- Since the first entry, bitcoin's price has skyrocketed by nearly 118,081,905%, meaning its initial value has multiplied by about 1,180,820 times."
   ]
  },
  {
   "cell_type": "markdown",
   "id": "9c3b23bf-46ea-4e47-8a75-9ea00da2db51",
   "metadata": {},
   "source": [
    "## Major market cycles of bitcoin across time 🔄"
   ]
  },
  {
   "cell_type": "code",
   "execution_count": null,
   "id": "aef1a3fd-5b40-4c6f-82a9-c96d35f13866",
   "metadata": {},
   "outputs": [],
   "source": [
    "# Get df with main rallies and crashes\n",
    "def get_price_change(first_date: str, last_date: str) -> tuple[float, float]:\n",
    "    first_price = df_btc.loc[first_date, \"price\"]\n",
    "    last_price = df_btc.loc[last_date, \"price\"]\n",
    "    price_change = last_price - first_price\n",
    "    price_change_pct = last_price / first_price - 1\n",
    "    return price_change, price_change_pct\n",
    "\n",
    "timeframes = [(\"2010-07-22\", \"2011-06-08\"),\n",
    "              (\"2011-06-08\", \"2011-11-18\"),\n",
    "              (\"2011-11-18\", \"2013-11-30\"),\n",
    "              (\"2013-11-30\", \"2015-01-15\"),\n",
    "              (\"2015-01-15\", \"2017-12-17\"),\n",
    "              (\"2017-12-17\", \"2018-12-15\"),\n",
    "              (\"2018-12-15\", \"2021-11-09\"),\n",
    "              (\"2021-11-09\", \"2022-11-22\")]\n",
    "\n",
    "price_changes = []\n",
    "price_changes_pcts = []\n",
    "days = []\n",
    "formatted_timeframes = []\n",
    "\n",
    "for first_date, last_date in timeframes:\n",
    "    price_change, price_change_pct = get_price_change(first_date, last_date)\n",
    "    price_changes.append(price_change)\n",
    "    price_changes_pcts.append(price_change_pct)\n",
    "    days.append((pd.to_datetime(last_date) - pd.to_datetime(first_date)).days)\n",
    "    formatted_timeframes.append(f\"{first_date} - {last_date}\")\n",
    "\n",
    "df_btc_cycles = pd.DataFrame({\n",
    "    \"timeframe\": formatted_timeframes,\n",
    "    \"price_change\": price_changes,\n",
    "    \"price_change_pct\": price_changes_pcts,\n",
    "    \"days\": days,\n",
    "})\n",
    "df_btc_cycles"
   ]
  },
  {
   "cell_type": "code",
   "execution_count": null,
   "id": "a6ea26ea-59ba-45e1-ae67-475b3c04b855",
   "metadata": {},
   "outputs": [],
   "source": [
    "# Get year-month timeframe\n",
    "df_btc_cycles[\"timeframe_ym\"] = df_btc_cycles[\"timeframe\"].apply(lambda x: f\"{x[:7]} - {x[13:20]}\")"
   ]
  },
  {
   "cell_type": "code",
   "execution_count": null,
   "id": "9917cd5e-8e05-4e50-af43-6d2ecf996b83",
   "metadata": {},
   "outputs": [],
   "source": [
    "fig, axes = plt.subplots(1, 2, figsize=(10, 5))\n",
    "\n",
    "sns.barplot(data=df_btc_cycles.loc[df_btc_cycles[\"price_change_pct\"] > 0], x=\"timeframe_ym\", y=\"price_change_pct\", color=\"green\", ax=axes[0])\n",
    "sns.barplot(data=df_btc_cycles.loc[df_btc_cycles[\"price_change_pct\"] < 0], x=\"timeframe_ym\", y=\"price_change_pct\", color=\"red\", ax=axes[1])\n",
    "\n",
    "# Configure axes[0] (Rallies)\n",
    "axes[0].set_ylim(0, 600)\n",
    "axes[0].set_yticks([20, 100, 500, 600])\n",
    "axes[0].set_title(\"Major Rallies of Bitcoin in Chronological Order\")\n",
    "axes[0].set_xlabel(None)\n",
    "axes[0].set_ylabel(\"Price Change\", labelpad=-15)\n",
    "\n",
    "# Configure axes[1] (Crashes)\n",
    "axes[1].set_ylim(-1, 0)\n",
    "axes[1].set_yticks([-1, -0.9, -0.8, -0.7, 0])\n",
    "axes[1].set_title(\"Major Crashes of Bitcoin in Chronological Order\")\n",
    "axes[1].set_xlabel(None)\n",
    "axes[1].set_ylabel(\"Price Change\", labelpad=-15)\n",
    "axes[1].yaxis.set_label_position(\"right\")\n",
    "axes[1].tick_params(axis=\"y\", labelleft=False, labelright=True)\n",
    "\n",
    "# Adjust x-axis tick sizes for both axes\n",
    "[ax.tick_params(axis=\"x\", labelsize=8) for ax in axes]\n",
    "\n",
    "plt.tight_layout()\n",
    "\n",
    "save_chart_as_png(\"1_BTC_major_cycles\")"
   ]
  },
  {
   "cell_type": "markdown",
   "id": "60da5c00-173f-4a5e-854e-a19899453abc",
   "metadata": {},
   "source": [
    "**Key takeaways:**\n",
    "- ..."
   ]
  },
  {
   "cell_type": "markdown",
   "id": "ec74e6ef-ce07-4d22-9b07-e5fde82e78c5",
   "metadata": {},
   "source": [
    "## STL decomposition (trend, seasonality, and residuals) 📈"
   ]
  },
  {
   "cell_type": "code",
   "execution_count": null,
   "id": "b384acdd-3885-44be-a6ed-d5733118e7c1",
   "metadata": {},
   "outputs": [],
   "source": [
    "stl = STL(df_btc[\"price\"], period=365).fit()"
   ]
  },
  {
   "cell_type": "code",
   "execution_count": null,
   "id": "b9184fa8-636b-41d2-a22c-82bf54158820",
   "metadata": {},
   "outputs": [],
   "source": [
    "fig, axes = plt.subplots(4, 1, figsize=(10, 6), sharex=True)\n",
    "\n",
    "axes[0].plot(df_btc.index, df_btc[\"price\"], label=\"Original\", color=\"#f7931a\", linewidth=0.5)\n",
    "axes[1].plot(df_btc.index, stl.trend, label=\"Trend\", color=\"aqua\", linewidth=1)\n",
    "axes[2].plot(df_btc.index, stl.seasonal, label=\"Seasonal\", color=\"fuchsia\", linewidth=0.5)\n",
    "axes[3].plot(df_btc.index, stl.resid, label=\"Residual\", color=\"red\", linewidth=0.5)\n",
    "\n",
    "axes[0].set_title(\"Bitcoin Price Over Time\")\n",
    "axes[1].set_title(\"Trend Component\")\n",
    "axes[2].set_title(\"Seasonal Component\")\n",
    "axes[3].set_title(\"Residual Component\")\n",
    "\n",
    "plt.tight_layout()"
   ]
  },
  {
   "cell_type": "markdown",
   "id": "afd5a1cd-3fcc-4b46-a400-9deccefe165d",
   "metadata": {},
   "source": [
    "### Trend analysis"
   ]
  },
  {
   "cell_type": "code",
   "execution_count": null,
   "id": "64f9479f-e518-4d9b-92ee-f3f5aa4e6e2c",
   "metadata": {},
   "outputs": [],
   "source": [
    "plt.figure(figsize=(10, 6))\n",
    "\n",
    "plt.plot(stl.trend, color=\"aqua\", linewidth=1)\n",
    "\n",
    "plt.yscale(\"log\")\n",
    "plt.ylim(df_btc.min()[\"price\"], plt.ylim()[1])\n",
    "\n",
    "plt.gca().yaxis.set_major_formatter(\n",
    "    FuncFormatter(lambda x, _: f\"{int(x)}\" if x < 1000 and x.is_integer() \n",
    "                  else (f\"{x:.1f}\" if x < 1 else f\"{int(x/1000)}K\"))\n",
    ")\n",
    "\n",
    "plt.title(\"Trend Component of the Bitcoin Price Over Time\")\n",
    "plt.xlabel(None)\n",
    "plt.ylabel(\"Trend\")\n",
    "\n",
    "save_chart_as_png(\"1_BTC_trend\")"
   ]
  },
  {
   "cell_type": "markdown",
   "id": "5a96c8f8-b76c-4ce7-8360-8ed97d457711",
   "metadata": {},
   "source": [
    "**Key takeaways:**\n",
    "- The trend saw massive growth up until 2014.\n",
    "- Since then, bitcoin has been rising consistently, although with progressively less momentum.\n",
    "- Bitcoin's viral surges are clearly visible, with each bounce decreasing in magnitude, indicating increased stability as the years go by.\n",
    "- Overall, the long-term trend appears to follow a logarithmic growth pattern."
   ]
  },
  {
   "cell_type": "markdown",
   "id": "0be76e2c-069f-40c7-aae1-708b43daccb2",
   "metadata": {},
   "source": [
    "### Seasonality analysis"
   ]
  },
  {
   "cell_type": "code",
   "execution_count": null,
   "id": "08723559-cc5e-487b-b0a9-77833f6fedb4",
   "metadata": {},
   "outputs": [],
   "source": [
    "# Get average seasonal component\n",
    "seasonal = stl.seasonal\n",
    "monthly_avgs = seasonal.groupby(seasonal.index.month).mean()"
   ]
  },
  {
   "cell_type": "code",
   "execution_count": null,
   "id": "12ebea01-a5e8-4287-b58f-db0c480b9e71",
   "metadata": {},
   "outputs": [],
   "source": [
    "plt.figure(figsize=(10, 6))\n",
    "\n",
    "plt.plot(monthly_avgs.index, monthly_avgs.values, marker=\"o\", color=\"fuchsia\", linewidth=1)\n",
    "\n",
    "plt.xticks(monthly_avgs.index, [calendar.month_abbr[i] for i in monthly_avgs.index])\n",
    "\n",
    "plt.gca().yaxis.set_major_formatter(\n",
    "    FuncFormatter(lambda x, _: f\"{int(x)}\" if abs(x) < 1000 and x.is_integer() \n",
    "                  else (f\"{x:.1f}\" if abs(x) < 1 else f\"{int(x/1000)}k\"))\n",
    ")\n",
    "\n",
    "plt.title(\"Average Seasonal Component of the Bitcoin Price Throughout the Year\")\n",
    "plt.xlabel(None)\n",
    "plt.ylabel(None)\n",
    "\n",
    "save_chart_as_png(\"1_BTC_seasonal\")"
   ]
  },
  {
   "cell_type": "markdown",
   "id": "93426a39-df34-4617-ae88-2386204c9256",
   "metadata": {},
   "source": [
    "**Key takeaways:**\n",
    "- Bitcoin’s average seasonality shows notable changes.\n",
    "- It typically peaks at the beginning of spring.\n",
    "- Following this peak, the price generally declines, reaching its lowest point by the end of summer."
   ]
  }
 ],
 "metadata": {
  "kernelspec": {
   "display_name": "Python 3 (ipykernel)",
   "language": "python",
   "name": "python3"
  },
  "language_info": {
   "codemirror_mode": {
    "name": "ipython",
    "version": 3
   },
   "file_extension": ".py",
   "mimetype": "text/x-python",
   "name": "python",
   "nbconvert_exporter": "python",
   "pygments_lexer": "ipython3",
   "version": "3.12.6"
  }
 },
 "nbformat": 4,
 "nbformat_minor": 5
}
