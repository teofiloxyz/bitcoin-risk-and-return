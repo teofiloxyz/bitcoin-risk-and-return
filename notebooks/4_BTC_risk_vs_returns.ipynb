{
 "cells": [
  {
   "cell_type": "markdown",
   "id": "12390680-0b87-474a-abf6-bf777e39fcea",
   "metadata": {},
   "source": [
    "# Analysis of the risk vs returns of bitcoin"
   ]
  },
  {
   "cell_type": "markdown",
   "id": "c1ce3c24-d68b-4de6-95a9-b32c420bc1ec",
   "metadata": {},
   "source": [
    "## Setup"
   ]
  },
  {
   "cell_type": "code",
   "execution_count": null,
   "id": "fc0a3721-ee33-4421-b21d-6984da849506",
   "metadata": {},
   "outputs": [],
   "source": [
    "from adjustText import adjust_text\n",
    "import matplotlib.colorbar as mpl_cbar\n",
    "import matplotlib.colors as mpl_cols\n",
    "import matplotlib.pyplot as plt\n",
    "from matplotlib.ticker import FuncFormatter\n",
    "import numpy as np\n",
    "import pandas as pd\n",
    "import seaborn as sns"
   ]
  },
  {
   "cell_type": "code",
   "execution_count": null,
   "id": "0d067e62-4a70-42a4-9728-3638d556dea0",
   "metadata": {},
   "outputs": [],
   "source": [
    "# Set charts theme\n",
    "sns.set_theme(style=\"darkgrid\", rc={\"grid.alpha\": 0.33})\n",
    "plt.style.use(\"dark_background\")\n",
    "\n",
    "# Save chart as png function\n",
    "def save_chart_as_png(filename: str) -> None:\n",
    "    plt.savefig(\n",
    "        f\"../images/{filename}.png\",\n",
    "        format=\"png\",\n",
    "        dpi=300,\n",
    "        orientation=\"landscape\",\n",
    "        bbox_inches=\"tight\",\n",
    "    )"
   ]
  },
  {
   "cell_type": "code",
   "execution_count": null,
   "id": "749d3fe1-d6e8-4f51-ba47-31da46cbd367",
   "metadata": {},
   "outputs": [],
   "source": [
    "# Get all dfs\n",
    "def get_df(csv_basename: str) -> pd.DataFrame:\n",
    "    # Get df from CSV with date as index\n",
    "    return pd.read_csv(f\"../data/{csv_basename}.csv\", index_col=\"date\", parse_dates=True)\n",
    "\n",
    "df_btc = get_df(\"BTC\")\n",
    "df_sp500 = get_df(\"SP500\")\n",
    "df_us10y = get_df(\"US10Y\")\n",
    "df_au = get_df(\"AU\")\n",
    "df_wti = get_df(\"WTI\")\n",
    "df_chf = get_df(\"CHF\")"
   ]
  },
  {
   "cell_type": "markdown",
   "id": "afb67994-19b3-4fb3-a125-4c2bf44852c0",
   "metadata": {},
   "source": [
    "## Volatility vs returns (90-day rolling values)"
   ]
  },
  {
   "cell_type": "code",
   "execution_count": null,
   "id": "29734d86-7872-416e-8908-edfba439b788",
   "metadata": {},
   "outputs": [],
   "source": [
    "# Get daily logarithmic price change and 90-day moving average\n",
    "df_btc[\"price_change_log\"] = np.log(df_btc[\"price\"] / df_btc[\"price\"].shift(1))\n",
    "df_btc[\"price_change_log_90d_ma\"] = df_btc[\"price_change_log\"].rolling(window=90).mean()"
   ]
  },
  {
   "cell_type": "code",
   "execution_count": null,
   "id": "6f28c808-5dec-474c-95f8-b24fb429ef38",
   "metadata": {},
   "outputs": [],
   "source": [
    "# Get 90-day rolling volatility with the standard deviation method (for consistency)\n",
    "df_btc[\"volatility_90d\"] = df_btc[\"price_change_log\"].rolling(window=90).std()"
   ]
  },
  {
   "cell_type": "code",
   "execution_count": null,
   "id": "cc2576e4-ff55-4e44-8f83-f73a6486289d",
   "metadata": {},
   "outputs": [],
   "source": [
    "fig, ax = plt.subplots(figsize=(10, 6))\n",
    "\n",
    "# Normalize years to map colors\n",
    "norm = mpl_cols.Normalize(vmin=df_btc.index.year.min(), vmax=df_btc.index.year.max())\n",
    "cmap = plt.cm.viridis_r\n",
    "\n",
    "sns.scatterplot(data=df_btc, x=\"volatility_90d\", y=\"price_change_log_90d_ma\", hue=df_btc.index.year, palette=cmap, alpha=0.7, linewidth=0.2, legend=False)\n",
    "plt.axhline(y=0, color=\"red\", linewidth=1, linestyle=\"--\")\n",
    "\n",
    "plt.title(\"Volatility vs returns of bitcoin\")\n",
    "plt.xlabel(\"Volatility (90-day window)\")\n",
    "plt.ylabel(\"Average daily returns (90-day window)\")\n",
    "\n",
    "# Create the colorbar\n",
    "cax, _ = mpl_cbar.make_axes(ax, location=\"right\", pad=0.01)\n",
    "sm = plt.cm.ScalarMappable(cmap=cmap, norm=norm)\n",
    "cbar = fig.colorbar(sm, cax=cax)\n",
    "\n",
    "save_chart_as_png(\"4_BTC_vlt_vs_returns\")"
   ]
  },
  {
   "cell_type": "code",
   "execution_count": null,
   "id": "e4682d68-1d7b-48c9-a6cc-3b4dd19bb877",
   "metadata": {},
   "outputs": [],
   "source": [
    "# Pearson correlation coefficient betweent volatility and returns\n",
    "df_btc[\"volatility_90d\"].corr(df_btc[\"price_change_log_90d_ma\"]).round(2)"
   ]
  },
  {
   "cell_type": "markdown",
   "id": "149335c3-5f7a-4ed2-98c2-6fc214db612b",
   "metadata": {},
   "source": [
    "**Key takeaways:**\n",
    "- ..."
   ]
  },
  {
   "cell_type": "markdown",
   "id": "08181b97-8963-4a03-b43f-45630347c95e",
   "metadata": {},
   "source": [
    "### Comparison of volatility vs returns with other assets"
   ]
  },
  {
   "cell_type": "code",
   "execution_count": null,
   "id": "7ae9aa33-d677-4431-99b2-bb67996210cd",
   "metadata": {},
   "outputs": [],
   "source": [
    "# Get arithmetic returns for each df, instead of log returns since the oil data includes non-positive prices\n",
    "for df in [df_btc, df_sp500, df_us10y, df_wti, df_au, df_chf]:\n",
    "    df[\"returns\"] = df.iloc[:, 0].pct_change()"
   ]
  },
  {
   "cell_type": "code",
   "execution_count": null,
   "id": "f25fbb1a-3e96-45cf-b36b-db1ca097fe3f",
   "metadata": {},
   "outputs": [],
   "source": [
    "# Get df with average returns and std deviation of returns from all dfs since first data point of btc df\n",
    "dfs = {\n",
    "    \"Bitcoin\": df_btc,\n",
    "    \"S&P 500\": df_sp500,\n",
    "    \"US 10-year yield\": df_us10y,\n",
    "    \"Gold futures\": df_au,\n",
    "    \"Crude oil futures\": df_wti,\n",
    "    \"USD/CHF\": df_chf,\n",
    "}\n",
    "results = []\n",
    "for asset, df in dfs.items():\n",
    "    results.append({\"asset\": asset,\n",
    "                    \"returns_avg\": df.loc[df.index >= df_btc.index.min()][\"returns\"].mean(),\n",
    "                    \"returns_std\": df.loc[df.index >= df_btc.index.min()][\"returns\"].std(),\n",
    "                   })\n",
    "\n",
    "df_comparison = pd.DataFrame(results)\n",
    "df_comparison"
   ]
  },
  {
   "cell_type": "code",
   "execution_count": null,
   "id": "c2a54caf-526a-4546-b943-76588a862702",
   "metadata": {},
   "outputs": [],
   "source": [
    "plt.figure(figsize=(10, 6))\n",
    "\n",
    "sns.scatterplot(data=df_comparison, x=\"returns_std\", y=\"returns_avg\", color=\"lime\")\n",
    "plt.axhline(y=0, color=\"red\", linewidth=0.5, linestyle=\"--\")\n",
    "\n",
    "plt.title(\"Comparison of the volatility vs returns of bitcoin with other assets since 2010\")\n",
    "plt.xlabel(\"Volatility of daily returns\")\n",
    "plt.ylabel(\"Average daily returns\")\n",
    "\n",
    "plt.xlim(0, 0.16)\n",
    "plt.ylim(-0.003, 0.004)\n",
    "\n",
    "# Add labels to each point\n",
    "texts = []\n",
    "for i, row in df_comparison.iterrows():\n",
    "    texts.append(plt.text(row[\"returns_std\"], row[\"returns_avg\"], row[\"asset\"], fontsize=10))\n",
    "\n",
    "# Adjust text to avoid overlap\n",
    "adjust_text(texts, arrowprops=dict(arrowstyle=\"-\", color=\"white\", alpha=2/3))\n",
    "\n",
    "save_chart_as_png(\"4_BTC_vlt_vs_returns_comparison\")"
   ]
  },
  {
   "cell_type": "markdown",
   "id": "52c02291-1d8c-483a-81ef-4c76eb5da02c",
   "metadata": {},
   "source": [
    "**Key takeaways:**\n",
    "- ..."
   ]
  }
 ],
 "metadata": {
  "kernelspec": {
   "display_name": "Python 3 (ipykernel)",
   "language": "python",
   "name": "python3"
  },
  "language_info": {
   "codemirror_mode": {
    "name": "ipython",
    "version": 3
   },
   "file_extension": ".py",
   "mimetype": "text/x-python",
   "name": "python",
   "nbconvert_exporter": "python",
   "pygments_lexer": "ipython3",
   "version": "3.12.6"
  }
 },
 "nbformat": 4,
 "nbformat_minor": 5
}
