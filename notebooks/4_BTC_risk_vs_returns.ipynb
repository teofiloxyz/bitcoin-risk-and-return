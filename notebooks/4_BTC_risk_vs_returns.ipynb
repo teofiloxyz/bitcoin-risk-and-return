{
 "cells": [
  {
   "cell_type": "markdown",
   "id": "12390680-0b87-474a-abf6-bf777e39fcea",
   "metadata": {},
   "source": [
    "# Analysis of the risk vs returns of bitcoin"
   ]
  },
  {
   "cell_type": "markdown",
   "id": "c1ce3c24-d68b-4de6-95a9-b32c420bc1ec",
   "metadata": {},
   "source": [
    "## Setup"
   ]
  },
  {
   "cell_type": "code",
   "execution_count": null,
   "id": "fc0a3721-ee33-4421-b21d-6984da849506",
   "metadata": {},
   "outputs": [],
   "source": [
    "import matplotlib.colorbar as mpl_cbar\n",
    "import matplotlib.colors as mpl_cols\n",
    "import matplotlib.pyplot as plt\n",
    "from matplotlib.ticker import FuncFormatter\n",
    "import pandas as pd\n",
    "import seaborn as sns"
   ]
  },
  {
   "cell_type": "code",
   "execution_count": null,
   "id": "68a01819-505e-4b84-8110-9f41dc5a4273",
   "metadata": {},
   "outputs": [],
   "source": [
    "# Get bitcoin price df and set date as index\n",
    "df_btc = pd.read_csv(\"../data/BTC.csv\", index_col=\"date\", parse_dates=True)"
   ]
  },
  {
   "cell_type": "code",
   "execution_count": null,
   "id": "0d067e62-4a70-42a4-9728-3638d556dea0",
   "metadata": {},
   "outputs": [],
   "source": [
    "# Set charts theme\n",
    "sns.set_theme(style=\"darkgrid\", rc={\"grid.alpha\": 0.33})\n",
    "plt.style.use(\"dark_background\")\n",
    "\n",
    "# Save chart as png function\n",
    "def save_chart_as_png(filename: str) -> None:\n",
    "    plt.savefig(\n",
    "        f\"../images/{filename}.png\",\n",
    "        format=\"png\",\n",
    "        dpi=300,\n",
    "        orientation=\"landscape\",\n",
    "        bbox_inches=\"tight\",\n",
    "    )"
   ]
  },
  {
   "cell_type": "code",
   "execution_count": null,
   "id": "919b9683-a6ea-4479-b04a-2b9c2802ddac",
   "metadata": {},
   "outputs": [],
   "source": [
    "# Get OHLC average as price\n",
    "df_btc[\"price\"] = df_btc[[\"open\", \"high\", \"low\", \"close\"]].mean(axis=1)\n",
    "df_btc.drop(columns=[\"open\", \"high\", \"low\", \"close\"], inplace=True)"
   ]
  }
 ],
 "metadata": {
  "kernelspec": {
   "display_name": "Python 3 (ipykernel)",
   "language": "python",
   "name": "python3"
  },
  "language_info": {
   "codemirror_mode": {
    "name": "ipython",
    "version": 3
   },
   "file_extension": ".py",
   "mimetype": "text/x-python",
   "name": "python",
   "nbconvert_exporter": "python",
   "pygments_lexer": "ipython3",
   "version": "3.12.5"
  }
 },
 "nbformat": 4,
 "nbformat_minor": 5
}
