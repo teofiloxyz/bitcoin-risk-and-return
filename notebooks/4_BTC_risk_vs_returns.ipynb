{
 "cells": [
  {
   "cell_type": "markdown",
   "id": "12390680-0b87-474a-abf6-bf777e39fcea",
   "metadata": {},
   "source": [
    "# Analysis of the risk vs returns of bitcoin"
   ]
  },
  {
   "cell_type": "markdown",
   "id": "c1ce3c24-d68b-4de6-95a9-b32c420bc1ec",
   "metadata": {},
   "source": [
    "## Setup"
   ]
  },
  {
   "cell_type": "code",
   "execution_count": null,
   "id": "fc0a3721-ee33-4421-b21d-6984da849506",
   "metadata": {},
   "outputs": [],
   "source": [
    "import matplotlib.colorbar as mpl_cbar\n",
    "import matplotlib.colors as mpl_cols\n",
    "import matplotlib.pyplot as plt\n",
    "from matplotlib.ticker import FuncFormatter\n",
    "import pandas as pd\n",
    "import seaborn as sns"
   ]
  },
  {
   "cell_type": "code",
   "execution_count": null,
   "id": "68a01819-505e-4b84-8110-9f41dc5a4273",
   "metadata": {},
   "outputs": [],
   "source": [
    "# Get bitcoin price df and set date as index\n",
    "df_btc = pd.read_csv(\"../data/BTC.csv\", index_col=\"date\", parse_dates=True)"
   ]
  },
  {
   "cell_type": "code",
   "execution_count": null,
   "id": "0d067e62-4a70-42a4-9728-3638d556dea0",
   "metadata": {},
   "outputs": [],
   "source": [
    "# Set charts theme\n",
    "sns.set_theme(style=\"darkgrid\", rc={\"grid.alpha\": 0.33})\n",
    "plt.style.use(\"dark_background\")\n",
    "\n",
    "# Save chart as png function\n",
    "def save_chart_as_png(filename: str) -> None:\n",
    "    plt.savefig(\n",
    "        f\"../images/{filename}.png\",\n",
    "        format=\"png\",\n",
    "        dpi=300,\n",
    "        orientation=\"landscape\",\n",
    "        bbox_inches=\"tight\",\n",
    "    )"
   ]
  },
  {
   "cell_type": "code",
   "execution_count": null,
   "id": "919b9683-a6ea-4479-b04a-2b9c2802ddac",
   "metadata": {},
   "outputs": [],
   "source": [
    "# Get OHLC average as price\n",
    "df_btc[\"price\"] = df_btc[[\"open\", \"high\", \"low\", \"close\"]].mean(axis=1)\n",
    "df_btc.drop(columns=[\"open\", \"high\", \"low\", \"close\"], inplace=True)"
   ]
  },
  {
   "cell_type": "markdown",
   "id": "afb67994-19b3-4fb3-a125-4c2bf44852c0",
   "metadata": {},
   "source": [
    "## Volatility vs returns (90-day rolling values)"
   ]
  },
  {
   "cell_type": "code",
   "execution_count": null,
   "id": "29734d86-7872-416e-8908-edfba439b788",
   "metadata": {},
   "outputs": [],
   "source": [
    "# Get daily price change and 90-day moving average\n",
    "df_btc[\"price_change\"] = df_btc[\"price\"].pct_change()\n",
    "df_btc[\"price_change_90d_ma\"] = df_btc[\"price_change\"].rolling(window=90).mean()"
   ]
  },
  {
   "cell_type": "code",
   "execution_count": null,
   "id": "6f28c808-5dec-474c-95f8-b24fb429ef38",
   "metadata": {},
   "outputs": [],
   "source": [
    "# Get 90-day rolling volatily with the standard deviation method (for consistency)\n",
    "df_btc[\"volatility_90d\"] = df_btc[\"price_change\"].rolling(window=90).std()"
   ]
  },
  {
   "cell_type": "code",
   "execution_count": null,
   "id": "cc2576e4-ff55-4e44-8f83-f73a6486289d",
   "metadata": {},
   "outputs": [],
   "source": [
    "fig, ax = plt.subplots(figsize=(10, 6))\n",
    "\n",
    "# Normalize years to map colors\n",
    "norm = mpl_cols.Normalize(vmin=df_btc.index.year.min(), vmax=df_btc.index.year.max())\n",
    "cmap = plt.cm.viridis_r\n",
    "\n",
    "sns.scatterplot(data=df_btc, x=\"volatility_90d\", y=\"price_change_90d_ma\", hue=df_btc.index.year, palette=cmap, alpha=0.7, linewidth=0.2, legend=False)\n",
    "plt.axhline(y=0, color=\"red\", linewidth=1, linestyle=\"--\")\n",
    "\n",
    "plt.title(\"Volatility vs returns of bitcoin\")\n",
    "plt.xlabel(\"Volatility (90-day window)\")\n",
    "plt.ylabel(\"Average daily returns (90-day window)\")\n",
    "\n",
    "# Create the colorbar\n",
    "cax, _ = mpl_cbar.make_axes(ax, location=\"right\", pad=0.01)\n",
    "sm = plt.cm.ScalarMappable(cmap=cmap, norm=norm)\n",
    "cbar = fig.colorbar(sm, cax=cax)\n",
    "\n",
    "save_chart_as_png(\"3_BTC_vlt_vs_returns\")"
   ]
  },
  {
   "cell_type": "code",
   "execution_count": null,
   "id": "e4682d68-1d7b-48c9-a6cc-3b4dd19bb877",
   "metadata": {},
   "outputs": [],
   "source": [
    "# Pearson correlation coefficient betweent volatility and returns\n",
    "df_btc[\"volatility_90d\"].corr(df_btc[\"price_change_90d_ma\"]).round(2)"
   ]
  },
  {
   "cell_type": "markdown",
   "id": "149335c3-5f7a-4ed2-98c2-6fc214db612b",
   "metadata": {},
   "source": [
    "**Key takeaways:**\n",
    "- ..."
   ]
  }
 ],
 "metadata": {
  "kernelspec": {
   "display_name": "Python 3 (ipykernel)",
   "language": "python",
   "name": "python3"
  },
  "language_info": {
   "codemirror_mode": {
    "name": "ipython",
    "version": 3
   },
   "file_extension": ".py",
   "mimetype": "text/x-python",
   "name": "python",
   "nbconvert_exporter": "python",
   "pygments_lexer": "ipython3",
   "version": "3.12.5"
  }
 },
 "nbformat": 4,
 "nbformat_minor": 5
}
