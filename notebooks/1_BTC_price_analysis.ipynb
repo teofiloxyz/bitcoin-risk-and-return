{
 "cells": [
  {
   "cell_type": "markdown",
   "id": "384dd23a-27cd-4590-a4dd-03dce74b7d74",
   "metadata": {},
   "source": [
    "# Brief analysis of the historical price of bitcoin"
   ]
  },
  {
   "cell_type": "markdown",
   "id": "07edf41b-7c1e-4d87-b808-2428ffc7d9b3",
   "metadata": {},
   "source": [
    "## Setup"
   ]
  },
  {
   "cell_type": "code",
   "execution_count": null,
   "id": "c10f3961-fce3-46db-80bc-5c8052fda27a",
   "metadata": {},
   "outputs": [],
   "source": [
    "import matplotlib.pyplot as plt\n",
    "import pandas as pd\n",
    "import seaborn as sns\n",
    "from scipy import signal\n",
    "from statsmodels.tsa.seasonal import STL"
   ]
  },
  {
   "cell_type": "code",
   "execution_count": null,
   "id": "e59fd220-17be-4514-aad4-c7f564972ecd",
   "metadata": {},
   "outputs": [],
   "source": [
    "# Get bitcoin price df and set date as index, for more efficiency and simplicity\n",
    "df_btc = pd.read_csv(\"../data/BTC.csv\", index_col=\"date\", parse_dates=True)"
   ]
  },
  {
   "cell_type": "code",
   "execution_count": null,
   "id": "6ed13df3-a4e8-484d-a6cd-3dceac35d305",
   "metadata": {},
   "outputs": [],
   "source": [
    "# Set charts theme\n",
    "sns.set_theme(style=\"darkgrid\", rc={\"grid.alpha\": 0.33})\n",
    "plt.style.use(\"dark_background\")\n",
    "\n",
    "# Save chart as png function\n",
    "def save_chart_as_png(filename: str) -> None:\n",
    "    plt.savefig(\n",
    "        f\"../images/{filename}.png\",\n",
    "        format=\"png\",\n",
    "        dpi=300,\n",
    "        orientation=\"landscape\",\n",
    "        bbox_inches=\"tight\",\n",
    "    )"
   ]
  },
  {
   "cell_type": "code",
   "execution_count": null,
   "id": "0ff50b68-6d83-4548-b5d5-accd397e7750",
   "metadata": {},
   "outputs": [],
   "source": [
    "# Get OHLC average as price\n",
    "df_btc[\"price\"] = df_btc[[\"open\", \"high\", \"low\", \"close\"]].mean(axis=1)\n",
    "df_btc.drop(columns=[\"open\", \"high\", \"low\", \"close\"], inplace=True)"
   ]
  },
  {
   "cell_type": "markdown",
   "id": "70167d94-0acb-40eb-bf0a-ca148f0a7c2d",
   "metadata": {},
   "source": [
    "## Dataset basic info"
   ]
  },
  {
   "cell_type": "code",
   "execution_count": null,
   "id": "38d519fc-aa57-4e0a-80ad-3cd9cfa34942",
   "metadata": {},
   "outputs": [],
   "source": [
    "# First and last entries\n",
    "pd.concat([df_btc.head(1), df_btc.tail(1)]).T"
   ]
  },
  {
   "cell_type": "code",
   "execution_count": null,
   "id": "6a88298b-3bb7-433b-8167-934681233cae",
   "metadata": {},
   "outputs": [],
   "source": [
    "df_btc.describe().T"
   ]
  },
  {
   "cell_type": "code",
   "execution_count": null,
   "id": "65406fc1-9e1b-4024-8436-6873144ca8bb",
   "metadata": {},
   "outputs": [],
   "source": [
    "# How many trading days per year on average\n",
    "days_per_year = df_btc[~df_btc.index.year.isin([2024, 2010])].index.year.value_counts()\n",
    "days_per_year.mean().round(2)"
   ]
  },
  {
   "cell_type": "markdown",
   "id": "bbd20dee-289c-4bb0-aa73-5bafad2fea29",
   "metadata": {},
   "source": [
    "## Price of bitcoin across time"
   ]
  },
  {
   "cell_type": "code",
   "execution_count": null,
   "id": "f3aa9721-969a-43a0-8b01-c5d56a5f5b57",
   "metadata": {},
   "outputs": [],
   "source": [
    "plt.figure(figsize=(10, 6))\n",
    "\n",
    "sns.lineplot(data=df_btc, x=df_btc.index, y=\"price\", color=\"#f7931a\", linewidth=0.75)\n",
    "\n",
    "plt.title(\"Price of bitcoin across time\")\n",
    "plt.xlabel(\"\")\n",
    "plt.ylabel(\"\")\n",
    "\n",
    "save_chart_as_png(\"1_BTC_price\")"
   ]
  },
  {
   "cell_type": "markdown",
   "id": "0651e1fb-fa1d-4507-a5ad-2a90d840173f",
   "metadata": {},
   "source": [
    "**It's much easier to see the early price fluctuations with a logarithmic scale on the y-axis**"
   ]
  },
  {
   "cell_type": "code",
   "execution_count": null,
   "id": "5176fdd3-5909-4611-ab1c-2ab53f6f4e40",
   "metadata": {},
   "outputs": [],
   "source": [
    "plt.figure(figsize=(10, 6))\n",
    "\n",
    "sns.lineplot(data=df_btc, x=df_btc.index, y=\"price\", color=\"#f7931a\", linewidth=0.75)\n",
    "\n",
    "plt.title(\"Price of bitcoin across time\")\n",
    "plt.xlabel(\"\")\n",
    "plt.ylabel(\"\")\n",
    "\n",
    "plt.yscale(\"log\")\n",
    "\n",
    "save_chart_as_png(\"1_BTC_price_log\")"
   ]
  },
  {
   "cell_type": "code",
   "execution_count": null,
   "id": "e1b170c6-8f70-45c2-98ad-e2de94912150",
   "metadata": {},
   "outputs": [],
   "source": [
    "# All-time high\n",
    "ath_date = df_btc[\"price\"].idxmax()\n",
    "df_btc.loc[[ath_date]]"
   ]
  },
  {
   "cell_type": "code",
   "execution_count": null,
   "id": "37b6e5a4-50c6-4660-abae-9e177f9b82ea",
   "metadata": {},
   "outputs": [],
   "source": [
    "# All-time low\n",
    "atl_date = df_btc[\"price\"].idxmin()\n",
    "df_btc.loc[[atl_date]]"
   ]
  },
  {
   "cell_type": "code",
   "execution_count": null,
   "id": "2f57ebb6-60d7-43de-8654-925f5558e729",
   "metadata": {},
   "outputs": [],
   "source": [
    "# Peaks\n",
    "peaks, _ = signal.find_peaks(df_btc[\"price\"], distance=365)\n",
    "df_btc.iloc[peaks].nlargest(12, \"price\").sort_values(\"date\")[[\"price\"]].T"
   ]
  },
  {
   "cell_type": "code",
   "execution_count": null,
   "id": "67a920a1-f682-4dac-80c1-003a9d1de1b4",
   "metadata": {},
   "outputs": [],
   "source": [
    "# Valleys\n",
    "valleys, _ = signal.find_peaks(-df_btc[\"price\"], distance=300)\n",
    "df_btc.iloc[valleys].nsmallest(12, \"price\").sort_values(\"date\")[[\"price\"]].T"
   ]
  },
  {
   "cell_type": "code",
   "execution_count": null,
   "id": "66782ea3-f8a8-49ab-b76a-c82c44a30ea2",
   "metadata": {},
   "outputs": [],
   "source": [
    "# Price appreciation since first entry\n",
    "first_entry_price = df_btc.iloc[0][\"price\"]\n",
    "last_entry_price = df_btc.iloc[-1][\"price\"]\n",
    "(last_entry_price - first_entry_price) / first_entry_price"
   ]
  },
  {
   "cell_type": "markdown",
   "id": "2f1ccfeb-eeec-470e-b0cb-9fca720de6aa",
   "metadata": {},
   "source": [
    "**Key takeaways:**\n",
    "- ..."
   ]
  },
  {
   "cell_type": "markdown",
   "id": "ec74e6ef-ce07-4d22-9b07-e5fde82e78c5",
   "metadata": {},
   "source": [
    "## STL decomposition (trend, seasonality, and residuals)"
   ]
  },
  {
   "cell_type": "code",
   "execution_count": null,
   "id": "b384acdd-3885-44be-a6ed-d5733118e7c1",
   "metadata": {},
   "outputs": [],
   "source": [
    "stl = STL(df_btc[\"price\"], period=365).fit()"
   ]
  },
  {
   "cell_type": "code",
   "execution_count": null,
   "id": "b9184fa8-636b-41d2-a22c-82bf54158820",
   "metadata": {},
   "outputs": [],
   "source": [
    "fig, axes = plt.subplots(4, 1, figsize=(10, 6), sharex=True)\n",
    "\n",
    "axes[0].plot(df_btc.index, df_btc[\"price\"], label=\"Original\", color=\"#f7931a\", linewidth=0.5)\n",
    "axes[0].set_title(\"Price of bitcoin across time\")\n",
    "\n",
    "axes[1].plot(df_btc.index, stl.trend, label=\"Trend\", color=\"aqua\", linewidth=1)\n",
    "axes[1].set_title(\"Trend component\")\n",
    "\n",
    "axes[2].plot(df_btc.index, stl.seasonal, label=\"Seasonal\", color=\"fuchsia\", linewidth=0.5)\n",
    "axes[2].set_title(\"Seasonal component\")\n",
    "\n",
    "axes[3].plot(df_btc.index, stl.resid, label=\"Residual\", color=\"red\", linewidth=0.5)\n",
    "axes[3].set_title(\"Residual component\")\n",
    "\n",
    "plt.tight_layout()"
   ]
  },
  {
   "cell_type": "markdown",
   "id": "afd5a1cd-3fcc-4b46-a400-9deccefe165d",
   "metadata": {},
   "source": [
    "### Trend analysis"
   ]
  },
  {
   "cell_type": "code",
   "execution_count": null,
   "id": "64f9479f-e518-4d9b-92ee-f3f5aa4e6e2c",
   "metadata": {},
   "outputs": [],
   "source": [
    "plt.figure(figsize=(10, 6))\n",
    "\n",
    "plt.plot(stl.trend, color=\"aqua\", linewidth=1)\n",
    "\n",
    "plt.title(\"Trend component of the price of bitcoin across time\")\n",
    "plt.xlabel(\"\")\n",
    "plt.ylabel(\"Trend\")\n",
    "\n",
    "plt.yscale(\"log\")\n",
    "plt.ylim(df_btc.min()[\"price\"], plt.ylim()[1])\n",
    "\n",
    "save_chart_as_png(\"1_BTC_trend\")"
   ]
  },
  {
   "cell_type": "markdown",
   "id": "5a96c8f8-b76c-4ce7-8360-8ed97d457711",
   "metadata": {},
   "source": [
    "**Key takeaways:**\n",
    "- ..."
   ]
  },
  {
   "cell_type": "markdown",
   "id": "0be76e2c-069f-40c7-aae1-708b43daccb2",
   "metadata": {},
   "source": [
    "### Seasonality analysis"
   ]
  },
  {
   "cell_type": "code",
   "execution_count": null,
   "id": "12ebea01-a5e8-4287-b58f-db0c480b9e71",
   "metadata": {},
   "outputs": [],
   "source": [
    "seasonal = stl.seasonal\n",
    "monthly_avgs = seasonal.groupby(seasonal.index.month).mean()\n",
    "\n",
    "plt.figure(figsize=(10, 6))\n",
    "\n",
    "plt.plot(monthly_avgs.index, monthly_avgs.values, marker='o', color=\"fuchsia\", linewidth=1)\n",
    "\n",
    "plt.title(\"Average seasonal component of the price of bitcoin throughout the year\")\n",
    "plt.xlabel(\"Month\")\n",
    "plt.ylabel(\"Seasonality\")\n",
    "\n",
    "save_chart_as_png(\"1_BTC_seasonal\")"
   ]
  },
  {
   "cell_type": "markdown",
   "id": "93426a39-df34-4617-ae88-2386204c9256",
   "metadata": {},
   "source": [
    "**Key takeaways:**\n",
    "- ..."
   ]
  }
 ],
 "metadata": {
  "kernelspec": {
   "display_name": "Python 3 (ipykernel)",
   "language": "python",
   "name": "python3"
  },
  "language_info": {
   "codemirror_mode": {
    "name": "ipython",
    "version": 3
   },
   "file_extension": ".py",
   "mimetype": "text/x-python",
   "name": "python",
   "nbconvert_exporter": "python",
   "pygments_lexer": "ipython3",
   "version": "3.12.4"
  }
 },
 "nbformat": 4,
 "nbformat_minor": 5
}
