{
 "cells": [
  {
   "cell_type": "markdown",
   "id": "3cde1cdc-daf7-4c17-9e4e-456bd441f678",
   "metadata": {},
   "source": [
    "# Analysis of the returns of bitcoin"
   ]
  },
  {
   "cell_type": "markdown",
   "id": "4a6158cd-74ab-4221-9f30-804a1eb9da9d",
   "metadata": {},
   "source": [
    "## Setup"
   ]
  },
  {
   "cell_type": "code",
   "execution_count": null,
   "id": "7418b937-21d1-48b7-8f71-fe9cf3a99eda",
   "metadata": {},
   "outputs": [],
   "source": [
    "from matplotlib import font_manager\n",
    "from matplotlib.colors import LinearSegmentedColormap\n",
    "import matplotlib.pyplot as plt\n",
    "from matplotlib.ticker import FuncFormatter\n",
    "import numpy as np\n",
    "import pandas as pd\n",
    "import seaborn as sns"
   ]
  },
  {
   "cell_type": "code",
   "execution_count": null,
   "id": "dc979090-6849-41cc-a2e9-0594f9e13d5f",
   "metadata": {},
   "outputs": [],
   "source": [
    "# Set charts theme\n",
    "sns.set_theme(style=\"darkgrid\", rc={\"grid.alpha\": 0.33})\n",
    "plt.style.use(\"dark_background\")\n",
    "\n",
    "# Save chart as png function\n",
    "def save_chart_as_png(filename: str) -> None:\n",
    "    plt.savefig(\n",
    "        f\"../images/{filename}.png\",\n",
    "        format=\"png\",\n",
    "        dpi=300,\n",
    "        orientation=\"landscape\",\n",
    "        bbox_inches=\"tight\",\n",
    "    )"
   ]
  },
  {
   "cell_type": "code",
   "execution_count": null,
   "id": "749d3fe1-d6e8-4f51-ba47-31da46cbd367",
   "metadata": {},
   "outputs": [],
   "source": [
    "# Get all dfs\n",
    "def get_df(csv_basename: str) -> pd.DataFrame:\n",
    "    # Get df from CSV with date as index\n",
    "    return pd.read_csv(f\"../data/{csv_basename}.csv\", index_col=\"date\", parse_dates=True)\n",
    "\n",
    "df_btc = get_df(\"BTC\")\n",
    "df_sp500 = get_df(\"SP500\")\n",
    "df_us10y = get_df(\"US10Y\")\n",
    "df_au = get_df(\"AU\")\n",
    "df_wti = get_df(\"WTI\")\n",
    "df_chf = get_df(\"CHF\")"
   ]
  },
  {
   "cell_type": "markdown",
   "id": "e325f5af-c427-4cb1-b401-730c4b8c56bb",
   "metadata": {},
   "source": [
    "## Returns of bitcoin across time 💰"
   ]
  },
  {
   "cell_type": "code",
   "execution_count": null,
   "id": "b7cae6cd-dc23-455d-b663-e14d97c0f33b",
   "metadata": {},
   "outputs": [],
   "source": [
    "# Get daily price change and moving averages\n",
    "df_btc[\"price_change\"] = df_btc[\"price\"].pct_change()\n",
    "df_btc[\"price_change_log\"] = np.log(df_btc[\"price\"] / df_btc[\"price\"].shift(1))\n",
    "df_btc[\"price_change_log_90d_ma\"] = df_btc[\"price_change_log\"].rolling(window=90).mean()\n",
    "df_btc[\"price_change_log_1y_ma\"] = df_btc[\"price_change_log\"].rolling(window=365).mean()"
   ]
  },
  {
   "cell_type": "code",
   "execution_count": null,
   "id": "7eae7345-b853-4aa0-bcb2-e439dab18363",
   "metadata": {},
   "outputs": [],
   "source": [
    "plt.figure(figsize=(10, 6))\n",
    "\n",
    "sns.lineplot(data=df_btc, x=df_btc.index, y=\"price_change_log_90d_ma\", label=\"Moving Average (90-days)\", color=\"#00f8ff\", linewidth=0.75)\n",
    "sns.lineplot(data=df_btc, x=df_btc.index, y=\"price_change_log_1y_ma\", label=\"Moving Average (1-year)\", color=\"#ff5b00\", linewidth=1)\n",
    "\n",
    "plt.axhline(y=0, color=\"red\", linewidth=2/3, linestyle=\"--\")\n",
    "\n",
    "plt.title(\"Bitcoin Daily Returns Over Time\")\n",
    "plt.xlabel(None)\n",
    "plt.ylabel(None)\n",
    "\n",
    "save_chart_as_png(\"2_BTC_returns\")"
   ]
  },
  {
   "cell_type": "code",
   "execution_count": null,
   "id": "d5908e23-da11-436e-8c4f-53e4f1204583",
   "metadata": {},
   "outputs": [],
   "source": [
    "# Highest daily return\n",
    "df_btc.loc[[df_btc[\"price_change\"].idxmax()]]"
   ]
  },
  {
   "cell_type": "code",
   "execution_count": null,
   "id": "5a2917e3-2681-4489-ae7a-899e20783bbd",
   "metadata": {},
   "outputs": [],
   "source": [
    "# Lowest daily return\n",
    "df_btc.loc[[df_btc[\"price_change\"].idxmin()]]"
   ]
  },
  {
   "cell_type": "code",
   "execution_count": null,
   "id": "9efa16af-6969-49d2-b3c9-e34ba65bc832",
   "metadata": {},
   "outputs": [],
   "source": [
    "# Total cumulative returns (which is the exact same as price appreciation since first entry)\n",
    "(df_btc[\"price_change\"] + 1).prod() - 1"
   ]
  },
  {
   "cell_type": "code",
   "execution_count": null,
   "id": "17b16e4b-16ad-4bf2-8dfb-6401c43280ad",
   "metadata": {},
   "outputs": [],
   "source": [
    "# Compound annual growth rate (CAGR)\n",
    "start_value = df_btc[\"price\"].iloc[0]\n",
    "end_value = df_btc[\"price\"].iloc[-1]\n",
    "n = (df_btc.index[-1] - df_btc.index[0]).days / 365.25\n",
    "\n",
    "(end_value / start_value) ** (1 / n) - 1"
   ]
  },
  {
   "cell_type": "markdown",
   "id": "9eab78fd-0d1d-4283-bf3f-2e0846230776",
   "metadata": {},
   "source": [
    "**Key takeaways:**\n",
    "- ..."
   ]
  },
  {
   "cell_type": "markdown",
   "id": "ce60194b-d111-40a0-ab5f-0b3af5050324",
   "metadata": {},
   "source": [
    "### Comparison of returns with other assets"
   ]
  },
  {
   "cell_type": "code",
   "execution_count": null,
   "id": "ae3bb4f2-f0c9-4328-987a-bd3fab9a4538",
   "metadata": {},
   "outputs": [],
   "source": [
    "# Resample all dfs to weekly frequency, to be able to compare with bitcoin's 365 trading days, and also make sure other dfs start at the same point of btc df.\n",
    "df_btc_w = df_btc[[\"price\"]].resample(\"W\").mean()\n",
    "df_sp500_w = df_sp500.loc[df_sp500.index >= df_btc.index.min()].resample(\"W\").mean()\n",
    "df_us10y_w = df_us10y.loc[df_us10y.index >= df_btc.index.min()].resample(\"W\").mean()\n",
    "df_au_w = df_au.loc[df_au.index >= df_btc.index.min()].resample(\"W\").mean()\n",
    "df_wti_w = df_wti.loc[df_wti.index >= df_btc.index.min()].resample(\"W\").mean()\n",
    "df_chf_w = df_chf.loc[df_chf.index >= df_btc.index.min()].resample(\"W\").mean()"
   ]
  },
  {
   "cell_type": "code",
   "execution_count": null,
   "id": "7ae9aa33-d677-4431-99b2-bb67996210cd",
   "metadata": {},
   "outputs": [],
   "source": [
    "# Get 1-year moving average of returns for each weekly df\n",
    "for df in [df_btc_w, df_sp500_w, df_us10y_w, df_wti_w, df_au_w, df_chf_w]:\n",
    "    # Get arithmetic returns using the first column, instead of log returns since the oil data includes non-positive prices\n",
    "    df[\"returns\"] = df.iloc[:, 0].pct_change()\n",
    "    # Get 1-year moving average of weekly returns\n",
    "    df[\"returns_1y_ma\"] = df[\"returns\"].rolling(window=52).mean()"
   ]
  },
  {
   "cell_type": "code",
   "execution_count": null,
   "id": "9eca55aa-66a9-44a7-876b-f886a7b0350e",
   "metadata": {},
   "outputs": [],
   "source": [
    "plt.figure(figsize=(10, 6))\n",
    "\n",
    "sns.lineplot(data=df_btc_w, x=df_btc_w.index, y=\"returns_1y_ma\", label=\"Bitcoin\", color=\"#f7931a\", linewidth=1)\n",
    "sns.lineplot(data=df_sp500_w, x=df_sp500_w.index, y=\"returns_1y_ma\", label=\"S&P 500\", color=\"lime\", linewidth=1)\n",
    "sns.lineplot(data=df_us10y_w, x=df_us10y_w.index, y=\"returns_1y_ma\", label=\"US 10-year yield\", color=\"deepskyblue\", linewidth=1)\n",
    "sns.lineplot(data=df_au_w, x=df_au_w.index, y=\"returns_1y_ma\", label=\"Gold futures\", color=\"gold\", linewidth=1)\n",
    "sns.lineplot(data=df_wti_w, x=df_wti_w.index, y=\"returns_1y_ma\", label=\"Crude oil futures\", color=\"crimson\", linewidth=1)\n",
    "sns.lineplot(data=df_chf_w, x=df_chf_w.index, y=\"returns_1y_ma\", label=\"USD/CHF\", color=\"mediumorchid\", linewidth=1)\n",
    "\n",
    "plt.axhline(y=0, color=\"red\", linewidth=2/3, linestyle=\"--\")\n",
    "\n",
    "plt.ylim([-0.035, 0.14])\n",
    "\n",
    "plt.title(\"Comparison of 1-Year Average Weekly Returns of Bitcoin with Other Assets Over Time\")\n",
    "plt.xlabel(None)\n",
    "plt.ylabel(None)\n",
    "\n",
    "save_chart_as_png(\"2_BTC_returns_comparison\")"
   ]
  },
  {
   "cell_type": "code",
   "execution_count": null,
   "id": "f50f7fd9-f79f-4a1a-bb35-fedf4014694b",
   "metadata": {},
   "outputs": [],
   "source": [
    "# Create table with average weekly returns of each asset for different timeframes\n",
    "def get_timeframes_avg_returns(df: pd.DataFrame) -> dict[str, float]:\n",
    "    return {\n",
    "        \"Total avg weekly returns\": round(df[\"returns\"].mean(), 4),\n",
    "        \"2011-2016 avg\": round(df[df.index.year < 2016][\"returns\"].mean(), 4),\n",
    "        \"2016-2020 avg\": round(df[(df.index.year >= 2016) & (df.index.year < 2020)][\"returns\"].mean(), 4),\n",
    "        \"2020-2024 avg\": round(df[df.index.year >= 2020][\"returns\"].mean(), 4),\n",
    "    }\n",
    "\n",
    "df_avg_returns = pd.DataFrame({\n",
    "    \"Bitcoin\": get_timeframes_avg_returns(df_btc_w),\n",
    "    \"S&P 500\": get_timeframes_avg_returns(df_sp500_w),\n",
    "    \"US 10-year yield\": get_timeframes_avg_returns(df_us10y_w),\n",
    "    \"Gold futures\": get_timeframes_avg_returns(df_au_w),\n",
    "    \"Crude oil futures\": get_timeframes_avg_returns(df_wti_w),\n",
    "    \"USD/CHF\": get_timeframes_avg_returns(df_chf_w),\n",
    "}).T\n",
    "\n",
    "df_avg_returns.sort_values(by=df_avg_returns.columns[0], ascending=False)"
   ]
  },
  {
   "cell_type": "markdown",
   "id": "88d401b0-edc8-4bc2-be52-8b5a51a5a524",
   "metadata": {},
   "source": [
    "**Key takeaways:**\n",
    "- ..."
   ]
  },
  {
   "cell_type": "markdown",
   "id": "1c17c70a-81fc-431e-a4a0-fb892e792451",
   "metadata": {},
   "source": [
    "### Distribution of returns"
   ]
  },
  {
   "cell_type": "code",
   "execution_count": null,
   "id": "f8027d24-9d9b-4034-b446-7685f42bab37",
   "metadata": {},
   "outputs": [],
   "source": [
    "sym_limit = 0.15\n",
    "df_btc_lim = df_btc.query(f\"{-sym_limit} <= price_change_log <= {sym_limit}\")\n",
    "\n",
    "plt.figure(figsize=(10, 6))\n",
    "\n",
    "sns.histplot(df_btc_lim[\"price_change_log\"], binwidth=0.01, binrange=(-sym_limit, sym_limit), color=\"turquoise\", edgecolor=\"white\", alpha=3/4)\n",
    "\n",
    "plt.xlim(-sym_limit, sym_limit)\n",
    "\n",
    "plt.title(\"Distribution of Bitcoin Daily Returns\")\n",
    "plt.xlabel(\"Price Change\")\n",
    "plt.ylabel(\"Frequency\")\n",
    "\n",
    "save_chart_as_png(\"2_BTC_returns_dist\")"
   ]
  },
  {
   "cell_type": "code",
   "execution_count": null,
   "id": "cdc92d41-40b7-414a-a03c-74f6422ab868",
   "metadata": {},
   "outputs": [],
   "source": [
    "# Create table with daily returns stats\n",
    "pd.DataFrame({\n",
    "    \"Average return\": [round(df_btc[\"price_change_log\"].mean(), 4)],\n",
    "    \"Median return\": [round(df_btc[\"price_change_log\"].median(), 4)],\n",
    "    \"Standard deviation\": [round(df_btc[\"price_change_log\"].std(), 4)],\n",
    "    \"Min return\": [round(df_btc[\"price_change_log\"].min(), 4)],\n",
    "    \"Max return\": [round(df_btc[\"price_change_log\"].max(), 4)],\n",
    "    \"Skewness\": [round(df_btc[\"price_change_log\"].skew(), 4)],\n",
    "    \"Kurtosis\": [round(df_btc[\"price_change_log\"].kurt(), 4)],\n",
    "})"
   ]
  },
  {
   "cell_type": "markdown",
   "id": "22ae25df-d2d9-4811-99f5-cfef62c581a2",
   "metadata": {},
   "source": [
    "**Key takeaways:**\n",
    "- ..."
   ]
  },
  {
   "cell_type": "markdown",
   "id": "09707a38-5ad9-459e-867a-038307036740",
   "metadata": {},
   "source": [
    "### Distribution of yearly rolling returns"
   ]
  },
  {
   "cell_type": "code",
   "execution_count": null,
   "id": "0f28ef55-7212-43c7-99a4-12c02722176e",
   "metadata": {},
   "outputs": [],
   "source": [
    "# Get yearly rolling returns\n",
    "btc_yearly_rolling_returns = df_btc[\"price_change_log\"].rolling(window=365).sum().dropna()"
   ]
  },
  {
   "cell_type": "code",
   "execution_count": null,
   "id": "22ea2fd1-135d-4e1a-8e4a-0c77a32e2cc6",
   "metadata": {},
   "outputs": [],
   "source": [
    "plt.figure(figsize=(10, 6))\n",
    "\n",
    "sns.histplot(btc_yearly_rolling_returns, binwidth=1/3, binrange=(-2, 6), color=\"mediumpurple\", edgecolor=\"white\", alpha=3/4)\n",
    "\n",
    "plt.xlim(-2, 6)\n",
    "\n",
    "plt.title(\"Distribution of Bitcoin Yearly Rolling Returns\")\n",
    "plt.xlabel(\"Price Change\")\n",
    "plt.ylabel(\"Frequency\")\n",
    "\n",
    "save_chart_as_png(\"2_BTC_returns_y_rol_dist\")"
   ]
  },
  {
   "cell_type": "code",
   "execution_count": null,
   "id": "d0934089-708a-4d03-b5a5-16fcda4240d8",
   "metadata": {},
   "outputs": [],
   "source": [
    "# Create table with yearly rolling returns stats\n",
    "pd.DataFrame({\n",
    "    \"Average return\": [round(btc_yearly_rolling_returns.mean(), 4)],\n",
    "    \"Median return\": [round(btc_yearly_rolling_returns.median(), 4)],\n",
    "    \"Standard deviation\": [round(btc_yearly_rolling_returns.std(), 4)],\n",
    "    \"Min return\": [round(btc_yearly_rolling_returns.min(), 4)],\n",
    "    \"Max return\": [round(btc_yearly_rolling_returns.max(), 4)],\n",
    "    \"Skewness\": [round(btc_yearly_rolling_returns.skew(), 4)],\n",
    "    \"Kurtosis\": [round(btc_yearly_rolling_returns.kurt(), 4)],\n",
    "})"
   ]
  },
  {
   "cell_type": "markdown",
   "id": "514b573e-483e-409d-93a4-262d5e6589eb",
   "metadata": {},
   "source": [
    "**Key takeaways:**\n",
    "- ..."
   ]
  },
  {
   "cell_type": "markdown",
   "id": "eaa54c93-729e-45bc-b9a0-2a62be6df596",
   "metadata": {},
   "source": [
    "## Year-over-year returns across time 📊"
   ]
  },
  {
   "cell_type": "code",
   "execution_count": null,
   "id": "f014b052-55c8-48ef-8f46-52a19965f5be",
   "metadata": {},
   "outputs": [],
   "source": [
    "# Get YoY returns\n",
    "# Get yearly bitcoin price df with first and last prices\n",
    "df_btc_yearly = df_btc.groupby(df_btc.index.year)[\"price\"].agg(\n",
    "    first_price=\"first\",\n",
    "    last_price=\"last\",\n",
    ")\n",
    "# Get YoY return\n",
    "df_btc_yearly[\"price_change\"] = (df_btc_yearly[\"last_price\"] - df_btc_yearly[\"first_price\"]) / df_btc_yearly[\"first_price\"]"
   ]
  },
  {
   "cell_type": "code",
   "execution_count": null,
   "id": "7cd4ad0a-8430-4194-866b-234704cfe18f",
   "metadata": {},
   "outputs": [],
   "source": [
    "plt.figure(figsize=(10, 6))\n",
    "\n",
    "# Create a custom palette for positive and negative returns\n",
    "palette_greens = LinearSegmentedColormap.from_list(\"positive\",[\"#d4c334\", \"#40d434\"])\n",
    "palette_reds = LinearSegmentedColormap.from_list(\"negative\", [\"#d43438\", \"#d47034\"])\n",
    "\n",
    "# Get one barplot for the positive and another for the negative returns while making sure they are in the correct order\n",
    "ax = sns.barplot(data=df_btc_yearly[df_btc_yearly[\"price_change\"] >= 0], x=\"date\", y=\"price_change\", order=df_btc_yearly.index, palette=palette_greens, hue=\"price_change\", legend=False)\n",
    "ax = sns.barplot(data=df_btc_yearly[df_btc_yearly[\"price_change\"] < 0], x=\"date\", y=\"price_change\", order=df_btc_yearly.index, palette=palette_reds, hue=\"price_change\", legend=False)\n",
    "\n",
    "plt.yscale(\"symlog\")\n",
    "plt.ylim(-1, 80)\n",
    "\n",
    "plt.yticks([-1, 0, 1, 10, 50])\n",
    "\n",
    "plt.gca().yaxis.set_major_formatter(FuncFormatter(lambda x, _: f\"{int(x)}\"))\n",
    "\n",
    "# Label each bar with its value\n",
    "font_properties = font_manager.FontProperties(family=\"sans-serif\", weight=\"bold\", size=8)\n",
    "for container in ax.containers:\n",
    "    ax.bar_label(container, fmt=\"%.2f\", padding=2.5, fontproperties=font_properties)\n",
    "\n",
    "plt.title(\"Bitcoin Year-over-Year Returns Over Time\")\n",
    "plt.xlabel(None)\n",
    "plt.ylabel(None)\n",
    "\n",
    "save_chart_as_png(\"2_BTC_YoY_returns\")"
   ]
  },
  {
   "cell_type": "code",
   "execution_count": null,
   "id": "9093ec9f-0b06-4644-a8dd-061184858e89",
   "metadata": {},
   "outputs": [],
   "source": [
    "# Highest YoY return\n",
    "df_btc_yearly.loc[[df_btc_yearly[\"price_change\"].idxmax()]]"
   ]
  },
  {
   "cell_type": "code",
   "execution_count": null,
   "id": "f12cf841-ff35-4ca0-8177-5a5670e209c4",
   "metadata": {},
   "outputs": [],
   "source": [
    "# Lowest YoY return\n",
    "df_btc_yearly.loc[[df_btc_yearly[\"price_change\"].idxmin()]]"
   ]
  },
  {
   "cell_type": "code",
   "execution_count": null,
   "id": "60662cc5-c637-490c-8e21-a1b3d70e5ad7",
   "metadata": {
    "scrolled": true
   },
   "outputs": [],
   "source": [
    "# Create table with YoY returns stats\n",
    "pd.DataFrame({\n",
    "    \"Average YoY return\": [round(df_btc_yearly[\"price_change\"].mean(), 4)],\n",
    "    \"Median YoY return\": [round(df_btc_yearly[\"price_change\"].median(), 4)],\n",
    "    \"Standard deviation\": [round(df_btc_yearly[\"price_change\"].std(), 4)],\n",
    "    \"Min YoY return\": [round(df_btc_yearly[\"price_change\"].min(), 4)],\n",
    "    \"Max YoY return\": [round(df_btc_yearly[\"price_change\"].max(), 4)],\n",
    "    \"Cumulative product YoY return\": [(1 + df_btc_yearly[\"price_change\"]).cumprod().iloc[-1].round(4) - 1],\n",
    "})"
   ]
  },
  {
   "cell_type": "markdown",
   "id": "5a9fd40e-aef3-48f2-b7eb-f31ac42996a7",
   "metadata": {},
   "source": [
    "**Key takeaways:**\n",
    "- ..."
   ]
  },
  {
   "cell_type": "markdown",
   "id": "3b53c7e0-c9f4-48de-ba86-b9ef13824209",
   "metadata": {},
   "source": [
    "### Positive returns phases"
   ]
  },
  {
   "cell_type": "code",
   "execution_count": null,
   "id": "ae95617b-63a3-4480-a19e-c8cf989e6f10",
   "metadata": {},
   "outputs": [],
   "source": [
    "# Add positive returns phase column\n",
    "df_btc_yearly[\"positive_returns_phase\"] = df_btc_yearly.index.map(lambda year:\n",
    "                                                         1 if 2010 <= year <= 2013\n",
    "                                                         else 2 if 2015 <= year <= 2017\n",
    "                                                         else 3 if 2019 <= year <= 2021\n",
    "                                                         else 4 if 2023 <= year <= 2024\n",
    "                                                         else None).astype(\"Int64\")"
   ]
  },
  {
   "cell_type": "code",
   "execution_count": null,
   "id": "95e69bd8-5ee1-49dd-adc2-4e845de81814",
   "metadata": {},
   "outputs": [],
   "source": [
    "# Get total return, max, min, average, median, standard deviation and cumulative product YoY return per positive returns phase\n",
    "df_btc_yearly.groupby(\"positive_returns_phase\").agg(\n",
    "    timeframe=(\"price_change\", lambda x: f\"{x.index.min()}-{x.index.max()}\"),\n",
    "    total_return=(\"price_change\", lambda x: round((df_btc_yearly.loc[x.index[-1]][\"last_price\"] - df_btc_yearly.loc[x.index[0]][\"first_price\"]) / df_btc_yearly.loc[x.index[0]][\"first_price\"], 2)),\n",
    "    avg_yoy_return=(\"price_change\", lambda x: round(x.mean(), 2)),\n",
    "    median_yoy_return=(\"price_change\", lambda x: round(x.median(), 2)),\n",
    "    std_yoy_return=(\"price_change\", lambda x: round(x.std(), 2)),\n",
    "    max_yoy_return=(\"price_change\", lambda x: round(x.max(), 2)),\n",
    "    min_yoy_return=(\"price_change\", lambda x: round(x.min(), 2)),\n",
    "    cumprod_yoy_return=(\"price_change\", lambda x: round((1 + x).cumprod().iloc[-1] - 1, 2))\n",
    ").T"
   ]
  },
  {
   "cell_type": "markdown",
   "id": "3b069974-0a6c-40b6-9baa-6d41992f8bc9",
   "metadata": {},
   "source": [
    "**Key takeaways:**\n",
    "- ..."
   ]
  },
  {
   "cell_type": "markdown",
   "id": "575c3ff9-fc1a-4139-a673-5c30e9a23ce3",
   "metadata": {},
   "source": [
    "## Returns before vs since 2014 ⏳"
   ]
  },
  {
   "cell_type": "code",
   "execution_count": null,
   "id": "69f35ad7-0a69-44dd-b99d-7f9f53036989",
   "metadata": {},
   "outputs": [],
   "source": [
    "# Get data before and since 2014 into separate dfs\n",
    "df_btc_b2014 = df_btc[df_btc.index.year < 2014].copy()\n",
    "df_btc_s2014 = df_btc[df_btc.index.year >= 2014].copy()"
   ]
  },
  {
   "cell_type": "code",
   "execution_count": null,
   "id": "003085ff-dff3-46b4-a31b-dca9ff2fafc0",
   "metadata": {},
   "outputs": [],
   "source": [
    "# Add day number as a column to each df\n",
    "df_btc_b2014[\"day_number\"] = range(1, len(df_btc_b2014) + 1)\n",
    "df_btc_s2014[\"day_number\"] = range(1, len(df_btc_s2014) + 1)"
   ]
  },
  {
   "cell_type": "code",
   "execution_count": null,
   "id": "1f2d867d-6760-4ae3-bbf3-3d3144a00b9c",
   "metadata": {},
   "outputs": [],
   "source": [
    "# Ensure the first price change is set to 0 for each df (to have 100 as the first base 100 price)\n",
    "df_btc_b2014.loc[df_btc_b2014.index[0], \"price_change\"] = 0\n",
    "df_btc_s2014.loc[df_btc_s2014.index[0], \"price_change\"] = 0"
   ]
  },
  {
   "cell_type": "code",
   "execution_count": null,
   "id": "a24c2a4e-c575-4503-8074-67d10c67224c",
   "metadata": {},
   "outputs": [],
   "source": [
    "# Add a base 100 price to each df\n",
    "df_btc_b2014[\"base_100_price\"] = (1 + df_btc_b2014[\"price_change\"]).cumprod() * 100\n",
    "df_btc_s2014[\"base_100_price\"] = (1 + df_btc_s2014[\"price_change\"]).cumprod() * 100"
   ]
  },
  {
   "cell_type": "code",
   "execution_count": null,
   "id": "44c3a6d4-2b97-45b4-ad91-5a84f62bf064",
   "metadata": {},
   "outputs": [],
   "source": [
    "plt.figure(figsize=(10, 6))\n",
    "\n",
    "sns.lineplot(data=df_btc_b2014, x=\"day_number\", y=\"base_100_price\", color=\"#ff5b00\", linewidth=0.75, label=\"Before 2014\")\n",
    "sns.lineplot(data=df_btc_s2014, x=\"day_number\", y=\"base_100_price\", color=\"#00f8ff\", linewidth=0.75, label=\"Since 2014\")\n",
    "\n",
    "plt.yscale(\"log\")\n",
    "plt.xlim(0, 4000)\n",
    "\n",
    "plt.gca().yaxis.set_major_formatter(\n",
    "    FuncFormatter(lambda x, _: (\n",
    "        f\"{int(x)}\" if x < 1000 and x.is_integer() \n",
    "        else f\"{x:.1f}\" if x < 1 \n",
    "        else f\"{int(x / 1000)}K\" if x < 1_000_000 \n",
    "        else f\"{int(x / 1_000_000)}M\"\n",
    "    ))\n",
    ")\n",
    "\n",
    "plt.title(\"Bitcoin Price (Base 100) Over Days: Before vs Since 2014\")\n",
    "plt.xlabel(None)\n",
    "plt.ylabel(None)\n",
    "\n",
    "plt.legend()\n",
    "\n",
    "save_chart_as_png(\"2_BTC_price_2014\")"
   ]
  },
  {
   "cell_type": "code",
   "execution_count": null,
   "id": "0e8c912a-76c2-4fe0-9bbc-49d9054829b5",
   "metadata": {},
   "outputs": [],
   "source": [
    "# Create table with basic stats of both timeframes and the ratio\n",
    "def calculate_stats(df: pd.DataFrame) -> dict[str, float]:\n",
    "    return {\n",
    "        \"Number of days\": df[\"price\"].count(),\n",
    "        \"Final price (base 100)\": round(df.iloc[-1][\"base_100_price\"], 4),\n",
    "        \"Cumulative returns\": round((df[\"price_change\"] + 1).prod() - 1, 4),\n",
    "    }\n",
    "\n",
    "df_tf_stats = pd.DataFrame({\n",
    "    \"Before 2014\": calculate_stats(df_btc_b2014),\n",
    "    \"Since 2014\": calculate_stats(df_btc_s2014),\n",
    "})\n",
    "\n",
    "df_tf_stats[\"Ratio (before / since)\"] = (df_tf_stats[\"Before 2014\"] / df_tf_stats[\"Since 2014\"]).round(4)\n",
    "\n",
    "# Format output to remove scientific notation and make more readable\n",
    "df_tf_stats = df_tf_stats.map(lambda x: f\"{float(x):,.2f}\" if isinstance(x, (int, float)) else x)\n",
    "\n",
    "df_tf_stats.T"
   ]
  },
  {
   "cell_type": "markdown",
   "id": "009d3d5a-022f-4d94-a510-9170ed054a66",
   "metadata": {},
   "source": [
    "**Key takeaways:**\n",
    "- ..."
   ]
  },
  {
   "cell_type": "markdown",
   "id": "f2459b2b-008d-4119-998f-09bbe28c9815",
   "metadata": {},
   "source": [
    "### Distribution of returns (before vs since 2014)"
   ]
  },
  {
   "cell_type": "code",
   "execution_count": null,
   "id": "ac1f734f-af3e-4d56-9b73-81771d8d885b",
   "metadata": {},
   "outputs": [],
   "source": [
    "sym_limit = 0.15\n",
    "df_btc_lim = df_btc.query(f\"{-sym_limit} <= price_change_log <= {sym_limit}\")\n",
    "\n",
    "plt.figure(figsize=(10, 6))\n",
    "\n",
    "sns.histplot(df_btc_lim[df_btc_lim.index.year < 2014][\"price_change_log\"], stat=\"probability\", binwidth=0.01, binrange=(-sym_limit, sym_limit), color=\"#ff5b00\", alpha=3/4, label=\"Before 2014\")\n",
    "sns.histplot(df_btc_lim[df_btc_lim.index.year >= 2014][\"price_change_log\"], stat=\"probability\", binwidth=0.01, binrange=(-sym_limit, sym_limit), color=\"#00f8ff\", alpha=2/3, label=\"Since 2014\")\n",
    "\n",
    "plt.xlim(-sym_limit, sym_limit)\n",
    "\n",
    "plt.title(\"Distribution of Bitcoin Daily Returns\")\n",
    "plt.xlabel(\"Price Change\")\n",
    "plt.ylabel(\"Probability\")\n",
    "plt.legend()\n",
    "\n",
    "save_chart_as_png(\"2_BTC_returns_dist_2014\")"
   ]
  },
  {
   "cell_type": "code",
   "execution_count": null,
   "id": "9881f981",
   "metadata": {},
   "outputs": [],
   "source": [
    "# Create table with stats of both timeframes and the ratio\n",
    "def calculate_stats(df: pd.DataFrame) -> dict[str, float]:\n",
    "    return {\n",
    "        \"Average return\": round(df[\"price_change_log\"].mean(), 4),\n",
    "        \"Median return\": round(df[\"price_change_log\"].median(), 4),\n",
    "        \"Standard deviation\": round(df[\"price_change_log\"].std(), 4),\n",
    "        \"Min return\": round(df[\"price_change_log\"].min(), 4),\n",
    "        \"Max return\": round(df[\"price_change_log\"].max(), 4),\n",
    "        \"Skewness\": round(df[\"price_change_log\"].skew(), 4),\n",
    "        \"Kurtosis\": round(df[\"price_change_log\"].kurt(), 4),\n",
    "    }\n",
    "\n",
    "df_tf_stats = pd.DataFrame({\n",
    "    \"Before 2014\": calculate_stats(df_btc_b2014),\n",
    "    \"Since 2014\": calculate_stats(df_btc_s2014),\n",
    "})\n",
    "\n",
    "df_tf_stats[\"Ratio (before / since)\"] = (df_tf_stats[\"Before 2014\"] / df_tf_stats[\"Since 2014\"]).round(4)\n",
    "df_tf_stats.T"
   ]
  },
  {
   "cell_type": "markdown",
   "id": "09ea96b4-fa1a-457d-bbd9-2bbc2fb60d9e",
   "metadata": {
    "jp-MarkdownHeadingCollapsed": true
   },
   "source": [
    "**Key takeaways:**\n",
    "- ..."
   ]
  },
  {
   "cell_type": "markdown",
   "id": "bc7c4ded-76df-4a62-b3dd-f0c6da1ec481",
   "metadata": {},
   "source": [
    "## Price vs returns 🌀"
   ]
  },
  {
   "cell_type": "code",
   "execution_count": null,
   "id": "d79cab8f-891c-47c4-9c43-d84fff23f1e2",
   "metadata": {},
   "outputs": [],
   "source": [
    "# Get 90-day moving average price\n",
    "df_btc[\"price_90d_ma\"] = df_btc[\"price\"].rolling(window=90).mean()"
   ]
  },
  {
   "cell_type": "code",
   "execution_count": null,
   "id": "cc2576e4-ff55-4e44-8f83-f73a6486289d",
   "metadata": {},
   "outputs": [],
   "source": [
    "plt.figure(figsize=(10, 6))\n",
    "\n",
    "sns.regplot(data=df_btc, x=\"price_90d_ma\", y=\"price_change_log_90d_ma\",\n",
    "            scatter_kws={\"alpha\": 0.7, \"linewidths\": 0.2, \"color\": \"#59b5ec\"},\n",
    "            line_kws={\"color\": \"#ec8f59\"})\n",
    "\n",
    "plt.xscale(\"log\")\n",
    "plt.xlim(0.05, 100_000)\n",
    "\n",
    "plt.gca().xaxis.set_major_formatter(\n",
    "    FuncFormatter(lambda x, _: f\"{int(x)}\" if x < 1000 and x.is_integer()\n",
    "                  else (f\"{x:.1f}\" if x < 1 else f\"{int(x/1000)}K\"))\n",
    ")\n",
    "\n",
    "plt.title(\"Price vs Returns of Bitcoin\")\n",
    "plt.xlabel(\"Average Price (90-day Window)\")\n",
    "plt.ylabel(\"Average Daily Returns (90-day Window)\")\n",
    "\n",
    "save_chart_as_png(\"2_BTC_price_vs_returns\")"
   ]
  },
  {
   "cell_type": "code",
   "execution_count": null,
   "id": "e4682d68-1d7b-48c9-a6cc-3b4dd19bb877",
   "metadata": {},
   "outputs": [],
   "source": [
    "# Pearson correlation coefficient betweent price and returns\n",
    "df_btc[\"price_90d_ma\"].corr(df_btc[\"price_change_log_90d_ma\"]).round(2)"
   ]
  },
  {
   "cell_type": "markdown",
   "id": "ce7f63cc-1b92-4205-bc05-53d847a44c0e",
   "metadata": {},
   "source": [
    "**Key takeaways:**\n",
    "- ..."
   ]
  }
 ],
 "metadata": {
  "kernelspec": {
   "display_name": "Python 3 (ipykernel)",
   "language": "python",
   "name": "python3"
  },
  "language_info": {
   "codemirror_mode": {
    "name": "ipython",
    "version": 3
   },
   "file_extension": ".py",
   "mimetype": "text/x-python",
   "name": "python",
   "nbconvert_exporter": "python",
   "pygments_lexer": "ipython3",
   "version": "3.12.6"
  }
 },
 "nbformat": 4,
 "nbformat_minor": 5
}
