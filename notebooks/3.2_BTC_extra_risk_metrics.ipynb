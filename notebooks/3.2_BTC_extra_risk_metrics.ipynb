{
 "cells": [
  {
   "cell_type": "markdown",
   "id": "1b61cb65-4894-4c18-b92a-6baa8b22c43a",
   "metadata": {},
   "source": [
    "# Analysis of Additional Risk Metrics for Bitcoin"
   ]
  },
  {
   "cell_type": "markdown",
   "id": "cdf9c390-e775-4c5b-9c35-bfeca772eccb",
   "metadata": {},
   "source": [
    "## Setup"
   ]
  },
  {
   "cell_type": "code",
   "execution_count": null,
   "id": "7418b937-21d1-48b7-8f71-fe9cf3a99eda",
   "metadata": {},
   "outputs": [],
   "source": [
    "from matplotlib import font_manager\n",
    "from matplotlib.colors import LinearSegmentedColormap\n",
    "import matplotlib.pyplot as plt\n",
    "import numpy as np\n",
    "import pandas as pd\n",
    "import seaborn as sns"
   ]
  },
  {
   "cell_type": "code",
   "execution_count": null,
   "id": "dc979090-6849-41cc-a2e9-0594f9e13d5f",
   "metadata": {},
   "outputs": [],
   "source": [
    "# Set charts theme\n",
    "sns.set_theme(style=\"darkgrid\", rc={\"grid.alpha\": 0.33})\n",
    "plt.style.use(\"dark_background\")\n",
    "\n",
    "# Save chart as png function\n",
    "def save_chart_as_png(filename: str) -> None:\n",
    "    plt.savefig(\n",
    "        f\"../images/{filename}.png\",\n",
    "        format=\"png\",\n",
    "        dpi=300,\n",
    "        orientation=\"landscape\",\n",
    "        bbox_inches=\"tight\",\n",
    "    )"
   ]
  },
  {
   "cell_type": "code",
   "execution_count": null,
   "id": "749d3fe1-d6e8-4f51-ba47-31da46cbd367",
   "metadata": {},
   "outputs": [],
   "source": [
    "# Get all dfs\n",
    "def get_df(csv_basename: str) -> pd.DataFrame:\n",
    "    # Get df from CSV with date as index\n",
    "    return pd.read_csv(f\"../data/{csv_basename}.csv\", index_col=\"date\", parse_dates=True)\n",
    "\n",
    "df_btc = get_df(\"BTC\")\n",
    "df_us10y = get_df(\"US10Y\")"
   ]
  },
  {
   "cell_type": "markdown",
   "id": "2eeb4914-dc2b-40d1-ac3a-b34858f5869a",
   "metadata": {},
   "source": [
    "## Bitcoin Yearly Risk-Adjusted Returns Over Time ⚖️"
   ]
  },
  {
   "cell_type": "markdown",
   "id": "73e06807-5640-4974-aafc-7f11d2f3a441",
   "metadata": {},
   "source": [
    "### Sharpe Ratio"
   ]
  },
  {
   "cell_type": "code",
   "execution_count": null,
   "id": "32cb5f3d-c44b-4994-9561-a3bd182688ae",
   "metadata": {},
   "outputs": [],
   "source": [
    "# Get YoY returns\n",
    "# Get yearly bitcoin price df with first and last prices\n",
    "df_btc_yearly = df_btc.groupby(df_btc.index.year)[\"price\"].agg(\n",
    "    first_price=\"first\",\n",
    "    last_price=\"last\",\n",
    ")\n",
    "# Get YoY return\n",
    "df_btc_yearly[\"price_change\"] = (df_btc_yearly[\"last_price\"] - df_btc_yearly[\"first_price\"]) / df_btc_yearly[\"first_price\"]"
   ]
  },
  {
   "cell_type": "code",
   "execution_count": null,
   "id": "7c366ea2-eed5-4f6b-9239-3680d1603553",
   "metadata": {},
   "outputs": [],
   "source": [
    "# Get the volatility of monthly returns along with the number of months on yearly df\n",
    "monthly_returns = df_btc[\"price\"].resample(\"ME\").ffill().pct_change() # Resample to monthly (month end)\n",
    "monthly_stats = monthly_returns.groupby(monthly_returns.index.year).agg(\n",
    "    volatility_m=(\"std\"),\n",
    "    num_months=(\"count\"),\n",
    ")\n",
    "df_btc_yearly[[\"volatility_m\", \"num_months\"]] = monthly_stats.reindex(df_btc_yearly.index)"
   ]
  },
  {
   "cell_type": "code",
   "execution_count": null,
   "id": "ce518248-5080-4a2f-931a-af5c888d6c44",
   "metadata": {},
   "outputs": [],
   "source": [
    "# Get risk free rate for each year from the 10-year US treasury yield average\n",
    "df_btc_yearly[\"us10_yield_avg\"] = df_us10y[\"yield\"].groupby(df_us10y.index.year).mean()"
   ]
  },
  {
   "cell_type": "code",
   "execution_count": null,
   "id": "e4b3bd81-83af-472f-889b-725df85e0174",
   "metadata": {},
   "outputs": [],
   "source": [
    "# Calculate Sharpe ratio, except for incomplete years (2010 and 2024)\n",
    "df_btc_yearly.loc[df_btc_yearly[\"num_months\"] == 12, \"sharpe_ratio\"] = round((df_btc_yearly[\"price_change\"] - df_btc_yearly[\"us10_yield_avg\"]) / df_btc_yearly[\"volatility_m\"], 3)"
   ]
  },
  {
   "cell_type": "code",
   "execution_count": null,
   "id": "ec4d6efe-54fa-415b-85c5-67f1067ed166",
   "metadata": {},
   "outputs": [],
   "source": [
    "plt.figure(figsize=(10, 6))\n",
    "\n",
    "# Create a custom palette for positive and negative ratios\n",
    "palette_greens = LinearSegmentedColormap.from_list(\"positive\",[\"#d4c334\", \"#40d434\"])\n",
    "palette_reds = LinearSegmentedColormap.from_list(\"negative\", [\"#d43438\", \"#d47034\"])\n",
    "\n",
    "# Get one barplot for the positive and another for the negative ratios while making sure they are in the correct order\n",
    "ax = sns.barplot(data=df_btc_yearly[df_btc_yearly[\"sharpe_ratio\"] >= 0], x=\"date\", y=\"sharpe_ratio\", order=df_btc_yearly[df_btc_yearly[\"sharpe_ratio\"].notnull()].index, palette=palette_greens, hue=\"sharpe_ratio\", legend=False)\n",
    "ax = sns.barplot(data=df_btc_yearly[df_btc_yearly[\"sharpe_ratio\"] < 0], x=\"date\", y=\"sharpe_ratio\", order=df_btc_yearly[df_btc_yearly[\"sharpe_ratio\"].notnull()].index, palette=palette_reds, hue=\"sharpe_ratio\", legend=False)\n",
    "\n",
    "plt.yticks([-20, -10, 0, 10, 20, 30])\n",
    "\n",
    "# Label each bar with its value\n",
    "font_properties = font_manager.FontProperties(family=\"sans-serif\", weight=\"bold\", size=8)\n",
    "for container in ax.containers:\n",
    "    ax.bar_label(container, fmt=\"%.2f\", padding=2.5, fontproperties=font_properties)\n",
    "\n",
    "plt.title(\"Bitcoin Yearly Sharpe Ratio Over Time\")\n",
    "plt.xlabel(None)\n",
    "plt.ylabel(None)\n",
    "\n",
    "save_chart_as_png(\"3.2_BTC_yearly_sharpe\")"
   ]
  },
  {
   "cell_type": "code",
   "execution_count": null,
   "id": "f7e5d623-493b-4335-beb4-e9b4654c1be0",
   "metadata": {},
   "outputs": [],
   "source": [
    "# Highest yearly Sharpe ratio\n",
    "df_btc_yearly.loc[[df_btc_yearly[\"sharpe_ratio\"].idxmax()]]"
   ]
  },
  {
   "cell_type": "code",
   "execution_count": null,
   "id": "f3edb220-0776-477a-b9a3-bbd36b6d3068",
   "metadata": {},
   "outputs": [],
   "source": [
    "# Lowest yearly Sharpe ratio\n",
    "df_btc_yearly.loc[[df_btc_yearly[\"sharpe_ratio\"].idxmin()]]"
   ]
  },
  {
   "cell_type": "code",
   "execution_count": null,
   "id": "4afda6a7-aba1-4bcf-af9c-c0a5f7e150f8",
   "metadata": {
    "scrolled": true
   },
   "outputs": [],
   "source": [
    "# Create table with yearly Sharpe ratios stats\n",
    "pd.DataFrame({\n",
    "    \"Average yearly Sharpe ratio\": [round(df_btc_yearly[\"sharpe_ratio\"].mean(), 4)],\n",
    "    \"Median yearly Sharpe ratio\": [round(df_btc_yearly[\"sharpe_ratio\"].median(), 4)],\n",
    "    \"Standard deviation\": [round(df_btc_yearly[\"sharpe_ratio\"].std(), 4)],\n",
    "    \"Min yearly Sharpe ratio\": [round(df_btc_yearly[\"sharpe_ratio\"].min(), 4)],\n",
    "    \"Max yearly Sharpe ratio\": [round(df_btc_yearly[\"sharpe_ratio\"].max(), 4)],\n",
    "})"
   ]
  },
  {
   "cell_type": "markdown",
   "id": "5f8feb9c-d737-4ac2-b3f3-cef93a711ed2",
   "metadata": {},
   "source": [
    "**Key takeaways:**\n",
    "- ..."
   ]
  },
  {
   "cell_type": "markdown",
   "id": "b4291f1f-2675-4d96-9684-7b7e671f7dc2",
   "metadata": {},
   "source": [
    "### Sortino Ratio"
   ]
  },
  {
   "cell_type": "code",
   "execution_count": null,
   "id": "aecec1b6-9aa5-4b9e-96e8-601376d19ab7",
   "metadata": {},
   "outputs": [],
   "source": [
    "# Get the volatility of monthly negative returns on yearly df\n",
    "downside_monthly_returns = monthly_returns[monthly_returns < 0]\n",
    "downside_monthly_volatility = downside_monthly_returns.groupby(downside_monthly_returns.index.year).std()\n",
    "df_btc_yearly[\"downside_volatility_m\"] = downside_monthly_volatility.reindex(df_btc_yearly.index)"
   ]
  },
  {
   "cell_type": "code",
   "execution_count": null,
   "id": "782bdd74-5c21-4060-b901-e15b9576770b",
   "metadata": {},
   "outputs": [],
   "source": [
    "# Calculate Sortino ratio, except for incomplete years (2010 and 2024)\n",
    "df_btc_yearly.loc[df_btc_yearly[\"num_months\"] == 12, \"sortino_ratio\"] = round((df_btc_yearly[\"price_change\"] - df_btc_yearly[\"us10_yield_avg\"]) / df_btc_yearly[\"downside_volatility_m\"], 3)"
   ]
  },
  {
   "cell_type": "code",
   "execution_count": null,
   "id": "8408717d-ce5e-4c92-ba39-b9ccfe0bba1e",
   "metadata": {},
   "outputs": [],
   "source": [
    "plt.figure(figsize=(10, 6))\n",
    "\n",
    "# Create a custom palette for positive and negative ratios\n",
    "palette_greens = LinearSegmentedColormap.from_list(\"positive\",[\"#d4c334\", \"#40d434\"])\n",
    "palette_reds = LinearSegmentedColormap.from_list(\"negative\", [\"#d43438\", \"#d47034\"])\n",
    "\n",
    "# Get one barplot for the positive and another for the negative ratios while making sure they are in the correct order\n",
    "ax = sns.barplot(data=df_btc_yearly[df_btc_yearly[\"sortino_ratio\"] >= 0], x=\"date\", y=\"sortino_ratio\", order=df_btc_yearly[df_btc_yearly[\"sortino_ratio\"].notnull()].index, palette=palette_greens, hue=\"sortino_ratio\", legend=False)\n",
    "ax = sns.barplot(data=df_btc_yearly[df_btc_yearly[\"sortino_ratio\"] < 0], x=\"date\", y=\"sortino_ratio\", order=df_btc_yearly[df_btc_yearly[\"sortino_ratio\"].notnull()].index, palette=palette_reds, hue=\"sortino_ratio\", legend=False)\n",
    "\n",
    "plt.yticks([-50, 0, 50, 200, 300])\n",
    "\n",
    "# Label each bar with its value\n",
    "font_properties = font_manager.FontProperties(family=\"sans-serif\", weight=\"bold\", size=8)\n",
    "for container in ax.containers:\n",
    "    ax.bar_label(container, fmt=\"%.2f\", padding=2.5, fontproperties=font_properties)\n",
    "\n",
    "plt.title(\"Bitcoin Yearly Sortino Ratio Over Time\")\n",
    "plt.xlabel(None)\n",
    "plt.ylabel(None)\n",
    "\n",
    "save_chart_as_png(\"3.2_BTC_yearly_sortino\")"
   ]
  },
  {
   "cell_type": "code",
   "execution_count": null,
   "id": "aaa204e3-615e-4215-9948-497689c3b601",
   "metadata": {},
   "outputs": [],
   "source": [
    "# Highest yearly Sortino ratio\n",
    "df_btc_yearly.loc[[df_btc_yearly[\"sortino_ratio\"].idxmax()]]"
   ]
  },
  {
   "cell_type": "code",
   "execution_count": null,
   "id": "c513ddf7-4196-4db7-b9d9-b885c0841eab",
   "metadata": {},
   "outputs": [],
   "source": [
    "# Lowest yearly Sortino ratio\n",
    "df_btc_yearly.loc[[df_btc_yearly[\"sortino_ratio\"].idxmin()]]"
   ]
  },
  {
   "cell_type": "code",
   "execution_count": null,
   "id": "3a42079f-22da-4397-a7c4-9910b16948bd",
   "metadata": {
    "scrolled": true
   },
   "outputs": [],
   "source": [
    "# Create table with yearly Sortino ratios stats\n",
    "pd.DataFrame({\n",
    "    \"Average yearly Sortino ratio\": [round(df_btc_yearly[\"sortino_ratio\"].mean(), 4)],\n",
    "    \"Median yearly Sortino ratio\": [round(df_btc_yearly[\"sortino_ratio\"].median(), 4)],\n",
    "    \"Standard deviation\": [round(df_btc_yearly[\"sortino_ratio\"].std(), 4)],\n",
    "    \"Min yearly Sortino ratio\": [round(df_btc_yearly[\"sortino_ratio\"].min(), 4)],\n",
    "    \"Max yearly Sortino ratio\": [round(df_btc_yearly[\"sortino_ratio\"].max(), 4)],\n",
    "})"
   ]
  },
  {
   "cell_type": "markdown",
   "id": "5184e24d-064d-4d00-bc52-d5212f673129",
   "metadata": {},
   "source": [
    "**Key takeaways:**\n",
    "- ..."
   ]
  },
  {
   "cell_type": "markdown",
   "id": "f16931d6-8f4f-4508-adad-40c107bde800",
   "metadata": {},
   "source": [
    "## Value at Risk (VaR) and Expected Shortfall (CVaR) 🚨"
   ]
  },
  {
   "cell_type": "code",
   "execution_count": null,
   "id": "a3aec108-94da-4d44-be96-1981320d63d9",
   "metadata": {},
   "outputs": [],
   "source": [
    "# Get log price change\n",
    "df_btc[\"price_change_log\"] = np.log(df_btc[\"price\"] / df_btc[\"price\"].shift(1))"
   ]
  },
  {
   "cell_type": "code",
   "execution_count": null,
   "id": "aa9b70a3-de85-4389-9430-512f52e53155",
   "metadata": {},
   "outputs": [],
   "source": [
    "# Calculate VaR and CVaR based for specific aggregated returns and confidence interval\n",
    "def calculate_var_and_cvar(aggregated_returns: pd.Series, confidence_interval: float) -> tuple[float, float]:\n",
    "    # Convert confidence interval to the corresponding percentile for VaR calculation\n",
    "    percentile = (1 - confidence_interval) * 100\n",
    "    \n",
    "    # Calculate the historical VaR as the negative value at the specified percentile of aggregated returns\n",
    "    var = -np.percentile(aggregated_returns, percentile).round(3)\n",
    "    \n",
    "    # Calculate CVaR as the negative mean of returns that are less than or equal to the calculated VaR\n",
    "    cvar = -aggregated_returns[aggregated_returns <= -var].mean().round(3)\n",
    "    \n",
    "    return var, cvar"
   ]
  },
  {
   "cell_type": "code",
   "execution_count": null,
   "id": "ab0de9b5-5d7d-45a3-8896-3252fd09c9e7",
   "metadata": {},
   "outputs": [],
   "source": [
    "# Get three VaR histograms using the list of aggregated returns for each timeframe\n",
    "def show_three_var_histograms(aggregated_returns_list: list[pd.Series], method: str) -> None:\n",
    "    colors = [\"#40e0d0\", \"#4067e0\", \"#6b40e0\"]\n",
    "    titles = [f\"1-quater {method} Returns\", f\"1-year {method} Returns\", f\"5-year {method} Returns\"]\n",
    "    \n",
    "    fig, axes = plt.subplots(1, 3, figsize=(14, 5), sharey=True)\n",
    "    \n",
    "    for i, aggregated_returns in enumerate(aggregated_returns_list):\n",
    "        sns.histplot(aggregated_returns, stat=\"probability\", binwidth=0.1, binrange=(-1, 1), color=colors[i], edgecolor=\"white\", alpha=0.75, ax=axes[i])\n",
    "        \n",
    "        axes[i].axvline(np.percentile(aggregated_returns, 5), color=\"orange\", linewidth=1.5, linestyle=\"--\", label=\"VaR at 95% Confidence Level\")\n",
    "        axes[i].axvline(np.percentile(aggregated_returns, 1), color=\"red\", linewidth=1.5, linestyle=\"--\", label=\"VaR at 99% Confidence Level\")\n",
    "    \n",
    "        axes[i].set_xlim(-1, 1)\n",
    "        axes[i].tick_params(axis=\"both\", labelsize=10) \n",
    "        \n",
    "        axes[i].set_title(f\"Distribution of the {titles[i]}\")\n",
    "        axes[i].set_xlabel(None)\n",
    "        \n",
    "    axes[0].set_ylabel(\"Probability\")\n",
    "    \n",
    "    axes[1].legend(loc=\"upper right\", fontsize=10)\n",
    "    \n",
    "    plt.tight_layout()"
   ]
  },
  {
   "cell_type": "markdown",
   "id": "527a53a8-34c2-4976-ae3b-90ecc587b0fc",
   "metadata": {},
   "source": [
    "### Historical Method"
   ]
  },
  {
   "cell_type": "code",
   "execution_count": null,
   "id": "4a907220-a2db-4ebc-ab98-7e76ff9a3ba1",
   "metadata": {},
   "outputs": [],
   "source": [
    "# Get table with VaR and CVaR for a specific confidence interval for different time horizons using the historical method\n",
    "time_horizons = [90, 365, 1825]\n",
    "aggregated_returns_list = []\n",
    "var_cvar_results = []\n",
    "\n",
    "for time_horizon in time_horizons:\n",
    "    # Calculate the rolling sum of log price changes for the specified time horizon\n",
    "    aggregated_returns = df_btc[\"price_change_log\"].rolling(window=time_horizon).sum().dropna()\n",
    "\n",
    "    # Append aggregated returns to use in histograms\n",
    "    aggregated_returns_list.append(aggregated_returns)\n",
    "    \n",
    "    # Calculate VaR and CVaR using the aggregated returns for 95% and 99% confidence interval\n",
    "    var_95, cvar_95 = calculate_var_and_cvar(aggregated_returns, 0.95)\n",
    "    var_99, cvar_99 = calculate_var_and_cvar(aggregated_returns, 0.99)\n",
    "    \n",
    "    # Append results to the list\n",
    "    var_cvar_results.append({\n",
    "        \"Time Horizon\": f\"{time_horizon} days\",\n",
    "        \"VaR (95%)\": var_95,\n",
    "        \"CVaR (95%)\": cvar_95,\n",
    "        \"VaR (99%)\": var_99,\n",
    "        \"CVaR (99%)\": cvar_99,\n",
    "    })\n",
    "\n",
    "pd.DataFrame(var_cvar_results)"
   ]
  },
  {
   "cell_type": "code",
   "execution_count": null,
   "id": "80c4cd0c-4f91-4ef5-bf71-714ceaf6d279",
   "metadata": {},
   "outputs": [],
   "source": [
    "show_three_var_histograms(aggregated_returns_list, \"Historical\")"
   ]
  },
  {
   "cell_type": "markdown",
   "id": "6c944a6d-b9e2-4b7e-8d39-fbacddbcdd9c",
   "metadata": {},
   "source": [
    "### Monte Carlo Method"
   ]
  },
  {
   "cell_type": "code",
   "execution_count": null,
   "id": "27441834-f4f8-43fa-98e2-62fca73829a1",
   "metadata": {},
   "outputs": [],
   "source": [
    "# Get table with VaR and CVaR for a specific confidence interval for different time horizons using the Monte Carlo method\n",
    "mean = df_btc[\"price_change_log\"].mean()\n",
    "std = df_btc[\"price_change_log\"].std()\n",
    "num_simulations = 10_000\n",
    "\n",
    "time_horizons = [90, 365, 1825]\n",
    "aggregated_returns_list = []\n",
    "var_cvar_results = []\n",
    "\n",
    "for time_horizon in time_horizons:\n",
    "    # Simulate future returns using a normal distribution (output is array of x days by y simulations)\n",
    "    simulated_returns = np.random.normal(mean, std, (num_simulations, time_horizon))\n",
    "    \n",
    "    # Aggregate returns over the time horizon (sum x days of each simulation)\n",
    "    aggregated_returns = simulated_returns.sum(axis=1)\n",
    "\n",
    "    # Append aggregated returns to use in histograms\n",
    "    aggregated_returns_list.append(aggregated_returns)\n",
    "    \n",
    "    # Calculate VaR and CVaR using the aggregated returns for 95% and 99% confidence interval\n",
    "    var_95, cvar_95 = calculate_var_and_cvar(aggregated_returns, 0.95)\n",
    "    var_99, cvar_99 = calculate_var_and_cvar(aggregated_returns, 0.99)\n",
    "    \n",
    "    # Append results to the list\n",
    "    var_cvar_results.append({\n",
    "        \"Time Horizon\": f\"{time_horizon} days\",\n",
    "        \"VaR (95%)\": var_95,\n",
    "        \"CVaR (95%)\": cvar_95,\n",
    "        \"VaR (99%)\": var_99,\n",
    "        \"CVaR (99%)\": cvar_99,\n",
    "    })\n",
    "\n",
    "pd.DataFrame(var_cvar_results)"
   ]
  },
  {
   "cell_type": "code",
   "execution_count": null,
   "id": "b74683b5-c196-4f5e-a9e4-5ca367ab46c0",
   "metadata": {},
   "outputs": [],
   "source": [
    "show_three_var_histograms(aggregated_returns_list, \"Simulated\")"
   ]
  },
  {
   "cell_type": "markdown",
   "id": "be348115-2859-41a2-8b21-9d4f8137a103",
   "metadata": {},
   "source": [
    "### Monte Carlo Method (Using Values Since 2019)"
   ]
  },
  {
   "cell_type": "code",
   "execution_count": null,
   "id": "0cb0b115-89c6-4b0f-8b0e-00d10c0aaab3",
   "metadata": {},
   "outputs": [],
   "source": [
    "# Get table with VaR and CVaR for a specific confidence interval for different time horizons using the Monte Carlo method\n",
    "mean = df_btc[df_btc.index.year >= 2019][\"price_change_log\"].mean()\n",
    "std = df_btc[df_btc.index.year >= 2019][\"price_change_log\"].std()\n",
    "num_simulations = 25_000\n",
    "\n",
    "time_horizons = [90, 365, 1825]\n",
    "aggregated_returns_list = []\n",
    "var_cvar_results = []\n",
    "\n",
    "for time_horizon in time_horizons:\n",
    "    # Simulate future returns using a normal distribution (output is array of x days by y simulations)\n",
    "    simulated_returns = np.random.normal(mean, std, (num_simulations, time_horizon))\n",
    "    \n",
    "    # Aggregate returns over the time horizon (sum x days of each simulation)\n",
    "    aggregated_returns = simulated_returns.sum(axis=1)\n",
    "\n",
    "    # Append aggregated returns to use in histograms\n",
    "    aggregated_returns_list.append(aggregated_returns)\n",
    "    \n",
    "    # Calculate VaR and CVaR using the aggregated returns for 95% and 99% confidence interval\n",
    "    var_95, cvar_95 = calculate_var_and_cvar(aggregated_returns, 0.95)\n",
    "    var_99, cvar_99 = calculate_var_and_cvar(aggregated_returns, 0.99)\n",
    "    \n",
    "    # Append results to the list\n",
    "    var_cvar_results.append({\n",
    "        \"Time Horizon\": f\"{time_horizon} days\",\n",
    "        \"VaR (95%)\": var_95,\n",
    "        \"CVaR (95%)\": cvar_95,\n",
    "        \"VaR (99%)\": var_99,\n",
    "        \"CVaR (99%)\": cvar_99,\n",
    "    })\n",
    "\n",
    "pd.DataFrame(var_cvar_results)"
   ]
  },
  {
   "cell_type": "code",
   "execution_count": null,
   "id": "9357c16d-b950-48f9-acd2-169aa969a6dc",
   "metadata": {},
   "outputs": [],
   "source": [
    "show_three_var_histograms(aggregated_returns_list, \"Simulated\")\n",
    "\n",
    "save_chart_as_png(\"3.2_BTC_var\")"
   ]
  },
  {
   "cell_type": "markdown",
   "id": "6833ba52-0591-4a7c-ba25-48f2d7bd3a62",
   "metadata": {},
   "source": [
    "**Key takeaways:**\n",
    "- ..."
   ]
  }
 ],
 "metadata": {
  "kernelspec": {
   "display_name": "Python 3 (ipykernel)",
   "language": "python",
   "name": "python3"
  },
  "language_info": {
   "codemirror_mode": {
    "name": "ipython",
    "version": 3
   },
   "file_extension": ".py",
   "mimetype": "text/x-python",
   "name": "python",
   "nbconvert_exporter": "python",
   "pygments_lexer": "ipython3",
   "version": "3.12.6"
  }
 },
 "nbformat": 4,
 "nbformat_minor": 5
}
