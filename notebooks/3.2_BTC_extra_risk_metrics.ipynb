{
 "cells": [
  {
   "cell_type": "markdown",
   "id": "1b61cb65-4894-4c18-b92a-6baa8b22c43a",
   "metadata": {},
   "source": [
    "# Analysis of bitcoin's additional risk metrics"
   ]
  },
  {
   "cell_type": "markdown",
   "id": "cdf9c390-e775-4c5b-9c35-bfeca772eccb",
   "metadata": {},
   "source": [
    "## Setup"
   ]
  },
  {
   "cell_type": "code",
   "execution_count": null,
   "id": "7418b937-21d1-48b7-8f71-fe9cf3a99eda",
   "metadata": {},
   "outputs": [],
   "source": [
    "import matplotlib.pyplot as plt\n",
    "import numpy as np\n",
    "import pandas as pd\n",
    "import seaborn as sns"
   ]
  },
  {
   "cell_type": "code",
   "execution_count": null,
   "id": "dc979090-6849-41cc-a2e9-0594f9e13d5f",
   "metadata": {},
   "outputs": [],
   "source": [
    "# Set charts theme\n",
    "sns.set_theme(style=\"darkgrid\", rc={\"grid.alpha\": 0.33})\n",
    "plt.style.use(\"dark_background\")\n",
    "\n",
    "# Save chart as png function\n",
    "def save_chart_as_png(filename: str) -> None:\n",
    "    plt.savefig(\n",
    "        f\"../images/{filename}.png\",\n",
    "        format=\"png\",\n",
    "        dpi=300,\n",
    "        orientation=\"landscape\",\n",
    "        bbox_inches=\"tight\",\n",
    "    )"
   ]
  },
  {
   "cell_type": "code",
   "execution_count": null,
   "id": "749d3fe1-d6e8-4f51-ba47-31da46cbd367",
   "metadata": {},
   "outputs": [],
   "source": [
    "# Get all dfs\n",
    "def get_df(csv_basename: str) -> pd.DataFrame:\n",
    "    # Get df from CSV with date as index\n",
    "    return pd.read_csv(f\"../data/{csv_basename}.csv\", index_col=\"date\", parse_dates=True)\n",
    "\n",
    "df_btc = get_df(\"BTC\")\n",
    "df_us10y = get_df(\"US10Y\")"
   ]
  },
  {
   "cell_type": "markdown",
   "id": "2eeb4914-dc2b-40d1-ac3a-b34858f5869a",
   "metadata": {},
   "source": [
    "## Yearly risk-adjusted returns across time ⚖️"
   ]
  },
  {
   "cell_type": "markdown",
   "id": "73e06807-5640-4974-aafc-7f11d2f3a441",
   "metadata": {},
   "source": [
    "### Sharpe ratio"
   ]
  },
  {
   "cell_type": "code",
   "execution_count": null,
   "id": "32cb5f3d-c44b-4994-9561-a3bd182688ae",
   "metadata": {},
   "outputs": [],
   "source": [
    "# Get YoY returns\n",
    "# Get yearly bitcoin price df with first and last prices\n",
    "df_btc_yearly = df_btc.groupby(df_btc.index.year)[\"price\"].agg(\n",
    "    first_price=\"first\",\n",
    "    last_price=\"last\",\n",
    ")\n",
    "# Get YoY return\n",
    "df_btc_yearly[\"price_change\"] = (df_btc_yearly[\"last_price\"] - df_btc_yearly[\"first_price\"]) / df_btc_yearly[\"first_price\"]"
   ]
  },
  {
   "cell_type": "code",
   "execution_count": null,
   "id": "7c366ea2-eed5-4f6b-9239-3680d1603553",
   "metadata": {},
   "outputs": [],
   "source": [
    "# Get the volatility of monthly returns along with the number of months on yearly df\n",
    "monthly_returns = df_btc[\"price\"].resample(\"ME\").ffill().pct_change() # Resample to monthly (month end)\n",
    "monthly_stats = monthly_returns.groupby(monthly_returns.index.year).agg(\n",
    "    volatility_m=(\"std\"),\n",
    "    num_months=(\"count\"),\n",
    ")\n",
    "df_btc_yearly[[\"volatility_m\", \"num_months\"]] = monthly_stats.reindex(df_btc_yearly.index)"
   ]
  },
  {
   "cell_type": "code",
   "execution_count": null,
   "id": "ce518248-5080-4a2f-931a-af5c888d6c44",
   "metadata": {},
   "outputs": [],
   "source": [
    "# Get risk free rate for each year from the 10-year US treasury yield average\n",
    "df_btc_yearly[\"us10_yield_avg\"] = df_us10y[\"yield\"].groupby(df_us10y.index.year).mean()"
   ]
  },
  {
   "cell_type": "code",
   "execution_count": null,
   "id": "e4b3bd81-83af-472f-889b-725df85e0174",
   "metadata": {},
   "outputs": [],
   "source": [
    "# Calculate Sharpe ratio, except for incomplete years (2010 and 2024)\n",
    "df_btc_yearly.loc[df_btc_yearly[\"num_months\"] == 12, \"sharpe_ratio\"] = round((df_btc_yearly[\"price_change\"] - df_btc_yearly[\"us10_yield_avg\"]) / df_btc_yearly[\"volatility_m\"], 3)"
   ]
  },
  {
   "cell_type": "code",
   "execution_count": null,
   "id": "ec4d6efe-54fa-415b-85c5-67f1067ed166",
   "metadata": {},
   "outputs": [],
   "source": [
    "plt.figure(figsize=(10, 6))\n",
    "\n",
    "sns.barplot(data=df_btc_yearly[df_btc_yearly[\"sharpe_ratio\"].notnull()], x=\"date\", y=\"sharpe_ratio\", color=\"lightblue\")\n",
    "\n",
    "plt.title(\"Yearly Sharpe ratio of bitcoin across time\")\n",
    "plt.xlabel(\"\")\n",
    "plt.ylabel(\"\")\n",
    "\n",
    "plt.yticks([-15, -5, 0, 5, 10, 40])\n",
    "\n",
    "save_chart_as_png(\"3.2_BTC_yearly_sharpe\")"
   ]
  },
  {
   "cell_type": "code",
   "execution_count": null,
   "id": "f7e5d623-493b-4335-beb4-e9b4654c1be0",
   "metadata": {},
   "outputs": [],
   "source": [
    "# Highest yearly Sharpe ratio\n",
    "df_btc_yearly.loc[[df_btc_yearly[\"sharpe_ratio\"].idxmax()]]"
   ]
  },
  {
   "cell_type": "code",
   "execution_count": null,
   "id": "f3edb220-0776-477a-b9a3-bbd36b6d3068",
   "metadata": {},
   "outputs": [],
   "source": [
    "# Lowest yearly Sharpe ratio\n",
    "df_btc_yearly.loc[[df_btc_yearly[\"sharpe_ratio\"].idxmin()]]"
   ]
  },
  {
   "cell_type": "code",
   "execution_count": null,
   "id": "4afda6a7-aba1-4bcf-af9c-c0a5f7e150f8",
   "metadata": {
    "scrolled": true
   },
   "outputs": [],
   "source": [
    "# Create table with yearly Sharpe ratios stats\n",
    "pd.DataFrame({\n",
    "    \"Average yearly Sharpe ratio\": [round(df_btc_yearly[\"sharpe_ratio\"].mean(), 4)],\n",
    "    \"Median yearly Sharpe ratio\": [round(df_btc_yearly[\"sharpe_ratio\"].median(), 4)],\n",
    "    \"Standard deviation\": [round(df_btc_yearly[\"sharpe_ratio\"].std(), 4)],\n",
    "    \"Min yearly Sharpe ratio\": [round(df_btc_yearly[\"sharpe_ratio\"].min(), 4)],\n",
    "    \"Max yearly Sharpe ratio\": [round(df_btc_yearly[\"sharpe_ratio\"].max(), 4)],\n",
    "})"
   ]
  },
  {
   "cell_type": "markdown",
   "id": "91a3f3ba-04f9-42e1-b6bd-149af5b9df2f",
   "metadata": {},
   "source": [
    "**Key takeaways:**\n",
    "- ..."
   ]
  },
  {
   "cell_type": "markdown",
   "id": "b4291f1f-2675-4d96-9684-7b7e671f7dc2",
   "metadata": {},
   "source": [
    "### Sortino ratio"
   ]
  },
  {
   "cell_type": "code",
   "execution_count": null,
   "id": "aecec1b6-9aa5-4b9e-96e8-601376d19ab7",
   "metadata": {},
   "outputs": [],
   "source": [
    "# Get the volatility of monthly negative returns on yearly df\n",
    "downside_monthly_returns = monthly_returns[monthly_returns < 0]\n",
    "downside_monthly_volatility = downside_monthly_returns.groupby(downside_monthly_returns.index.year).std()\n",
    "df_btc_yearly[\"downside_volatility_m\"] = downside_monthly_volatility.reindex(df_btc_yearly.index)"
   ]
  },
  {
   "cell_type": "code",
   "execution_count": null,
   "id": "782bdd74-5c21-4060-b901-e15b9576770b",
   "metadata": {},
   "outputs": [],
   "source": [
    "# Calculate Sortino ratio, except for incomplete years (2010 and 2024)\n",
    "df_btc_yearly.loc[df_btc_yearly[\"num_months\"] == 12, \"sortino_ratio\"] = round((df_btc_yearly[\"price_change\"] - df_btc_yearly[\"us10_yield_avg\"]) / df_btc_yearly[\"downside_volatility_m\"], 3)"
   ]
  },
  {
   "cell_type": "code",
   "execution_count": null,
   "id": "8408717d-ce5e-4c92-ba39-b9ccfe0bba1e",
   "metadata": {},
   "outputs": [],
   "source": [
    "plt.figure(figsize=(10, 6))\n",
    "\n",
    "sns.barplot(data=df_btc_yearly[df_btc_yearly[\"sortino_ratio\"].notnull()], x=\"date\", y=\"sortino_ratio\", color=\"lime\")\n",
    "\n",
    "plt.title(\"Yearly Sortino ratio of bitcoin across time\")\n",
    "plt.xlabel(\"\")\n",
    "plt.ylabel(\"\")\n",
    "\n",
    "#plt.yscale(\"symlog\")\n",
    "\n",
    "plt.yticks([-100, -25, 0, 25, 100, 200, 350])\n",
    "\n",
    "save_chart_as_png(\"3.2_BTC_yearly_sortino\")"
   ]
  },
  {
   "cell_type": "code",
   "execution_count": null,
   "id": "aaa204e3-615e-4215-9948-497689c3b601",
   "metadata": {},
   "outputs": [],
   "source": [
    "# Highest yearly Sortino ratio\n",
    "df_btc_yearly.loc[[df_btc_yearly[\"sortino_ratio\"].idxmax()]]"
   ]
  },
  {
   "cell_type": "code",
   "execution_count": null,
   "id": "c513ddf7-4196-4db7-b9d9-b885c0841eab",
   "metadata": {},
   "outputs": [],
   "source": [
    "# Lowest yearly Sortino ratio\n",
    "df_btc_yearly.loc[[df_btc_yearly[\"sortino_ratio\"].idxmin()]]"
   ]
  },
  {
   "cell_type": "code",
   "execution_count": null,
   "id": "3a42079f-22da-4397-a7c4-9910b16948bd",
   "metadata": {
    "scrolled": true
   },
   "outputs": [],
   "source": [
    "# Create table with yearly Sortino ratios stats\n",
    "pd.DataFrame({\n",
    "    \"Average yearly Sortino ratio\": [round(df_btc_yearly[\"sortino_ratio\"].mean(), 4)],\n",
    "    \"Median yearly Sortino ratio\": [round(df_btc_yearly[\"sortino_ratio\"].median(), 4)],\n",
    "    \"Standard deviation\": [round(df_btc_yearly[\"sortino_ratio\"].std(), 4)],\n",
    "    \"Min yearly Sortino ratio\": [round(df_btc_yearly[\"sortino_ratio\"].min(), 4)],\n",
    "    \"Max yearly Sortino ratio\": [round(df_btc_yearly[\"sortino_ratio\"].max(), 4)],\n",
    "})"
   ]
  },
  {
   "cell_type": "markdown",
   "id": "fb7d9dd4-8d2c-40ae-bbd0-41e32c049907",
   "metadata": {},
   "source": [
    "**Key takeaways:**\n",
    "- ..."
   ]
  },
  {
   "cell_type": "markdown",
   "id": "f16931d6-8f4f-4508-adad-40c107bde800",
   "metadata": {},
   "source": [
    "## Value at risk (VaR) 🚨"
   ]
  },
  {
   "cell_type": "markdown",
   "id": "527a53a8-34c2-4976-ae3b-90ecc587b0fc",
   "metadata": {},
   "source": [
    "### Historical method"
   ]
  },
  {
   "cell_type": "code",
   "execution_count": null,
   "id": "a3aec108-94da-4d44-be96-1981320d63d9",
   "metadata": {},
   "outputs": [],
   "source": [
    "# Get log price change\n",
    "df_btc[\"price_change_log\"] = np.log(df_btc[\"price\"] / df_btc[\"price\"].shift(1))"
   ]
  },
  {
   "cell_type": "code",
   "execution_count": null,
   "id": "f8023248-e1d1-4a9e-af49-f1ee498b61d8",
   "metadata": {},
   "outputs": [],
   "source": [
    "# Create a table with 95% and 99% confidence interval VaR for different time horizons\n",
    "def calculate_hist_var(time_horizon_days: int, confidence_interval: float) -> float:\n",
    "    # Aggregate log returns over the specified time horizon\n",
    "    aggregated_returns = df_btc[\"price_change_log\"].rolling(window=time_horizon_days).sum().dropna()\n",
    "\n",
    "    # Convert confidence interval to corresponding percentile\n",
    "    percentile = (1 - confidence_interval) * 100\n",
    "\n",
    "    # Calculate the historical VaR as the value at the specified percentile of aggregated returns\n",
    "    return -np.percentile(aggregated_returns, percentile).round(2)\n",
    "\n",
    "confidence_intervals = [0.95, 0.99]\n",
    "\n",
    "pd.DataFrame({\n",
    "    \"Confidence Interval\": confidence_intervals,\n",
    "    \"1-month VaR\": [calculate_hist_var(30, ci) for ci in confidence_intervals],\n",
    "    \"1-quarter VaR\": [calculate_hist_var(90, ci) for ci in confidence_intervals],\n",
    "    \"1-year VaR\": [calculate_hist_var(365, ci) for ci in confidence_intervals],\n",
    "})"
   ]
  },
  {
   "cell_type": "code",
   "execution_count": null,
   "id": "ab0de9b5-5d7d-45a3-8896-3252fd09c9e7",
   "metadata": {},
   "outputs": [],
   "source": [
    "fig, axes = plt.subplots(1, 3, figsize=(14, 6), sharey=True)\n",
    "\n",
    "time_horizons_days = [30, 90, 365]\n",
    "colors = [\"turquoise\", \"purple\", \"green\"]\n",
    "titles = [\"30-day historical returns\", \"90-day historical returns\", \"365-day historical returns\"]\n",
    "\n",
    "for i, time_horizon_days in enumerate(time_horizons_days):\n",
    "    aggregated_returns = df_btc[\"price_change_log\"].rolling(window=time_horizon_days).sum().dropna()\n",
    "    \n",
    "    sns.histplot(aggregated_returns, stat=\"probability\", binwidth=0.1, binrange=(-1, 1), color=colors[i], edgecolor=\"white\", alpha=0.75, ax=axes[i])\n",
    "    axes[i].axvline(np.percentile(aggregated_returns, 5), color=\"orange\", linewidth=1.5, linestyle=\"--\", label=\"VaR at 95% confidence level\")\n",
    "    axes[i].axvline(np.percentile(aggregated_returns, 1), color=\"red\", linewidth=1.5, linestyle=\"--\", label=\"VaR at 99% confidence level\")\n",
    "    \n",
    "    axes[i].set_title(f\"Distribution of the {titles[i]}\")\n",
    "    axes[i].set_xlabel(\"\")\n",
    "    \n",
    "    axes[i].set_xlim(-1, 1)\n",
    "\n",
    "axes[0].set_ylabel(\"Probability\")\n",
    "axes[2].legend(loc=\"upper right\")\n",
    "\n",
    "plt.tight_layout()"
   ]
  },
  {
   "cell_type": "markdown",
   "id": "fc6224b5-3502-4d5e-a535-9536a36a70a2",
   "metadata": {},
   "source": [
    "**Key takeaways:**\n",
    "- ..."
   ]
  },
  {
   "cell_type": "markdown",
   "id": "6c944a6d-b9e2-4b7e-8d39-fbacddbcdd9c",
   "metadata": {},
   "source": [
    "### Monte Carlo method"
   ]
  },
  {
   "cell_type": "code",
   "execution_count": null,
   "id": "69869cce-1eae-4fb3-9e9b-22ccab5ee0a2",
   "metadata": {},
   "outputs": [],
   "source": [
    "# Create a table with 95% and 99% confidence interval VaR for different time horizons\n",
    "def calculate_monte_carlo_var(mean: float, std: float, num_simulations: int, time_horizon_days: int, confidence_interval: float) -> float:\n",
    "    # Simulate future returns using a normal distribution (output is array of x days by y simulations)\n",
    "    simulated_returns = np.random.normal(mean, std, (num_simulations, time_horizon_days))\n",
    "    \n",
    "    # Aggregate returns over the time horizon (sum x days of each simulation)\n",
    "    aggregated_returns = simulated_returns.sum(axis=1)\n",
    "\n",
    "    # Convert confidence interval to corresponding percentile\n",
    "    percentile = (1 - confidence_interval) * 100\n",
    "\n",
    "    # Calculate VaR as the value at the specified percentile of simulated returns\n",
    "    return -np.percentile(aggregated_returns, percentile).round(2)\n",
    "    \n",
    "mean = df_btc[\"price_change_log\"].mean()\n",
    "std = df_btc[\"price_change_log\"].std()\n",
    "num_simulations = 10_000\n",
    "confidence_intervals = [0.95, 0.99]\n",
    "\n",
    "pd.DataFrame({\n",
    "    \"Confidence Interval\": confidence_intervals,\n",
    "    \"1-month VaR\": [calculate_monte_carlo_var(mean, std, num_simulations, 30, ci) for ci in confidence_intervals],\n",
    "    \"1-quarter VaR\": [calculate_monte_carlo_var(mean, std, num_simulations, 90, ci) for ci in confidence_intervals],\n",
    "    \"1-year VaR\": [calculate_monte_carlo_var(mean, std, num_simulations, 365, ci) for ci in confidence_intervals],\n",
    "})"
   ]
  },
  {
   "cell_type": "code",
   "execution_count": null,
   "id": "1389a8bb-ffd5-4b89-b9b2-4ac0f898454a",
   "metadata": {},
   "outputs": [],
   "source": [
    "fig, axes = plt.subplots(1, 3, figsize=(14, 6), sharey=True)\n",
    "\n",
    "mean = df_btc[\"price_change_log\"].mean()\n",
    "std = df_btc[\"price_change_log\"].std()\n",
    "num_simulations = 10_000\n",
    "time_horizons_days = [30, 90, 365]\n",
    "colors = [\"turquoise\", \"purple\", \"green\"]\n",
    "titles = [\"30-day simulated returns\", \"90-day simulated returns\", \"365-day simulated returns\"]\n",
    "\n",
    "for i, time_horizon_days in enumerate(time_horizons_days):\n",
    "    simulated_returns = np.random.normal(mean, std, (num_simulations, time_horizon_days))  \n",
    "    aggregated_returns = simulated_returns.sum(axis=1)\n",
    "    \n",
    "    sns.histplot(aggregated_returns, stat=\"probability\", binwidth=0.1, binrange=(-1, 1), color=colors[i], edgecolor=\"white\", alpha=0.75, ax=axes[i])\n",
    "    axes[i].axvline(np.percentile(aggregated_returns, 5), color=\"orange\", linewidth=1.5, linestyle=\"--\", label=\"VaR at 95% confidence level\")\n",
    "    axes[i].axvline(np.percentile(aggregated_returns, 1), color=\"red\", linewidth=1.5, linestyle=\"--\", label=\"VaR at 99% confidence level\")\n",
    "    \n",
    "    axes[i].set_title(f\"Distribution of the {titles[i]}\")\n",
    "    axes[i].set_xlabel(\"\")\n",
    "    \n",
    "    axes[i].set_xlim(-1, 1)\n",
    "\n",
    "axes[0].set_ylabel(\"Probability\")\n",
    "axes[2].legend(loc=\"upper right\")\n",
    "\n",
    "plt.tight_layout()"
   ]
  },
  {
   "cell_type": "markdown",
   "id": "f9c024b8-d909-45b7-9bfc-d53f212ef98c",
   "metadata": {},
   "source": [
    "**Key takeaways:**\n",
    "- ..."
   ]
  },
  {
   "cell_type": "markdown",
   "id": "e3ba2258-13bb-4cc0-b44f-aa92cbfccb90",
   "metadata": {},
   "source": [
    "### Conditional value at risk (CVaR) (or expected shortfall)"
   ]
  },
  {
   "cell_type": "code",
   "execution_count": null,
   "id": "b08f2c7d-50bd-4b44-adfe-9d234b359ccf",
   "metadata": {},
   "outputs": [],
   "source": [
    "# Create a table with 95% and 99% confidence interval CVaR for different time horizons\n",
    "def calculate_monte_carlo_cvar(mean: float, std: float, num_simulations: int, time_horizon_days: int, confidence_interval: float) -> float:\n",
    "    # Simulate future returns using a normal distribution (output is array of x days by y simulations)\n",
    "    simulated_returns = np.random.normal(mean, std, (num_simulations, time_horizon_days))\n",
    "    \n",
    "    # Aggregate returns over the time horizon (sum x days of each simulation)\n",
    "    aggregated_returns = simulated_returns.sum(axis=1)\n",
    "\n",
    "    # Convert confidence interval to corresponding percentile\n",
    "    percentile = (1 - confidence_interval) * 100\n",
    "\n",
    "    # Calculate VaR as the value at the specified percentile of simulated returns\n",
    "    var = np.percentile(aggregated_returns, percentile).round(2)\n",
    "\n",
    "    # Calculate CVaR as the mean of all returns below the VaR threshold\n",
    "    return -aggregated_returns[aggregated_returns <= var].mean()\n",
    "    \n",
    "mean = df_btc[\"price_change_log\"].mean()\n",
    "std = df_btc[\"price_change_log\"].std()\n",
    "num_simulations = 10_000\n",
    "confidence_intervals = [0.95, 0.99]\n",
    "\n",
    "pd.DataFrame({\n",
    "    \"Confidence Interval\": confidence_intervals,\n",
    "    \"1-month CVaR\": [calculate_monte_carlo_cvar(mean, std, num_simulations, 30, ci) for ci in confidence_intervals],\n",
    "    \"1-quarter CVaR\": [calculate_monte_carlo_cvar(mean, std, num_simulations, 90, ci) for ci in confidence_intervals],\n",
    "    \"1-year CVaR\": [calculate_monte_carlo_cvar(mean, std, num_simulations, 365, ci) for ci in confidence_intervals],\n",
    "})"
   ]
  },
  {
   "cell_type": "markdown",
   "id": "57930177-5d40-4243-b009-4b5055f1968f",
   "metadata": {},
   "source": [
    "**Key takeaways:**\n",
    "- ..."
   ]
  }
 ],
 "metadata": {
  "kernelspec": {
   "display_name": "Python 3 (ipykernel)",
   "language": "python",
   "name": "python3"
  },
  "language_info": {
   "codemirror_mode": {
    "name": "ipython",
    "version": 3
   },
   "file_extension": ".py",
   "mimetype": "text/x-python",
   "name": "python",
   "nbconvert_exporter": "python",
   "pygments_lexer": "ipython3",
   "version": "3.12.6"
  }
 },
 "nbformat": 4,
 "nbformat_minor": 5
}
