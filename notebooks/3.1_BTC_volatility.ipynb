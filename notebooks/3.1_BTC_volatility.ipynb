{
 "cells": [
  {
   "cell_type": "markdown",
   "id": "3c24784f-b740-4507-846e-4894c779fcfe",
   "metadata": {},
   "source": [
    "# Analysis of the Volatility of Bitcoin"
   ]
  },
  {
   "cell_type": "markdown",
   "id": "1dfe9bda-7c25-4ca0-a05f-1127e1d18330",
   "metadata": {},
   "source": [
    "## Setup"
   ]
  },
  {
   "cell_type": "code",
   "execution_count": null,
   "id": "5077fb31-e640-4e10-876c-86553d6f1635",
   "metadata": {},
   "outputs": [],
   "source": [
    "from adjustText import adjust_text\n",
    "import matplotlib.colorbar as mpl_cbar\n",
    "import matplotlib.colors as mpl_cols\n",
    "import matplotlib.pyplot as plt\n",
    "from matplotlib.ticker import FuncFormatter\n",
    "import numpy as np\n",
    "import pandas as pd\n",
    "import seaborn as sns\n",
    "from scipy import signal"
   ]
  },
  {
   "cell_type": "code",
   "execution_count": null,
   "id": "02ba9b5c-2eec-41d0-baba-2be56828a4ec",
   "metadata": {},
   "outputs": [],
   "source": [
    "# Set charts theme\n",
    "sns.set_theme(style=\"darkgrid\", rc={\"grid.alpha\": 0.33})\n",
    "plt.style.use(\"dark_background\")\n",
    "\n",
    "# Save chart as png function\n",
    "def save_chart_as_png(filename: str) -> None:\n",
    "    plt.savefig(\n",
    "        f\"../images/{filename}.png\",\n",
    "        format=\"png\",\n",
    "        dpi=300,\n",
    "        orientation=\"landscape\",\n",
    "        bbox_inches=\"tight\",\n",
    "    )"
   ]
  },
  {
   "cell_type": "code",
   "execution_count": null,
   "id": "b93527a2-463d-41e2-8f17-2c731cd70a0b",
   "metadata": {},
   "outputs": [],
   "source": [
    "# Get all dfs\n",
    "def get_df(csv_basename: str) -> pd.DataFrame:\n",
    "    # Get df from CSV with date as index\n",
    "    return pd.read_csv(f\"../data/{csv_basename}.csv\", index_col=\"date\", parse_dates=True)\n",
    "\n",
    "df_btc = get_df(\"BTC\")\n",
    "df_sp500 = get_df(\"SP500\")\n",
    "df_us10y = get_df(\"US10Y\")\n",
    "df_au = get_df(\"AU\")\n",
    "df_wti = get_df(\"WTI\")\n",
    "df_chf = get_df(\"CHF\")"
   ]
  },
  {
   "cell_type": "markdown",
   "id": "7cb182d8-7d3f-417f-a1bb-bd023ed4a6a6",
   "metadata": {},
   "source": [
    "## Bitcoin Volatility Over Time 🎢"
   ]
  },
  {
   "cell_type": "code",
   "execution_count": null,
   "id": "a3aec108-94da-4d44-be96-1981320d63d9",
   "metadata": {},
   "outputs": [],
   "source": [
    "# Get log price change\n",
    "df_btc[\"price_change_log\"] = np.log(df_btc[\"price\"] / df_btc[\"price\"].shift(1))"
   ]
  },
  {
   "cell_type": "code",
   "execution_count": null,
   "id": "a7f29359-846d-434d-a679-a3e7a0ae8213",
   "metadata": {},
   "outputs": [],
   "source": [
    "# Biggest price changes\n",
    "df_btc.loc[df_btc[\"price_change_log\"].abs().sort_values(ascending=False).head(10).index, [\"price_change_log\"]].T"
   ]
  },
  {
   "cell_type": "code",
   "execution_count": null,
   "id": "c7ff6cf3-6914-4717-b2a0-ed6656d0e15b",
   "metadata": {},
   "outputs": [],
   "source": [
    "# Get 90-day and 1-year volatility with the exponentially weighted moving average (EWMA) method\n",
    "df_btc[\"volatility_90d\"] = df_btc[\"price_change_log\"].ewm(span=90).std()\n",
    "df_btc[\"volatility_1y\"] = df_btc[\"price_change_log\"].ewm(span=365).std()"
   ]
  },
  {
   "cell_type": "code",
   "execution_count": null,
   "id": "033ade02-2db2-4b7b-86c1-2e423fd7f058",
   "metadata": {},
   "outputs": [],
   "source": [
    "# Change first cycle values to NaN to avoid having unreliable volatility measures\n",
    "df_btc.loc[:df_btc.index[89], \"volatility_90d\"] = np.nan\n",
    "df_btc.loc[:df_btc.index[364], \"volatility_1y\"] = np.nan"
   ]
  },
  {
   "cell_type": "code",
   "execution_count": null,
   "id": "441bf149-8e87-4c96-b0e1-e16da7d0796e",
   "metadata": {},
   "outputs": [],
   "source": [
    "plt.figure(figsize=(10, 6))\n",
    "\n",
    "sns.lineplot(data=df_btc, x=df_btc.index, y=\"volatility_90d\", label=\"90-day Volatility\", color=\"#00ff01\", linewidth=0.75)\n",
    "sns.lineplot(data=df_btc, x=df_btc.index, y=\"volatility_1y\", label=\"1-year Volatility\", color=\"#ff0007\", linewidth=1)\n",
    "\n",
    "plt.title(\"Bitcoin Price Volatility Over Time\")\n",
    "plt.xlabel(None)\n",
    "plt.ylabel(None)\n",
    "\n",
    "save_chart_as_png(\"3.1_BTC_vlt\")"
   ]
  },
  {
   "cell_type": "code",
   "execution_count": null,
   "id": "b52610d5-6107-4a7a-8ec5-5e0f65de1bdd",
   "metadata": {},
   "outputs": [],
   "source": [
    "# All-time high 1-year volatility\n",
    "ath_date = df_btc[\"volatility_1y\"].idxmax()\n",
    "df_btc.loc[[ath_date], [\"price\", \"volatility_1y\"]]"
   ]
  },
  {
   "cell_type": "code",
   "execution_count": null,
   "id": "38a0c4ac-d194-4f6c-ad14-758710652379",
   "metadata": {},
   "outputs": [],
   "source": [
    "# All-time low 1-year volatility\n",
    "atl_date = df_btc[\"volatility_1y\"].idxmin()\n",
    "df_btc.loc[[atl_date], [\"price\", \"volatility_1y\"]]"
   ]
  },
  {
   "cell_type": "code",
   "execution_count": null,
   "id": "b11eccbe-a51f-4f09-bc86-a6e0cc2f6a00",
   "metadata": {},
   "outputs": [],
   "source": [
    "# Top 5 peaks of 1-year volatility\n",
    "peaks, _ = signal.find_peaks(df_btc[\"volatility_1y\"], distance=500)\n",
    "df_btc.iloc[peaks].nlargest(5, \"volatility_1y\").sort_values(\"date\")[[\"volatility_1y\"]].T"
   ]
  },
  {
   "cell_type": "code",
   "execution_count": null,
   "id": "d499f834-bd4d-4031-b00b-319315ba2bc0",
   "metadata": {},
   "outputs": [],
   "source": [
    "# Top 5 valleys of 1-year volatility\n",
    "valleys, _ = signal.find_peaks(-df_btc[\"volatility_1y\"], distance=500)\n",
    "df_btc.iloc[valleys].nsmallest(5, \"volatility_1y\").sort_values(\"date\")[[\"volatility_1y\"]].T"
   ]
  },
  {
   "cell_type": "code",
   "execution_count": null,
   "id": "73eb7e1b-30e4-4d35-8295-e41c320e2cd5",
   "metadata": {},
   "outputs": [],
   "source": [
    "# Average 1-year volatility\n",
    "df_btc[\"volatility_1y\"].mean().round(3)"
   ]
  },
  {
   "cell_type": "markdown",
   "id": "f3f26fbf-a226-457b-beba-c9c73c667a8d",
   "metadata": {},
   "source": [
    "**Key takeaways:**\n",
    "- ..."
   ]
  },
  {
   "cell_type": "markdown",
   "id": "b0176529-e539-4f9f-856d-46337079e721",
   "metadata": {},
   "source": [
    "### Comparison of Volatility With Other Assets"
   ]
  },
  {
   "cell_type": "code",
   "execution_count": null,
   "id": "7f64ad57-1dfa-4f46-ae63-acf6e4e4f60c",
   "metadata": {},
   "outputs": [],
   "source": [
    "# Resample all dfs to weekly frequency, to be able to compare with bitcoin's 365 trading days, and also make sure other dfs start at the same point of btc df.\n",
    "df_btc_w = df_btc[[\"price\"]].resample(\"W\").mean()\n",
    "df_sp500_w = df_sp500.loc[df_sp500.index >= df_btc.index.min()].resample(\"W\").mean()\n",
    "df_us10y_w = df_us10y.loc[df_us10y.index >= df_btc.index.min()].resample(\"W\").mean()\n",
    "df_au_w = df_au.loc[df_au.index >= df_btc.index.min()].resample(\"W\").mean()\n",
    "df_wti_w = df_wti.loc[df_wti.index >= df_btc.index.min()].resample(\"W\").mean()\n",
    "df_chf_w = df_chf.loc[df_chf.index >= df_btc.index.min()].resample(\"W\").mean()"
   ]
  },
  {
   "cell_type": "code",
   "execution_count": null,
   "id": "7ae9aa33-d677-4431-99b2-bb67996210cd",
   "metadata": {},
   "outputs": [],
   "source": [
    "# Get 1-year volatility for each weekly df\n",
    "for df in [df_btc_w, df_sp500_w, df_us10y_w, df_wti_w, df_au_w, df_chf_w]:\n",
    "    # Replace non-positive values with NaN to avoid issues in log calculation (only the oil df has non-positive prices)\n",
    "    df.iloc[:, 0] = df.iloc[:, 0].where(df.iloc[:, 0] > 0, np.nan)\n",
    "    # Get log returns based on first column\n",
    "    df[\"log_returns\"] = np.log(df.iloc[:, 0] / df.iloc[:, 0].shift(1))\n",
    "    # Get 1-year volatility with the exponentially weighted moving average (EWMA) method\n",
    "    df[\"volatility_1y\"] = df[\"log_returns\"].ewm(span=52).std()\n",
    "    # Remove first cycle to avoid having unreliable volatility measures\n",
    "    df.drop(index=df.index[:51], inplace=True)"
   ]
  },
  {
   "cell_type": "code",
   "execution_count": null,
   "id": "0d1cdd5a-3ca0-4b86-b442-934f7d13bd10",
   "metadata": {},
   "outputs": [],
   "source": [
    "plt.figure(figsize=(10, 6))\n",
    "\n",
    "sns.lineplot(data=df_btc_w, x=df_btc_w.index, y=\"volatility_1y\", label=\"Bitcoin\", color=\"#f7931a\", linewidth=1)\n",
    "sns.lineplot(data=df_sp500_w, x=df_sp500_w.index, y=\"volatility_1y\", label=\"S&P 500\", color=\"lime\", linewidth=1)\n",
    "sns.lineplot(data=df_us10y_w, x=df_us10y_w.index, y=\"volatility_1y\", label=\"US 10-year yield\", color=\"deepskyblue\", linewidth=1)\n",
    "sns.lineplot(data=df_au_w, x=df_au_w.index, y=\"volatility_1y\", label=\"Gold futures\", color=\"gold\", linewidth=1)\n",
    "sns.lineplot(data=df_wti_w, x=df_wti_w.index, y=\"volatility_1y\", label=\"Crude oil futures\", color=\"crimson\", linewidth=1)\n",
    "sns.lineplot(data=df_chf_w, x=df_chf_w.index, y=\"volatility_1y\", label=\"USD/CHF\", color=\"mediumorchid\", linewidth=1)\n",
    "\n",
    "plt.ylim([0, 0.3])\n",
    "\n",
    "plt.title(\"Comparison of the 1-year Price Volatility of Bitcoin With Other Assets Over Time\")\n",
    "plt.xlabel(None)\n",
    "plt.ylabel(None)\n",
    "\n",
    "save_chart_as_png(\"3.1_BTC_vlt_comparison\")"
   ]
  },
  {
   "cell_type": "code",
   "execution_count": null,
   "id": "f50f7fd9-f79f-4a1a-bb35-fedf4014694b",
   "metadata": {},
   "outputs": [],
   "source": [
    "# Create table with average 1-year volatility of each asset for different timeframes\n",
    "def get_timeframes_avg_vlt(df: pd.DataFrame) -> dict[str, float]:\n",
    "    return {\n",
    "        \"Total avg volatility\": round(df[\"volatility_1y\"].mean(), 4),\n",
    "        \"2011-2016 avg\": round(df[df.index.year < 2016][\"volatility_1y\"].mean(), 4),\n",
    "        \"2016-2020 avg\": round(df[(df.index.year >= 2016) & (df.index.year < 2020)][\"volatility_1y\"].mean(), 4),\n",
    "        \"2020-2024 avg\": round(df[df.index.year >= 2020][\"volatility_1y\"].mean(), 4),\n",
    "    }\n",
    "\n",
    "df_avg_vlt = pd.DataFrame({\n",
    "    \"Bitcoin\": get_timeframes_avg_vlt(df_btc_w),\n",
    "    \"S&P 500\": get_timeframes_avg_vlt(df_sp500_w),\n",
    "    \"US 10-year yield\": get_timeframes_avg_vlt(df_us10y_w),\n",
    "    \"Gold futures\": get_timeframes_avg_vlt(df_au_w),\n",
    "    \"Crude oil futures\": get_timeframes_avg_vlt(df_wti_w),\n",
    "    \"USD/CHF\": get_timeframes_avg_vlt(df_chf_w),\n",
    "}).T\n",
    "\n",
    "df_avg_vlt.sort_values(by=df_avg_vlt.columns[0], ascending=False)"
   ]
  },
  {
   "cell_type": "markdown",
   "id": "fe3d9cca-0bf3-41c2-89a9-cd6a0d96a94e",
   "metadata": {},
   "source": [
    "**Key takeaways:**\n",
    "- ..."
   ]
  },
  {
   "cell_type": "markdown",
   "id": "5e89676b-56b8-473b-a927-51f7c55ab3ef",
   "metadata": {},
   "source": [
    "## Bitcoin Yearly Volatility Over Time 📊"
   ]
  },
  {
   "cell_type": "code",
   "execution_count": null,
   "id": "5095a17d-fcbf-4a76-b851-98027473f8a0",
   "metadata": {},
   "outputs": [],
   "source": [
    "# Group by year and get standard deviation of price change along with the number of days\n",
    "df_btc_yearly = df_btc.groupby(df_btc.index.year).agg(\n",
    "    volatility=(\"price_change_log\", \"std\"),\n",
    "    num_days=(\"price_change_log\", \"count\"),\n",
    ")"
   ]
  },
  {
   "cell_type": "code",
   "execution_count": null,
   "id": "d2267f15-0b91-4db0-a59f-6a4f803d5c01",
   "metadata": {},
   "outputs": [],
   "source": [
    "# Annualize the volatility for incomplete years (2010 and 2024), multiplying by the square root of the division of 365 by number of days\n",
    "df_btc_yearly.loc[df_btc_yearly[\"num_days\"] < 365, \"volatility\"] *= (365 / df_btc_yearly[\"num_days\"])**0.5"
   ]
  },
  {
   "cell_type": "code",
   "execution_count": null,
   "id": "7cd4ad0a-8430-4194-866b-234704cfe18f",
   "metadata": {},
   "outputs": [],
   "source": [
    "plt.figure(figsize=(10, 6))\n",
    "\n",
    "palette_reds = mpl_cols.LinearSegmentedColormap.from_list(\"volatility\", [\"#d49534\", \"#d43448\"])\n",
    "\n",
    "sns.barplot(data=df_btc_yearly, x=df_btc_yearly.index, y=\"volatility\", palette=palette_reds, hue=\"volatility\", legend=False)\n",
    "\n",
    "plt.title(\"Bitcoin Yearly Price Volatility Over Time\")\n",
    "plt.xlabel(None)\n",
    "plt.ylabel(None)\n",
    "\n",
    "save_chart_as_png(\"3.1_BTC_yearly_vlt\")"
   ]
  },
  {
   "cell_type": "code",
   "execution_count": null,
   "id": "62a7fa4d-240a-48ad-91ec-e288022815d7",
   "metadata": {},
   "outputs": [],
   "source": [
    "# Create table with yearly volatility stats\n",
    "pd.DataFrame({\n",
    "    \"Average yearly volatility\": [round(df_btc_yearly[\"volatility\"].mean(), 4)],\n",
    "    \"Median yearly volatility\": [round(df_btc_yearly[\"volatility\"].median(), 4)],\n",
    "    \"Standard deviation\": [round(df_btc_yearly[\"volatility\"].std(), 4)],\n",
    "    \"Min yearly volatility\": [round(df_btc_yearly[\"volatility\"].min(), 4)],\n",
    "    \"Max yearly volatility\": [round(df_btc_yearly[\"volatility\"].max(), 4)],\n",
    "})"
   ]
  },
  {
   "cell_type": "markdown",
   "id": "ccd3b9dc-cece-41d3-a0c5-6e42f2f76fe3",
   "metadata": {},
   "source": [
    "**Key takeaways:**\n",
    "- ..."
   ]
  },
  {
   "cell_type": "markdown",
   "id": "29c2a79a-f48c-4ee5-a4bc-98c8b2a974e6",
   "metadata": {},
   "source": [
    "## Price vs. Volatility 📉"
   ]
  },
  {
   "cell_type": "code",
   "execution_count": null,
   "id": "d79cab8f-891c-47c4-9c43-d84fff23f1e2",
   "metadata": {},
   "outputs": [],
   "source": [
    "# Get 90-day moving average price\n",
    "df_btc[\"price_90d_ma\"] = df_btc[\"price\"].rolling(window=90).mean()"
   ]
  },
  {
   "cell_type": "code",
   "execution_count": null,
   "id": "6f28c808-5dec-474c-95f8-b24fb429ef38",
   "metadata": {},
   "outputs": [],
   "source": [
    "# Get 90-day rolling volatility with the standard deviation method\n",
    "df_btc[\"volatility_90d_mstd\"] = df_btc[\"price_change_log\"].rolling(window=90).std()"
   ]
  },
  {
   "cell_type": "code",
   "execution_count": null,
   "id": "cc2576e4-ff55-4e44-8f83-f73a6486289d",
   "metadata": {},
   "outputs": [],
   "source": [
    "plt.figure(figsize=(10, 6))\n",
    "\n",
    "sns.regplot(data=df_btc, x=\"price_90d_ma\", y=\"volatility_90d_mstd\",\n",
    "            scatter_kws={\"alpha\": 0.7, \"linewidths\": 0.2, \"color\": \"#59ec9a\"},\n",
    "            line_kws={\"color\": \"#ec596a\"})\n",
    "\n",
    "plt.xscale(\"log\")\n",
    "plt.xlim(0.05, 100_000)\n",
    "\n",
    "plt.gca().xaxis.set_major_formatter(\n",
    "    FuncFormatter(lambda x, _: f\"{int(x)}\" if x < 1000 and x.is_integer()\n",
    "                  else (f\"{x:.1f}\" if x < 1 else f\"{int(x/1000)}K\"))\n",
    ")\n",
    "\n",
    "plt.title(\"Price vs. Volatility of Bitcoin\")\n",
    "plt.xlabel(\"Average Price (90-day Window)\")\n",
    "plt.ylabel(\"Price Volatility (90-day Window)\")\n",
    "\n",
    "save_chart_as_png(\"3.1_BTC_price_vs_vlt\")"
   ]
  },
  {
   "cell_type": "code",
   "execution_count": null,
   "id": "e4682d68-1d7b-48c9-a6cc-3b4dd19bb877",
   "metadata": {},
   "outputs": [],
   "source": [
    "# Pearson correlation coefficient betweent price and volatility\n",
    "df_btc[\"price_90d_ma\"].corr(df_btc[\"volatility_90d_mstd\"]).round(2)"
   ]
  },
  {
   "cell_type": "markdown",
   "id": "93799d3a-921c-4958-8936-04a3d62ef68b",
   "metadata": {},
   "source": [
    "**Key takeaways:**\n",
    "- ..."
   ]
  },
  {
   "cell_type": "markdown",
   "id": "4c19921f-da58-437a-b4e9-8e33f883fce3",
   "metadata": {},
   "source": [
    "## Volatility vs. Returns 💸"
   ]
  },
  {
   "cell_type": "code",
   "execution_count": null,
   "id": "29734d86-7872-416e-8908-edfba439b788",
   "metadata": {},
   "outputs": [],
   "source": [
    "# Get daily logarithmic price change and 90-day moving average\n",
    "df_btc[\"price_change_log\"] = np.log(df_btc[\"price\"] / df_btc[\"price\"].shift(1))\n",
    "df_btc[\"price_change_log_90d_ma\"] = df_btc[\"price_change_log\"].rolling(window=90).mean()"
   ]
  },
  {
   "cell_type": "code",
   "execution_count": null,
   "id": "7154df6a",
   "metadata": {},
   "outputs": [],
   "source": [
    "fig, ax = plt.subplots(figsize=(10, 6))\n",
    "\n",
    "# Normalize years to map colors\n",
    "norm = mpl_cols.Normalize(vmin=df_btc.index.year.min(), vmax=df_btc.index.year.max())\n",
    "cmap = plt.cm.viridis_r\n",
    "\n",
    "sns.scatterplot(data=df_btc, x=\"volatility_90d_mstd\", y=\"price_change_log_90d_ma\", hue=df_btc.index.year, palette=cmap, alpha=0.7, linewidth=0.2, legend=False)\n",
    "\n",
    "plt.axhline(y=0, color=\"red\", linewidth=3/4, linestyle=\"--\")\n",
    "\n",
    "plt.ylim(-0.022, 0.04)\n",
    "\n",
    "plt.title(\"Volatility vs. Returns of Bitcoin\")\n",
    "plt.xlabel(\"Price Volatility (90-day window)\")\n",
    "plt.ylabel(\"Average Daily Returns (90-day Window)\")\n",
    "\n",
    "# Create the colorbar\n",
    "cax, _ = mpl_cbar.make_axes(ax, location=\"right\", pad=0.01)\n",
    "sm = plt.cm.ScalarMappable(cmap=cmap, norm=norm)\n",
    "cbar = fig.colorbar(sm, cax=cax)\n",
    "\n",
    "save_chart_as_png(\"3.1_BTC_vlt_vs_returns\")"
   ]
  },
  {
   "cell_type": "code",
   "execution_count": null,
   "id": "75f6eee0",
   "metadata": {},
   "outputs": [],
   "source": [
    "# Pearson correlation coefficient betweent volatility and returns\n",
    "df_btc[\"volatility_90d_mstd\"].corr(df_btc[\"price_change_log_90d_ma\"]).round(2)"
   ]
  },
  {
   "cell_type": "markdown",
   "id": "b10ea2d9-9034-4e27-9b05-a390fa9d83d3",
   "metadata": {},
   "source": [
    "**Key takeaways:**\n",
    "- ..."
   ]
  },
  {
   "cell_type": "markdown",
   "id": "7de04416-69fe-4786-90ce-6ddb56f9f772",
   "metadata": {},
   "source": [
    "### Comparison of Volatility vs. Returns With Other Assets"
   ]
  },
  {
   "cell_type": "code",
   "execution_count": null,
   "id": "ea4bfb9a",
   "metadata": {},
   "outputs": [],
   "source": [
    "# Get arithmetic returns for each df, instead of log returns since the oil data includes non-positive prices\n",
    "for df in [df_btc, df_sp500, df_us10y, df_wti, df_au, df_chf]:\n",
    "    df[\"returns\"] = df.iloc[:, 0].pct_change()"
   ]
  },
  {
   "cell_type": "code",
   "execution_count": null,
   "id": "f25fbb1a-3e96-45cf-b36b-db1ca097fe3f",
   "metadata": {},
   "outputs": [],
   "source": [
    "# Get df with average returns and std deviation of returns from all dfs since first data point of btc df\n",
    "dfs = {\n",
    "    \"Bitcoin\": df_btc,\n",
    "    \"S&P 500\": df_sp500,\n",
    "    \"US 10-year yield\": df_us10y,\n",
    "    \"Gold futures\": df_au,\n",
    "    \"Crude oil futures\": df_wti,\n",
    "    \"USD/CHF\": df_chf,\n",
    "}\n",
    "results = []\n",
    "for asset, df in dfs.items():\n",
    "    results.append({\"asset\": asset,\n",
    "                    \"returns_avg\": df.loc[df.index >= df_btc.index.min()][\"returns\"].mean(),\n",
    "                    \"returns_std\": df.loc[df.index >= df_btc.index.min()][\"returns\"].std(),\n",
    "                   })\n",
    "\n",
    "df_comparison = pd.DataFrame(results)\n",
    "df_comparison"
   ]
  },
  {
   "cell_type": "code",
   "execution_count": null,
   "id": "c2a54caf-526a-4546-b943-76588a862702",
   "metadata": {},
   "outputs": [],
   "source": [
    "plt.figure(figsize=(10, 6))\n",
    "\n",
    "sns.scatterplot(data=df_comparison, x=\"returns_std\", y=\"returns_avg\", color=\"lime\")\n",
    "\n",
    "plt.axhline(y=0, color=\"red\", linewidth=1/2, linestyle=\"--\")\n",
    "\n",
    "plt.xlim(0, 0.16)\n",
    "plt.ylim(-0.003, 0.004)\n",
    "\n",
    "# Add labels to each point\n",
    "texts = []\n",
    "for i, row in df_comparison.iterrows():\n",
    "    texts.append(plt.text(row[\"returns_std\"], row[\"returns_avg\"], row[\"asset\"], fontsize=10))\n",
    "\n",
    "# Adjust text to avoid overlap\n",
    "adjust_text(texts, arrowprops=dict(arrowstyle=\"-\", color=\"white\", alpha=2/3))\n",
    "\n",
    "plt.title(\"Comparison of Volatility vs. Returns of Bitcoin with Other Assets Since 2010\")\n",
    "plt.xlabel(\"Daily Price Volatility\")\n",
    "plt.ylabel(\"Average Daily Returns\")\n",
    "\n",
    "save_chart_as_png(\"3.1_BTC_vlt_vs_returns_comparison\")"
   ]
  },
  {
   "cell_type": "markdown",
   "id": "2c3d2e8c-0787-404d-beed-40bb2ff1f2de",
   "metadata": {},
   "source": [
    "**Key takeaways:**\n",
    "- ..."
   ]
  }
 ],
 "metadata": {
  "kernelspec": {
   "display_name": "Python 3 (ipykernel)",
   "language": "python",
   "name": "python3"
  },
  "language_info": {
   "codemirror_mode": {
    "name": "ipython",
    "version": 3
   },
   "file_extension": ".py",
   "mimetype": "text/x-python",
   "name": "python",
   "nbconvert_exporter": "python",
   "pygments_lexer": "ipython3",
   "version": "3.12.6"
  }
 },
 "nbformat": 4,
 "nbformat_minor": 5
}
