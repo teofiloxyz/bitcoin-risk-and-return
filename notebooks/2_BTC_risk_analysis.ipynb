{
 "cells": [
  {
   "cell_type": "markdown",
   "id": "3c24784f-b740-4507-846e-4894c779fcfe",
   "metadata": {},
   "source": [
    "# Analysis of the risk of bitcoin"
   ]
  },
  {
   "cell_type": "markdown",
   "id": "1dfe9bda-7c25-4ca0-a05f-1127e1d18330",
   "metadata": {},
   "source": [
    "## Setup"
   ]
  },
  {
   "cell_type": "code",
   "execution_count": null,
   "id": "5077fb31-e640-4e10-876c-86553d6f1635",
   "metadata": {},
   "outputs": [],
   "source": [
    "import matplotlib.pyplot as plt\n",
    "import numpy as np\n",
    "import pandas as pd\n",
    "import seaborn as sns\n",
    "from scipy import signal\n",
    "from statsmodels.tsa.seasonal import STL"
   ]
  },
  {
   "cell_type": "code",
   "execution_count": null,
   "id": "af64caf9-95cc-4e1f-8e99-33775d090a41",
   "metadata": {},
   "outputs": [],
   "source": [
    "# Get bitcoin price df and set date as index, for more efficiency and simplicity\n",
    "df_btc = pd.read_csv(\"../data/BTC.csv\", index_col=\"date\", parse_dates=True)"
   ]
  },
  {
   "cell_type": "code",
   "execution_count": null,
   "id": "02ba9b5c-2eec-41d0-baba-2be56828a4ec",
   "metadata": {},
   "outputs": [],
   "source": [
    "# Set charts theme\n",
    "sns.set_theme(style=\"darkgrid\", rc={\"grid.alpha\": 0.33})\n",
    "plt.style.use(\"dark_background\")\n",
    "\n",
    "# Save chart as png function\n",
    "def save_chart_as_png(filename: str) -> None:\n",
    "    plt.savefig(\n",
    "        f\"../images/{filename}.png\",\n",
    "        format=\"png\",\n",
    "        dpi=300,\n",
    "        orientation=\"landscape\",\n",
    "        bbox_inches=\"tight\",\n",
    "    )"
   ]
  },
  {
   "cell_type": "code",
   "execution_count": null,
   "id": "eecc8135-cb46-47e2-9b12-810bf25d50e8",
   "metadata": {},
   "outputs": [],
   "source": [
    "# Get OHLC average as price\n",
    "df_btc[\"price\"] = df_btc[[\"open\", \"high\", \"low\", \"close\"]].mean(axis=1)\n",
    "df_btc.drop(columns=[\"open\", \"high\", \"low\", \"close\"], inplace=True)"
   ]
  },
  {
   "cell_type": "markdown",
   "id": "7cb182d8-7d3f-417f-a1bb-bd023ed4a6a6",
   "metadata": {},
   "source": [
    "## Volatility of bitcoin across time (EWMA method)"
   ]
  },
  {
   "cell_type": "code",
   "execution_count": null,
   "id": "a3aec108-94da-4d44-be96-1981320d63d9",
   "metadata": {},
   "outputs": [],
   "source": [
    "# Get log price change\n",
    "df_btc[\"price_change_log\"] = np.log(df_btc[\"price\"] / df_btc[\"price\"].shift(1))"
   ]
  },
  {
   "cell_type": "code",
   "execution_count": null,
   "id": "a7f29359-846d-434d-a679-a3e7a0ae8213",
   "metadata": {},
   "outputs": [],
   "source": [
    "# Biggest price changes\n",
    "df_btc.loc[df_btc[\"price_change_log\"].abs().sort_values(ascending=False).head(10).index, [\"price_change_log\"]].T"
   ]
  },
  {
   "cell_type": "code",
   "execution_count": null,
   "id": "c7ff6cf3-6914-4717-b2a0-ed6656d0e15b",
   "metadata": {},
   "outputs": [],
   "source": [
    "# Get yearly and 90-day volatility with the exponentially weighted moving average (EWMA) method\n",
    "df_btc[\"volatility_1y\"] = df_btc[\"price_change_log\"].ewm(span=365).std()\n",
    "df_btc[\"volatility_90d\"] = df_btc[\"price_change_log\"].ewm(span=90).std()"
   ]
  },
  {
   "cell_type": "code",
   "execution_count": null,
   "id": "033ade02-2db2-4b7b-86c1-2e423fd7f058",
   "metadata": {},
   "outputs": [],
   "source": [
    "# Change first cycle values to NaN to avoid having unreliable volatility measures\n",
    "df_btc.loc[:df_btc.index[364], \"volatility_1y\"] = np.nan\n",
    "df_btc.loc[:df_btc.index[89], \"volatility_90d\"] = np.nan"
   ]
  },
  {
   "cell_type": "code",
   "execution_count": null,
   "id": "441bf149-8e87-4c96-b0e1-e16da7d0796e",
   "metadata": {},
   "outputs": [],
   "source": [
    "plt.figure(figsize=(10, 6))\n",
    "\n",
    "sns.lineplot(data=df_btc, x=df_btc.index, y=\"volatility_90d\", label=\"90-day volatility\", color=\"#00f8ff\", linewidth=0.75)\n",
    "sns.lineplot(data=df_btc, x=df_btc.index, y=\"volatility_1y\", label=\"Yearly volatility\", color=\"#ff5b00\", linewidth=1)\n",
    "\n",
    "plt.title(\"Volatility of the price of bitcoin across time\")\n",
    "plt.xlabel(\"\")\n",
    "plt.ylabel(\"\")\n",
    "\n",
    "save_chart_as_png(\"2_BTC_vlt\")"
   ]
  },
  {
   "cell_type": "code",
   "execution_count": null,
   "id": "b52610d5-6107-4a7a-8ec5-5e0f65de1bdd",
   "metadata": {},
   "outputs": [],
   "source": [
    "# All-time high\n",
    "ath_date = df_btc[\"volatility_1y\"].idxmax()\n",
    "df_btc.loc[[ath_date], [\"price\", \"volatility_1y\"]]"
   ]
  },
  {
   "cell_type": "code",
   "execution_count": null,
   "id": "38a0c4ac-d194-4f6c-ad14-758710652379",
   "metadata": {},
   "outputs": [],
   "source": [
    "# All-time low\n",
    "atl_date = df_btc[\"volatility_1y\"].idxmin()\n",
    "df_btc.loc[[atl_date], [\"price\", \"volatility_1y\"]]"
   ]
  },
  {
   "cell_type": "code",
   "execution_count": null,
   "id": "b11eccbe-a51f-4f09-bc86-a6e0cc2f6a00",
   "metadata": {},
   "outputs": [],
   "source": [
    "# Top 5 peaks\n",
    "peaks, _ = signal.find_peaks(df_btc[\"volatility_1y\"], distance=500)\n",
    "df_btc.iloc[peaks].nlargest(5, \"volatility_1y\").sort_values(\"date\")[[\"volatility_1y\"]].T"
   ]
  },
  {
   "cell_type": "code",
   "execution_count": null,
   "id": "d499f834-bd4d-4031-b00b-319315ba2bc0",
   "metadata": {},
   "outputs": [],
   "source": [
    "# Top 5 valleys\n",
    "valleys, _ = signal.find_peaks(-df_btc[\"volatility_1y\"], distance=500)\n",
    "df_btc.iloc[valleys].nsmallest(5, \"volatility_1y\").sort_values(\"date\")[[\"volatility_1y\"]].T"
   ]
  },
  {
   "cell_type": "code",
   "execution_count": null,
   "id": "73eb7e1b-30e4-4d35-8295-e41c320e2cd5",
   "metadata": {},
   "outputs": [],
   "source": [
    "# Average 1-year volatility\n",
    "df_btc[\"volatility_1y\"].mean().round(3)"
   ]
  },
  {
   "cell_type": "markdown",
   "id": "f3f26fbf-a226-457b-beba-c9c73c667a8d",
   "metadata": {},
   "source": [
    "**Key takeaways:**\n",
    "- ..."
   ]
  }
 ],
 "metadata": {
  "kernelspec": {
   "display_name": "Python 3 (ipykernel)",
   "language": "python",
   "name": "python3"
  },
  "language_info": {
   "codemirror_mode": {
    "name": "ipython",
    "version": 3
   },
   "file_extension": ".py",
   "mimetype": "text/x-python",
   "name": "python",
   "nbconvert_exporter": "python",
   "pygments_lexer": "ipython3",
   "version": "3.12.5"
  }
 },
 "nbformat": 4,
 "nbformat_minor": 5
}
