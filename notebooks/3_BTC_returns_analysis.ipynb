{
 "cells": [
  {
   "cell_type": "markdown",
   "id": "3cde1cdc-daf7-4c17-9e4e-456bd441f678",
   "metadata": {},
   "source": [
    "# Analysis of the returns of bitcoin"
   ]
  },
  {
   "cell_type": "markdown",
   "id": "4a6158cd-74ab-4221-9f30-804a1eb9da9d",
   "metadata": {},
   "source": [
    "## Setup"
   ]
  },
  {
   "cell_type": "code",
   "execution_count": null,
   "id": "7418b937-21d1-48b7-8f71-fe9cf3a99eda",
   "metadata": {},
   "outputs": [],
   "source": [
    "import matplotlib.colorbar as mpl_cbar\n",
    "import matplotlib.colors as mpl_cols\n",
    "import matplotlib.pyplot as plt\n",
    "from matplotlib.ticker import FuncFormatter\n",
    "import pandas as pd\n",
    "import seaborn as sns"
   ]
  },
  {
   "cell_type": "code",
   "execution_count": null,
   "id": "55b5030c-62a7-4e8c-99d3-036279806b44",
   "metadata": {},
   "outputs": [],
   "source": [
    "# Get bitcoin price df and set date as index\n",
    "df_btc = pd.read_csv(\"../data/BTC.csv\", index_col=\"date\", parse_dates=True)"
   ]
  },
  {
   "cell_type": "code",
   "execution_count": null,
   "id": "dc979090-6849-41cc-a2e9-0594f9e13d5f",
   "metadata": {},
   "outputs": [],
   "source": [
    "# Set charts theme\n",
    "sns.set_theme(style=\"darkgrid\", rc={\"grid.alpha\": 0.33})\n",
    "plt.style.use(\"dark_background\")\n",
    "\n",
    "# Save chart as png function\n",
    "def save_chart_as_png(filename: str) -> None:\n",
    "    plt.savefig(\n",
    "        f\"../images/{filename}.png\",\n",
    "        format=\"png\",\n",
    "        dpi=300,\n",
    "        orientation=\"landscape\",\n",
    "        bbox_inches=\"tight\",\n",
    "    )"
   ]
  },
  {
   "cell_type": "code",
   "execution_count": null,
   "id": "bee8b3c4-8875-4c6d-a963-91a761a23321",
   "metadata": {},
   "outputs": [],
   "source": [
    "# Get OHLC average as price\n",
    "df_btc[\"price\"] = df_btc[[\"open\", \"high\", \"low\", \"close\"]].mean(axis=1)\n",
    "df_btc.drop(columns=[\"open\", \"high\", \"low\", \"close\"], inplace=True)"
   ]
  },
  {
   "cell_type": "markdown",
   "id": "e325f5af-c427-4cb1-b401-730c4b8c56bb",
   "metadata": {},
   "source": [
    "## Returns of bitcoin across time"
   ]
  },
  {
   "cell_type": "code",
   "execution_count": null,
   "id": "b7cae6cd-dc23-455d-b663-e14d97c0f33b",
   "metadata": {},
   "outputs": [],
   "source": [
    "# Get daily price change and moving averages\n",
    "df_btc[\"price_change\"] = df_btc[\"price\"].pct_change()\n",
    "df_btc[\"price_change_90d_ma\"] = df_btc[\"price_change\"].rolling(window=90).mean()\n",
    "df_btc[\"price_change_1y_ma\"] = df_btc[\"price_change\"].rolling(window=365).mean()"
   ]
  },
  {
   "cell_type": "code",
   "execution_count": null,
   "id": "7eae7345-b853-4aa0-bcb2-e439dab18363",
   "metadata": {},
   "outputs": [],
   "source": [
    "plt.figure(figsize=(10, 6))\n",
    "\n",
    "sns.lineplot(data=df_btc, x=df_btc.index, y=\"price_change_90d_ma\", label=\"Moving average (90-days)\", color=\"#00f8ff\", linewidth=0.75)\n",
    "sns.lineplot(data=df_btc, x=df_btc.index, y=\"price_change_1y_ma\", label=\"Moving average (1-year)\", color=\"#ff5b00\", linewidth=1)\n",
    "plt.axhline(y=0, color=\"red\", linewidth=1, linestyle=\"--\")\n",
    "\n",
    "plt.title(\"Daily returns of bitcoin across time\")\n",
    "plt.xlabel(\"\")\n",
    "plt.ylabel(\"\")\n",
    "\n",
    "save_chart_as_png(\"3_BTC_returns\")"
   ]
  },
  {
   "cell_type": "code",
   "execution_count": null,
   "id": "d5908e23-da11-436e-8c4f-53e4f1204583",
   "metadata": {},
   "outputs": [],
   "source": [
    "# Highest daily return\n",
    "df_btc.loc[[df_btc[\"price_change\"].idxmax()]]"
   ]
  },
  {
   "cell_type": "code",
   "execution_count": null,
   "id": "5a2917e3-2681-4489-ae7a-899e20783bbd",
   "metadata": {},
   "outputs": [],
   "source": [
    "# Lowest daily return\n",
    "df_btc.loc[[df_btc[\"price_change\"].idxmin()]]"
   ]
  },
  {
   "cell_type": "code",
   "execution_count": null,
   "id": "9efa16af-6969-49d2-b3c9-e34ba65bc832",
   "metadata": {},
   "outputs": [],
   "source": [
    "# Total cumulative returns (which is the exact same as price appreciation since first entry)\n",
    "(df_btc[\"price_change\"] + 1).prod() - 1"
   ]
  },
  {
   "cell_type": "code",
   "execution_count": null,
   "id": "17b16e4b-16ad-4bf2-8dfb-6401c43280ad",
   "metadata": {},
   "outputs": [],
   "source": [
    "# Compound annual growth rate (CAGR)\n",
    "start_value = df_btc[\"price\"].iloc[0]\n",
    "end_value = df_btc[\"price\"].iloc[-1]\n",
    "n = (df_btc.index[-1] - df_btc.index[0]).days / 365.25\n",
    "\n",
    "(end_value / start_value) ** (1 / n) - 1"
   ]
  },
  {
   "cell_type": "markdown",
   "id": "9eab78fd-0d1d-4283-bf3f-2e0846230776",
   "metadata": {},
   "source": [
    "**Key takeaways:**\n",
    "- ..."
   ]
  },
  {
   "cell_type": "markdown",
   "id": "1c17c70a-81fc-431e-a4a0-fb892e792451",
   "metadata": {},
   "source": [
    "## Distribution of returns"
   ]
  },
  {
   "cell_type": "code",
   "execution_count": null,
   "id": "f8027d24-9d9b-4034-b446-7685f42bab37",
   "metadata": {},
   "outputs": [],
   "source": [
    "plt.figure(figsize=(10, 6))\n",
    "\n",
    "sym_limit = 0.15\n",
    "df_btc_lim = df_btc.query(f\"{-sym_limit} <= price_change <= {sym_limit}\")\n",
    "\n",
    "sns.histplot(df_btc_lim[\"price_change\"], binwidth=0.01, binrange=(-sym_limit, sym_limit), color=\"lime\", edgecolor=\"white\", alpha=0.75)\n",
    "\n",
    "plt.xlim(-sym_limit, sym_limit)\n",
    "\n",
    "plt.title(\"Distribution of the daily returns of bitcoin\")\n",
    "plt.xlabel(\"Price change\")\n",
    "plt.ylabel(\"Frequency\")\n",
    "\n",
    "save_chart_as_png(\"3_BTC_returns_dist\")"
   ]
  },
  {
   "cell_type": "code",
   "execution_count": null,
   "id": "cdc92d41-40b7-414a-a03c-74f6422ab868",
   "metadata": {},
   "outputs": [],
   "source": [
    "# Create table with daily returns stats\n",
    "pd.DataFrame({\n",
    "    \"Average return\": [round(df_btc[\"price_change\"].mean(), 4)],\n",
    "    \"Median return\": [round(df_btc[\"price_change\"].median(), 4)],\n",
    "    \"Standard deviation\": [round(df_btc[\"price_change\"].std(), 4)],\n",
    "    \"Min return\": [round(df_btc[\"price_change\"].min(), 4)],\n",
    "    \"Max return\": [round(df_btc[\"price_change\"].max(), 4)],\n",
    "    \"Skewness\": [round(df_btc[\"price_change\"].skew(), 4)],\n",
    "    \"Kurtosis\": [round(df_btc[\"price_change\"].kurt(), 4)],\n",
    "})"
   ]
  },
  {
   "cell_type": "markdown",
   "id": "22ae25df-d2d9-4811-99f5-cfef62c581a2",
   "metadata": {},
   "source": [
    "**Key takeaways:**\n",
    "- ..."
   ]
  },
  {
   "cell_type": "markdown",
   "id": "e2ff0cc4-103d-4c87-8a6f-53643a94dee3",
   "metadata": {},
   "source": [
    "## Volatility vs returns (90-day rolling values)"
   ]
  },
  {
   "cell_type": "code",
   "execution_count": null,
   "id": "7fe8c3d2-a0a4-4057-a103-47c1df0fe1d3",
   "metadata": {},
   "outputs": [],
   "source": [
    "# Get 90-day rolling volatily with the standard deviation method (for consistency)\n",
    "df_btc[\"volatility_90d\"] = df_btc[\"price_change\"].rolling(window=90).std()"
   ]
  },
  {
   "cell_type": "code",
   "execution_count": null,
   "id": "1665ac3d-c4b1-4b81-8162-b863c6645f74",
   "metadata": {},
   "outputs": [],
   "source": [
    "fig, ax = plt.subplots(figsize=(10, 6))\n",
    "\n",
    "# Normalize years to map colors\n",
    "norm = mpl_cols.Normalize(vmin=df_btc.index.year.min(), vmax=df_btc.index.year.max())\n",
    "cmap = plt.cm.viridis_r\n",
    "\n",
    "sns.scatterplot(data=df_btc, x=\"volatility_90d\", y=\"price_change_90d_ma\", hue=df_btc.index.year, palette=cmap, alpha=0.7, linewidth=0.2, legend=False)\n",
    "plt.axhline(y=0, color=\"red\", linewidth=1, linestyle=\"--\")\n",
    "\n",
    "plt.title(\"Volatility vs returns of bitcoin\")\n",
    "plt.xlabel(\"Volatility (90-day window)\")\n",
    "plt.ylabel(\"Average daily returns (90-day window)\")\n",
    "\n",
    "# Create the colorbar\n",
    "cax, _ = mpl_cbar.make_axes(ax, location=\"right\", pad=0.01)\n",
    "sm = plt.cm.ScalarMappable(cmap=cmap, norm=norm)\n",
    "cbar = fig.colorbar(sm, cax=cax)\n",
    "\n",
    "save_chart_as_png(\"3_BTC_vlt_vs_returns\")"
   ]
  },
  {
   "cell_type": "code",
   "execution_count": null,
   "id": "38abc143-6202-4f8c-96a5-eac58e9907eb",
   "metadata": {},
   "outputs": [],
   "source": [
    "# Pearson correlation coefficient betweent volatility and returns\n",
    "df_btc[\"volatility_90d\"].corr(df_btc[\"price_change_90d_ma\"]).round(2)"
   ]
  },
  {
   "cell_type": "markdown",
   "id": "675612e3-d224-4bf5-9ae4-b0dd37d46f8c",
   "metadata": {},
   "source": [
    "**Key takeaways:**\n",
    "- ..."
   ]
  },
  {
   "cell_type": "markdown",
   "id": "eaa54c93-729e-45bc-b9a0-2a62be6df596",
   "metadata": {},
   "source": [
    "## Year-over-year returns across time"
   ]
  },
  {
   "cell_type": "code",
   "execution_count": null,
   "id": "f014b052-55c8-48ef-8f46-52a19965f5be",
   "metadata": {},
   "outputs": [],
   "source": [
    "# Get YoY returns\n",
    "# Get yearly bitcoin price df with first and last prices\n",
    "df_btc_yearly = df_btc.groupby(df_btc.index.year)[\"price\"].agg(\n",
    "    first_price=\"first\",\n",
    "    last_price=\"last\"\n",
    ")\n",
    "# Get YoY return\n",
    "df_btc_yearly[\"price_change\"] = (df_btc_yearly[\"last_price\"] - df_btc_yearly[\"first_price\"]) / df_btc_yearly[\"first_price\"]"
   ]
  },
  {
   "cell_type": "code",
   "execution_count": null,
   "id": "7cd4ad0a-8430-4194-866b-234704cfe18f",
   "metadata": {},
   "outputs": [],
   "source": [
    "plt.figure(figsize=(10, 6))\n",
    "\n",
    "sns.barplot(data=df_btc_yearly, x=df_btc_yearly.index, y=\"price_change\", color=\"#f7931a\")\n",
    "\n",
    "plt.title(\"Year-over-year returns of bitcoin across time\")\n",
    "plt.xlabel(\"\")\n",
    "plt.ylabel(\"\")\n",
    "\n",
    "plt.yscale(\"symlog\")\n",
    "plt.ylim(-1.25, 75)\n",
    "\n",
    "plt.gca().yaxis.set_major_formatter(FuncFormatter(lambda x, _: f\"{int(x)}\"))\n",
    "plt.yticks([-1, 0, 1, 5, 10, 50])\n",
    "\n",
    "save_chart_as_png(\"3_BTC_YoY_returns\")"
   ]
  },
  {
   "cell_type": "code",
   "execution_count": null,
   "id": "9093ec9f-0b06-4644-a8dd-061184858e89",
   "metadata": {},
   "outputs": [],
   "source": [
    "# Highest YoY return\n",
    "df_btc_yearly.loc[[df_btc_yearly[\"price_change\"].idxmax()]]"
   ]
  },
  {
   "cell_type": "code",
   "execution_count": null,
   "id": "f12cf841-ff35-4ca0-8177-5a5670e209c4",
   "metadata": {},
   "outputs": [],
   "source": [
    "# Lowest YoY return\n",
    "df_btc_yearly.loc[[df_btc_yearly[\"price_change\"].idxmin()]]"
   ]
  },
  {
   "cell_type": "code",
   "execution_count": null,
   "id": "60662cc5-c637-490c-8e21-a1b3d70e5ad7",
   "metadata": {},
   "outputs": [],
   "source": [
    "# Create table with YoY returns stats\n",
    "pd.DataFrame({\n",
    "    \"Average YoY return\": [round(df_btc_yearly[\"price_change\"].mean(), 4)],\n",
    "    \"Median YoY return\": [round(df_btc_yearly[\"price_change\"].median(), 4)],\n",
    "    \"Standard deviation\": [round(df_btc_yearly[\"price_change\"].std(), 4)],\n",
    "    \"Min YoY return\": [round(df_btc_yearly[\"price_change\"].min(), 4)],\n",
    "    \"Max YoY return\": [round(df_btc_yearly[\"price_change\"].max(), 4)],\n",
    "    \"Cumulative product YoY return\": [(1 + df_btc_yearly[\"price_change\"]).cumprod().iloc[-1].round(4) - 1],\n",
    "})"
   ]
  },
  {
   "cell_type": "markdown",
   "id": "5a9fd40e-aef3-48f2-b7eb-f31ac42996a7",
   "metadata": {},
   "source": [
    "**Key takeaways:**\n",
    "- ..."
   ]
  },
  {
   "cell_type": "code",
   "execution_count": null,
   "id": "ae95617b-63a3-4480-a19e-c8cf989e6f10",
   "metadata": {},
   "outputs": [],
   "source": [
    "# Add positive returns phase column\n",
    "df_btc_yearly[\"positive_returns_phase\"] = df_btc_yearly.index.map(lambda year:\n",
    "                                                         1 if 2010 <= year <= 2013\n",
    "                                                         else 2 if 2015 <= year <= 2017\n",
    "                                                         else 3 if 2019 <= year <= 2021\n",
    "                                                         else 4 if 2023 <= year <= 2024\n",
    "                                                         else None).astype(\"Int64\")"
   ]
  },
  {
   "cell_type": "code",
   "execution_count": null,
   "id": "95e69bd8-5ee1-49dd-adc2-4e845de81814",
   "metadata": {},
   "outputs": [],
   "source": [
    "# Get total return, max, min, average, median, standard deviation and cumulative product YoY return per positive returns phase\n",
    "df_btc_yearly.groupby(\"positive_returns_phase\").agg(\n",
    "    timeframe=(\"price_change\", lambda x: f\"{x.index.min()}-{x.index.max()}\"),\n",
    "    total_return=(\"price_change\", lambda x: round((df_btc_yearly.loc[x.index[-1]][\"last_price\"] - df_btc_yearly.loc[x.index[0]][\"first_price\"]) / df_btc_yearly.loc[x.index[0]][\"first_price\"], 2)),\n",
    "    avg_yoy_return=(\"price_change\", lambda x: round(x.mean(), 2)),\n",
    "    median_yoy_return=(\"price_change\", lambda x: round(x.median(), 2)),\n",
    "    std_yoy_return=(\"price_change\", lambda x: round(x.std(), 2)),\n",
    "    max_yoy_return=(\"price_change\", lambda x: round(x.max(), 2)),\n",
    "    min_yoy_return=(\"price_change\", lambda x: round(x.min(), 2)),\n",
    "    cumprod_yoy_return=(\"price_change\", lambda x: round((1 + x).cumprod().iloc[-1] - 1, 2))\n",
    ").T"
   ]
  },
  {
   "cell_type": "markdown",
   "id": "3b069974-0a6c-40b6-9baa-6d41992f8bc9",
   "metadata": {},
   "source": [
    "**Key takeaways:**\n",
    "- ..."
   ]
  },
  {
   "cell_type": "markdown",
   "id": "575c3ff9-fc1a-4139-a673-5c30e9a23ce3",
   "metadata": {},
   "source": [
    "## Before 2014 vs since 2014"
   ]
  },
  {
   "cell_type": "code",
   "execution_count": null,
   "id": "69f35ad7-0a69-44dd-b99d-7f9f53036989",
   "metadata": {},
   "outputs": [],
   "source": [
    "# Get data before and since 2014 into separate dfs\n",
    "df_btc_b2014 = df_btc[df_btc.index.year < 2014].copy()\n",
    "df_btc_s2014 = df_btc[df_btc.index.year >= 2014].copy()"
   ]
  },
  {
   "cell_type": "code",
   "execution_count": null,
   "id": "003085ff-dff3-46b4-a31b-dca9ff2fafc0",
   "metadata": {},
   "outputs": [],
   "source": [
    "# Add day number as a column to each df\n",
    "df_btc_b2014[\"day_number\"] = range(1, len(df_btc_b2014) + 1)\n",
    "df_btc_s2014[\"day_number\"] = range(1, len(df_btc_s2014) + 1)"
   ]
  },
  {
   "cell_type": "code",
   "execution_count": null,
   "id": "1f2d867d-6760-4ae3-bbf3-3d3144a00b9c",
   "metadata": {},
   "outputs": [],
   "source": [
    "# Ensure the first price change is set to 0 for each df\n",
    "df_btc_b2014.loc[df_btc_b2014.index[0], \"price_change\"] = 0\n",
    "df_btc_s2014.loc[df_btc_s2014.index[0], \"price_change\"] = 0"
   ]
  },
  {
   "cell_type": "code",
   "execution_count": null,
   "id": "a24c2a4e-c575-4503-8074-67d10c67224c",
   "metadata": {},
   "outputs": [],
   "source": [
    "# Add a base 100 price to each df\n",
    "df_btc_b2014[\"base_100_price\"] = (1 + df_btc_b2014[\"price_change\"]).cumprod() * 100\n",
    "df_btc_s2014[\"base_100_price\"] = (1 + df_btc_s2014[\"price_change\"]).cumprod() * 100"
   ]
  },
  {
   "cell_type": "code",
   "execution_count": null,
   "id": "44c3a6d4-2b97-45b4-ad91-5a84f62bf064",
   "metadata": {},
   "outputs": [],
   "source": [
    "plt.figure(figsize=(10, 6))\n",
    "\n",
    "sns.lineplot(data=df_btc_b2014, x=\"day_number\", y=\"base_100_price\", color=\"red\", linewidth=0.75, label=\"Before 2014\")\n",
    "sns.lineplot(data=df_btc_s2014, x=\"day_number\", y=\"base_100_price\", color=\"cyan\", linewidth=0.75, label=\"Since 2014\")\n",
    "\n",
    "plt.title(\"Price of bitcoin (base 100) over days: before vs since 2014\")\n",
    "plt.xlabel(\"\")\n",
    "plt.ylabel(\"\")\n",
    "plt.legend()\n",
    "\n",
    "plt.yscale(\"log\")\n",
    "\n",
    "plt.xlim(0, 4000)\n",
    "plt.gca().yaxis.set_major_formatter(\n",
    "    FuncFormatter(lambda x, _: (\n",
    "        f\"{int(x)}\" if x < 1000 and x.is_integer() \n",
    "        else (f\"{x:.1f}\" if x < 1 \n",
    "        else (f\"{int(x/1000)}K\" if x < 1_000_000 \n",
    "        else f\"{int(x/1_000_000)}M\"))\n",
    "    ))\n",
    ")\n",
    "\n",
    "save_chart_as_png(\"3_BTC_price_2014\")"
   ]
  },
  {
   "cell_type": "code",
   "execution_count": null,
   "id": "0e8c912a-76c2-4fe0-9bbc-49d9054829b5",
   "metadata": {},
   "outputs": [],
   "source": [
    "# Create table with basic stats of both timeframes and the ratio\n",
    "def calculate_stats(df: pd.DataFrame) -> dict[str, float]:\n",
    "    return {\n",
    "        \"Number of days\": df[\"price\"].count(),\n",
    "        \"Final price (base 100)\": round(df.iloc[-1][\"base_100_price\"], 4),\n",
    "        \"Cumulative returns\": round((df[\"price_change\"] + 1).prod() - 1, 4),\n",
    "    }\n",
    "\n",
    "df_tf_stats = pd.DataFrame({\n",
    "    \"Before 2014\": calculate_stats(df_btc_b2014),\n",
    "    \"Since 2014\": calculate_stats(df_btc_s2014)\n",
    "})\n",
    "\n",
    "df_tf_stats[\"Ratio (before / since)\"] = (df_tf_stats[\"Before 2014\"] / df_tf_stats[\"Since 2014\"]).round(4)\n",
    "\n",
    "# Format output to remove scientific notation and make more readable\n",
    "df_tf_stats = df_tf_stats.map(lambda x: f\"{float(x):,.2f}\" if isinstance(x, (int, float)) else x)\n",
    "\n",
    "df_tf_stats.T"
   ]
  },
  {
   "cell_type": "markdown",
   "id": "009d3d5a-022f-4d94-a510-9170ed054a66",
   "metadata": {},
   "source": [
    "**Key takeaways:**\n",
    "- ..."
   ]
  },
  {
   "cell_type": "code",
   "execution_count": null,
   "id": "ac1f734f-af3e-4d56-9b73-81771d8d885b",
   "metadata": {},
   "outputs": [],
   "source": [
    "plt.figure(figsize=(10, 6))\n",
    "\n",
    "sym_limit = 0.15\n",
    "df_btc_lim = df_btc.query(f\"{-sym_limit} <= price_change <= {sym_limit}\")\n",
    "\n",
    "sns.histplot(df_btc_lim[df_btc_lim.index.year < 2014][\"price_change\"], stat=\"probability\", binwidth=0.01, binrange=(-sym_limit, sym_limit), color=\"blue\", alpha=0.75, label=\"Before 2014\")\n",
    "sns.histplot(df_btc_lim[df_btc_lim.index.year >= 2014][\"price_change\"], stat=\"probability\", binwidth=0.01, binrange=(-sym_limit, sym_limit), color=\"green\", alpha=0.66, label=\"Since 2014\")\n",
    "\n",
    "plt.xlim(-sym_limit, sym_limit)\n",
    "\n",
    "plt.title(\"Distribution of the daily returns of bitcoin\")\n",
    "plt.xlabel(\"Price change\")\n",
    "plt.ylabel(\"Probability\")\n",
    "plt.legend()\n",
    "\n",
    "save_chart_as_png(\"3_BTC_returns_dist_2014\")"
   ]
  },
  {
   "cell_type": "code",
   "execution_count": null,
   "id": "f50f7fd9-f79f-4a1a-bb35-fedf4014694b",
   "metadata": {},
   "outputs": [],
   "source": [
    "# Create table with stats of both timeframes and the ratio\n",
    "def calculate_stats(df: pd.DataFrame) -> dict[str, float]:\n",
    "    return {\n",
    "        \"Average return\": round(df[\"price_change\"].mean(), 4),\n",
    "        \"Median return\": round(df[\"price_change\"].median(), 4),\n",
    "        \"Standard deviation\": round(df[\"price_change\"].std(), 4),\n",
    "        \"Min return\": round(df[\"price_change\"].min(), 4),\n",
    "        \"Max return\": round(df[\"price_change\"].max(), 4),\n",
    "        \"Skewness\": round(df[\"price_change\"].skew(), 4),\n",
    "        \"Kurtosis\": round(df[\"price_change\"].kurt(), 4),\n",
    "    }\n",
    "\n",
    "df_tf_stats = pd.DataFrame({\n",
    "    \"Before 2014\": calculate_stats(df_btc_b2014),\n",
    "    \"Since 2014\": calculate_stats(df_btc_s2014)\n",
    "})\n",
    "\n",
    "df_tf_stats[\"Ratio (before / since)\"] = (df_tf_stats[\"Before 2014\"] / df_tf_stats[\"Since 2014\"]).round(4)\n",
    "df_tf_stats.T"
   ]
  },
  {
   "cell_type": "markdown",
   "id": "09ea96b4-fa1a-457d-bbd9-2bbc2fb60d9e",
   "metadata": {},
   "source": [
    "**Key takeaways:**\n",
    "- ..."
   ]
  },
  {
   "cell_type": "markdown",
   "id": "1af27ecd-0b59-4cbc-8c1a-b2c51b048b17",
   "metadata": {},
   "source": [
    "## Risk-adjusted performance ⚖️"
   ]
  },
  {
   "cell_type": "markdown",
   "id": "e071416c-b3b6-4e73-9d73-b14139340c29",
   "metadata": {},
   "source": [
    "### Sharpe ratio"
   ]
  },
  {
   "cell_type": "code",
   "execution_count": null,
   "id": "0d3c9336-5712-419c-b732-4c3363c248d5",
   "metadata": {},
   "outputs": [],
   "source": []
  },
  {
   "cell_type": "markdown",
   "id": "41b0ec38-77fd-4e0d-9211-a7a8df11521c",
   "metadata": {},
   "source": [
    "**Key takeaways:**\n",
    "- ..."
   ]
  }
 ],
 "metadata": {
  "kernelspec": {
   "display_name": "Python 3 (ipykernel)",
   "language": "python",
   "name": "python3"
  },
  "language_info": {
   "codemirror_mode": {
    "name": "ipython",
    "version": 3
   },
   "file_extension": ".py",
   "mimetype": "text/x-python",
   "name": "python",
   "nbconvert_exporter": "python",
   "pygments_lexer": "ipython3",
   "version": "3.12.5"
  }
 },
 "nbformat": 4,
 "nbformat_minor": 5
}
