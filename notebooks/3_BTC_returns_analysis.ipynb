{
 "cells": [
  {
   "cell_type": "markdown",
   "id": "3cde1cdc-daf7-4c17-9e4e-456bd441f678",
   "metadata": {},
   "source": [
    "# Analysis of the returns of bitcoin"
   ]
  },
  {
   "cell_type": "markdown",
   "id": "4a6158cd-74ab-4221-9f30-804a1eb9da9d",
   "metadata": {},
   "source": [
    "## Setup"
   ]
  },
  {
   "cell_type": "code",
   "execution_count": null,
   "id": "7418b937-21d1-48b7-8f71-fe9cf3a99eda",
   "metadata": {},
   "outputs": [],
   "source": [
    "import matplotlib.pyplot as plt\n",
    "from matplotlib.ticker import FuncFormatter\n",
    "import pandas as pd\n",
    "import seaborn as sns"
   ]
  },
  {
   "cell_type": "code",
   "execution_count": null,
   "id": "55b5030c-62a7-4e8c-99d3-036279806b44",
   "metadata": {},
   "outputs": [],
   "source": [
    "# Get bitcoin price df and set date as index, for more efficiency and simplicity\n",
    "df_btc = pd.read_csv(\"../data/BTC.csv\", index_col=\"date\", parse_dates=True)"
   ]
  },
  {
   "cell_type": "code",
   "execution_count": null,
   "id": "dc979090-6849-41cc-a2e9-0594f9e13d5f",
   "metadata": {},
   "outputs": [],
   "source": [
    "# Set charts theme\n",
    "sns.set_theme(style=\"darkgrid\", rc={\"grid.alpha\": 0.33})\n",
    "plt.style.use(\"dark_background\")\n",
    "\n",
    "# Save chart as png function\n",
    "def save_chart_as_png(filename: str) -> None:\n",
    "    plt.savefig(\n",
    "        f\"../images/{filename}.png\",\n",
    "        format=\"png\",\n",
    "        dpi=300,\n",
    "        orientation=\"landscape\",\n",
    "        bbox_inches=\"tight\",\n",
    "    )"
   ]
  },
  {
   "cell_type": "code",
   "execution_count": null,
   "id": "bee8b3c4-8875-4c6d-a963-91a761a23321",
   "metadata": {},
   "outputs": [],
   "source": [
    "# Get OHLC average as price\n",
    "df_btc[\"price\"] = df_btc[[\"open\", \"high\", \"low\", \"close\"]].mean(axis=1)\n",
    "df_btc.drop(columns=[\"open\", \"high\", \"low\", \"close\"], inplace=True)"
   ]
  },
  {
   "cell_type": "markdown",
   "id": "eaa54c93-729e-45bc-b9a0-2a62be6df596",
   "metadata": {},
   "source": [
    "## Price change year-over-year"
   ]
  },
  {
   "cell_type": "code",
   "execution_count": null,
   "id": "f014b052-55c8-48ef-8f46-52a19965f5be",
   "metadata": {},
   "outputs": [],
   "source": [
    "# Get YoY returns\n",
    "# Get yearly bitcoin price df with first and last prices\n",
    "df_btc_yearly = df_btc.groupby(df_btc.index.year)[\"price\"].agg(\n",
    "    first_price=\"first\",\n",
    "    last_price=\"last\"\n",
    ")\n",
    "# Get YoY return\n",
    "df_btc_yearly[\"price_change\"] = (df_btc_yearly[\"last_price\"] - df_btc_yearly[\"first_price\"]) / df_btc_yearly[\"first_price\"]"
   ]
  },
  {
   "cell_type": "code",
   "execution_count": null,
   "id": "7cd4ad0a-8430-4194-866b-234704cfe18f",
   "metadata": {},
   "outputs": [],
   "source": [
    "plt.figure(figsize=(10, 6))\n",
    "\n",
    "sns.barplot(data=df_btc_yearly, x=df_btc_yearly.index, y=\"price_change\", color=\"#f7931a\")\n",
    "\n",
    "plt.title(\"Year-over-year return of bitcoin across time\")\n",
    "plt.xlabel(\"\")\n",
    "plt.ylabel(\"\")\n",
    "\n",
    "plt.yscale(\"symlog\")\n",
    "plt.ylim(-1.25, 75)\n",
    "\n",
    "plt.gca().yaxis.set_major_formatter(FuncFormatter(lambda x, _: f\"{int(x)}\"))\n",
    "plt.yticks([-1, 0, 1, 5, 10, 50])\n",
    "\n",
    "save_chart_as_png(\"3_BTC_YoY_return\")"
   ]
  },
  {
   "cell_type": "code",
   "execution_count": null,
   "id": "9093ec9f-0b06-4644-a8dd-061184858e89",
   "metadata": {},
   "outputs": [],
   "source": [
    "# Highest YoY return\n",
    "df_btc_yearly.loc[[df_btc_yearly[\"price_change\"].idxmax()]]"
   ]
  },
  {
   "cell_type": "code",
   "execution_count": null,
   "id": "f12cf841-ff35-4ca0-8177-5a5670e209c4",
   "metadata": {},
   "outputs": [],
   "source": [
    "# Lowest YoY return\n",
    "df_btc_yearly.loc[[df_btc_yearly[\"price_change\"].idxmin()]]"
   ]
  },
  {
   "cell_type": "code",
   "execution_count": null,
   "id": "5d096d93-05d6-406b-b11c-c71a3dd4de2c",
   "metadata": {},
   "outputs": [],
   "source": [
    "# Average YoY return\n",
    "df_btc_yearly[\"price_change\"].mean().round(4)"
   ]
  },
  {
   "cell_type": "code",
   "execution_count": null,
   "id": "c3bf274f-88ac-4b5d-9b50-d0a9e714ba2c",
   "metadata": {},
   "outputs": [],
   "source": [
    "# Median YoY return\n",
    "round(df_btc_yearly[\"price_change\"].median(), 4)"
   ]
  },
  {
   "cell_type": "code",
   "execution_count": null,
   "id": "23e9e4b2-afc0-421d-a54d-97c3b8aebd83",
   "metadata": {},
   "outputs": [],
   "source": [
    "# Standard deviation YoY return\n",
    "round(df_btc_yearly[\"price_change\"].std(), 4)"
   ]
  },
  {
   "cell_type": "code",
   "execution_count": null,
   "id": "6b7f82af-3e22-4219-89e3-5764fd1b053a",
   "metadata": {},
   "outputs": [],
   "source": [
    "# Cumulative product YoY return\n",
    "(1 + df_btc_yearly[\"price_change\"]).cumprod().iloc[-1].round(4) - 1"
   ]
  },
  {
   "cell_type": "code",
   "execution_count": null,
   "id": "ed83023e-d6de-42eb-8d6c-963cdf93c05e",
   "metadata": {},
   "outputs": [],
   "source": [
    "# Compound annual growth rate (CAGR)\n",
    "start_value = df_btc[\"price\"].iloc[0]\n",
    "end_value = df_btc[\"price\"].iloc[-1]\n",
    "n = (df_btc.index[-1] - df_btc.index[0]).days / 365.25\n",
    "\n",
    "(end_value / start_value) ** (1 / n) - 1"
   ]
  },
  {
   "cell_type": "code",
   "execution_count": null,
   "id": "ae95617b-63a3-4480-a19e-c8cf989e6f10",
   "metadata": {},
   "outputs": [],
   "source": [
    "# Add positive returns phase column\n",
    "df_btc_yearly[\"positive_returns_phase\"] = df_btc_yearly.index.map(lambda year:\n",
    "                                                         1 if 2010 <= year <= 2013\n",
    "                                                         else 2 if 2015 <= year <= 2017\n",
    "                                                         else 3 if 2019 <= year <= 2021\n",
    "                                                         else 4 if 2023 <= year <= 2024\n",
    "                                                         else None).astype(\"Int64\")"
   ]
  },
  {
   "cell_type": "code",
   "execution_count": null,
   "id": "95e69bd8-5ee1-49dd-adc2-4e845de81814",
   "metadata": {},
   "outputs": [],
   "source": [
    "# Get max, min, average, median, standard deviation and cumulative product YoY return per positive returns phase\n",
    "df_btc_yearly.groupby(\"positive_returns_phase\").agg(\n",
    "    timeframe=(\"price_change\", lambda x: f\"{x.index.min()}-{x.index.max()}\"),\n",
    "    max_yoy_price_change=(\"price_change\", lambda x: round(x.max(), 2)),\n",
    "    min_yoy_price_change=(\"price_change\", lambda x: round(x.min(), 2)),\n",
    "    avg_yoy_price_change=(\"price_change\", lambda x: round(x.mean(), 2)),\n",
    "    median_yoy_price_change=(\"price_change\", lambda x: round(x.median(), 2)),\n",
    "    std_yoy_price_change=(\"price_change\", lambda x: round(x.std(), 2)),\n",
    "    cumprod_yoy_price_change=(\"price_change\", lambda x: round((1 + x).cumprod().iloc[-1] - 1, 2))\n",
    ")"
   ]
  },
  {
   "cell_type": "markdown",
   "id": "09ea96b4-fa1a-457d-bbd9-2bbc2fb60d9e",
   "metadata": {},
   "source": [
    "**Key takeaways:**\n",
    "- ..."
   ]
  },
  {
   "cell_type": "markdown",
   "id": "0700f43e-864d-4ccb-ad4e-a0e49e7421a1",
   "metadata": {},
   "source": [
    "## Risk-Adjusted Performance"
   ]
  },
  {
   "cell_type": "code",
   "execution_count": null,
   "id": "81ec884e-9296-45dc-8f9e-e51db3f75a38",
   "metadata": {},
   "outputs": [],
   "source": []
  }
 ],
 "metadata": {
  "kernelspec": {
   "display_name": "Python 3 (ipykernel)",
   "language": "python",
   "name": "python3"
  },
  "language_info": {
   "codemirror_mode": {
    "name": "ipython",
    "version": 3
   },
   "file_extension": ".py",
   "mimetype": "text/x-python",
   "name": "python",
   "nbconvert_exporter": "python",
   "pygments_lexer": "ipython3",
   "version": "3.12.5"
  }
 },
 "nbformat": 4,
 "nbformat_minor": 5
}
