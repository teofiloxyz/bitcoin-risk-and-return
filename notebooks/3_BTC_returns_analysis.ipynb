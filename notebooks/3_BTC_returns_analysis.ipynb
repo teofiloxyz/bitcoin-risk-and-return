{
 "cells": [
  {
   "cell_type": "markdown",
   "id": "3cde1cdc-daf7-4c17-9e4e-456bd441f678",
   "metadata": {},
   "source": [
    "# Analysis of the returns of bitcoin"
   ]
  },
  {
   "cell_type": "markdown",
   "id": "4a6158cd-74ab-4221-9f30-804a1eb9da9d",
   "metadata": {},
   "source": [
    "## Setup"
   ]
  },
  {
   "cell_type": "code",
   "execution_count": null,
   "id": "7418b937-21d1-48b7-8f71-fe9cf3a99eda",
   "metadata": {},
   "outputs": [],
   "source": [
    "import matplotlib.colorbar as mpl_cbar\n",
    "import matplotlib.colors as mpl_cols\n",
    "import matplotlib.pyplot as plt\n",
    "from matplotlib.ticker import FuncFormatter\n",
    "import pandas as pd\n",
    "import seaborn as sns"
   ]
  },
  {
   "cell_type": "code",
   "execution_count": null,
   "id": "55b5030c-62a7-4e8c-99d3-036279806b44",
   "metadata": {},
   "outputs": [],
   "source": [
    "# Get bitcoin price df and set date as index, for more efficiency and simplicity\n",
    "df_btc = pd.read_csv(\"../data/BTC.csv\", index_col=\"date\", parse_dates=True)"
   ]
  },
  {
   "cell_type": "code",
   "execution_count": null,
   "id": "dc979090-6849-41cc-a2e9-0594f9e13d5f",
   "metadata": {},
   "outputs": [],
   "source": [
    "# Set charts theme\n",
    "sns.set_theme(style=\"darkgrid\", rc={\"grid.alpha\": 0.33})\n",
    "plt.style.use(\"dark_background\")\n",
    "\n",
    "# Save chart as png function\n",
    "def save_chart_as_png(filename: str) -> None:\n",
    "    plt.savefig(\n",
    "        f\"../images/{filename}.png\",\n",
    "        format=\"png\",\n",
    "        dpi=300,\n",
    "        orientation=\"landscape\",\n",
    "        bbox_inches=\"tight\",\n",
    "    )"
   ]
  },
  {
   "cell_type": "code",
   "execution_count": null,
   "id": "bee8b3c4-8875-4c6d-a963-91a761a23321",
   "metadata": {},
   "outputs": [],
   "source": [
    "# Get OHLC average as price\n",
    "df_btc[\"price\"] = df_btc[[\"open\", \"high\", \"low\", \"close\"]].mean(axis=1)\n",
    "df_btc.drop(columns=[\"open\", \"high\", \"low\", \"close\"], inplace=True)"
   ]
  },
  {
   "cell_type": "markdown",
   "id": "e325f5af-c427-4cb1-b401-730c4b8c56bb",
   "metadata": {},
   "source": [
    "## Returns of bitcoin across time"
   ]
  },
  {
   "cell_type": "code",
   "execution_count": null,
   "id": "b7cae6cd-dc23-455d-b663-e14d97c0f33b",
   "metadata": {},
   "outputs": [],
   "source": [
    "# Get daily price change and moving averages\n",
    "df_btc[\"price_change\"] = df_btc[\"price\"].pct_change()\n",
    "df_btc[\"price_change_90d_ma\"] = df_btc[\"price_change\"].rolling(window=90).mean()\n",
    "df_btc[\"price_change_1y_ma\"] = df_btc[\"price_change\"].rolling(window=365).mean()"
   ]
  },
  {
   "cell_type": "code",
   "execution_count": null,
   "id": "7eae7345-b853-4aa0-bcb2-e439dab18363",
   "metadata": {},
   "outputs": [],
   "source": [
    "plt.figure(figsize=(10, 6))\n",
    "\n",
    "sns.lineplot(data=df_btc, x=df_btc.index, y=\"price_change_90d_ma\", label=\"Moving average (90-days)\", color=\"#00f8ff\", linewidth=0.75)\n",
    "sns.lineplot(data=df_btc, x=df_btc.index, y=\"price_change_1y_ma\", label=\"Moving average (1-year)\", color=\"#ff5b00\", linewidth=1)\n",
    "plt.axhline(y=0, color=\"red\", linewidth=1, linestyle=\"--\")\n",
    "\n",
    "plt.title(\"Daily returns of bitcoin across time\")\n",
    "plt.xlabel(\"\")\n",
    "plt.ylabel(\"\")\n",
    "\n",
    "save_chart_as_png(\"3_BTC_returns\")"
   ]
  },
  {
   "cell_type": "code",
   "execution_count": null,
   "id": "d5908e23-da11-436e-8c4f-53e4f1204583",
   "metadata": {},
   "outputs": [],
   "source": [
    "# Highest daily return\n",
    "df_btc.loc[[df_btc[\"price_change\"].idxmax()]]"
   ]
  },
  {
   "cell_type": "code",
   "execution_count": null,
   "id": "5a2917e3-2681-4489-ae7a-899e20783bbd",
   "metadata": {},
   "outputs": [],
   "source": [
    "# Lowest daily return\n",
    "df_btc.loc[[df_btc[\"price_change\"].idxmin()]]"
   ]
  },
  {
   "cell_type": "code",
   "execution_count": null,
   "id": "9efa16af-6969-49d2-b3c9-e34ba65bc832",
   "metadata": {},
   "outputs": [],
   "source": [
    "# Total cumulative returns (which is the exact same as price appreciation since first entry)\n",
    "(df_btc[\"price_change\"] + 1).prod() - 1"
   ]
  },
  {
   "cell_type": "code",
   "execution_count": null,
   "id": "17b16e4b-16ad-4bf2-8dfb-6401c43280ad",
   "metadata": {},
   "outputs": [],
   "source": [
    "# Compound annual growth rate (CAGR)\n",
    "start_value = df_btc[\"price\"].iloc[0]\n",
    "end_value = df_btc[\"price\"].iloc[-1]\n",
    "n = (df_btc.index[-1] - df_btc.index[0]).days / 365.25\n",
    "\n",
    "(end_value / start_value) ** (1 / n) - 1"
   ]
  },
  {
   "cell_type": "markdown",
   "id": "9eab78fd-0d1d-4283-bf3f-2e0846230776",
   "metadata": {},
   "source": [
    "**Key takeaways:**\n",
    "- ..."
   ]
  },
  {
   "cell_type": "markdown",
   "id": "1c17c70a-81fc-431e-a4a0-fb892e792451",
   "metadata": {},
   "source": [
    "## Distribution of returns"
   ]
  },
  {
   "cell_type": "code",
   "execution_count": null,
   "id": "f8027d24-9d9b-4034-b446-7685f42bab37",
   "metadata": {},
   "outputs": [],
   "source": [
    "plt.figure(figsize=(10, 6))\n",
    "\n",
    "sym_limit = 0.15\n",
    "df_btc_lim = df_btc.query(f\"{-sym_limit} <= price_change <= {sym_limit}\")\n",
    "\n",
    "sns.histplot(df_btc_lim[\"price_change\"], binwidth=0.01, binrange=(-sym_limit, sym_limit), color=\"lime\", edgecolor=\"white\", alpha=0.75)\n",
    "\n",
    "plt.xlim(-sym_limit, sym_limit)\n",
    "\n",
    "plt.title(\"Distribution of the daily returns of bitcoin\")\n",
    "plt.xlabel(\"Price change\")\n",
    "plt.ylabel(\"Frequency\")\n",
    "\n",
    "save_chart_as_png(\"3_BTC_returns_dist\")"
   ]
  },
  {
   "cell_type": "code",
   "execution_count": null,
   "id": "d0b2ea7a-c01c-4047-a5d1-dc1138e897e4",
   "metadata": {},
   "outputs": [],
   "source": [
    "# Average daily return\n",
    "df_btc[\"price_change\"].mean().round(4)"
   ]
  },
  {
   "cell_type": "code",
   "execution_count": null,
   "id": "05de1574-8787-4945-89a7-a1ad0ce99b25",
   "metadata": {},
   "outputs": [],
   "source": [
    "# Median daily return\n",
    "round(df_btc[\"price_change\"].median(), 4)"
   ]
  },
  {
   "cell_type": "code",
   "execution_count": null,
   "id": "48999c86-dece-47e2-b9f9-0d9248743825",
   "metadata": {},
   "outputs": [],
   "source": [
    "# Standard deviation return\n",
    "round(df_btc[\"price_change\"].std(), 4)"
   ]
  },
  {
   "cell_type": "markdown",
   "id": "22ae25df-d2d9-4811-99f5-cfef62c581a2",
   "metadata": {},
   "source": [
    "**Key takeaways:**\n",
    "- ..."
   ]
  },
  {
   "cell_type": "markdown",
   "id": "e2ff0cc4-103d-4c87-8a6f-53643a94dee3",
   "metadata": {},
   "source": [
    "## Volatility vs returns (90-day rolling values)"
   ]
  },
  {
   "cell_type": "code",
   "execution_count": null,
   "id": "7fe8c3d2-a0a4-4057-a103-47c1df0fe1d3",
   "metadata": {},
   "outputs": [],
   "source": [
    "# Get 90-day rolling volatily with the standard deviation method (for consistency)\n",
    "df_btc[\"volatility_90d\"] = df_btc[\"price_change\"].rolling(window=90).std()"
   ]
  },
  {
   "cell_type": "code",
   "execution_count": null,
   "id": "1665ac3d-c4b1-4b81-8162-b863c6645f74",
   "metadata": {},
   "outputs": [],
   "source": [
    "fig, ax = plt.subplots(figsize=(10, 6))\n",
    "\n",
    "# Normalize years to map colors\n",
    "norm = mpl_cols.Normalize(vmin=df_btc.index.year.min(), vmax=df_btc.index.year.max())\n",
    "cmap = plt.cm.viridis_r\n",
    "\n",
    "sns.scatterplot(data=df_btc, x=\"volatility_90d\", y=\"price_change_90d_ma\", hue=df_btc.index.year, palette=cmap, alpha=0.7, linewidth=0.2, legend=False)\n",
    "plt.axhline(y=0, color=\"red\", linewidth=1, linestyle=\"--\")\n",
    "\n",
    "plt.title(\"Volatility vs returns of bitcoin\")\n",
    "plt.xlabel(\"Volatility (90-day window)\")\n",
    "plt.ylabel(\"Average daily returns (90-day window)\")\n",
    "\n",
    "# Create the colorbar\n",
    "cax, _ = mpl_cbar.make_axes(ax, location=\"right\", pad=0.01)\n",
    "sm = plt.cm.ScalarMappable(cmap=cmap, norm=norm)\n",
    "cbar = fig.colorbar(sm, cax=cax)\n",
    "\n",
    "save_chart_as_png(\"3_BTC_vlt_vs_returns\")"
   ]
  },
  {
   "cell_type": "code",
   "execution_count": null,
   "id": "38abc143-6202-4f8c-96a5-eac58e9907eb",
   "metadata": {},
   "outputs": [],
   "source": [
    "# Pearson correlation coefficient betweent volatility and returns\n",
    "df_btc[\"volatility_90d\"].corr(df_btc[\"price_change_90d_ma\"]).round(2)"
   ]
  },
  {
   "cell_type": "markdown",
   "id": "675612e3-d224-4bf5-9ae4-b0dd37d46f8c",
   "metadata": {},
   "source": [
    "**Key takeaways:**\n",
    "- ..."
   ]
  },
  {
   "cell_type": "markdown",
   "id": "eaa54c93-729e-45bc-b9a0-2a62be6df596",
   "metadata": {},
   "source": [
    "## Year-over-year returns across time"
   ]
  },
  {
   "cell_type": "code",
   "execution_count": null,
   "id": "f014b052-55c8-48ef-8f46-52a19965f5be",
   "metadata": {},
   "outputs": [],
   "source": [
    "# Get YoY returns\n",
    "# Get yearly bitcoin price df with first and last prices\n",
    "df_btc_yearly = df_btc.groupby(df_btc.index.year)[\"price\"].agg(\n",
    "    first_price=\"first\",\n",
    "    last_price=\"last\"\n",
    ")\n",
    "# Get YoY return\n",
    "df_btc_yearly[\"price_change\"] = (df_btc_yearly[\"last_price\"] - df_btc_yearly[\"first_price\"]) / df_btc_yearly[\"first_price\"]"
   ]
  },
  {
   "cell_type": "code",
   "execution_count": null,
   "id": "7cd4ad0a-8430-4194-866b-234704cfe18f",
   "metadata": {},
   "outputs": [],
   "source": [
    "plt.figure(figsize=(10, 6))\n",
    "\n",
    "sns.barplot(data=df_btc_yearly, x=df_btc_yearly.index, y=\"price_change\", color=\"#f7931a\")\n",
    "\n",
    "plt.title(\"Year-over-year returns of bitcoin across time\")\n",
    "plt.xlabel(\"\")\n",
    "plt.ylabel(\"\")\n",
    "\n",
    "plt.yscale(\"symlog\")\n",
    "plt.ylim(-1.25, 75)\n",
    "\n",
    "plt.gca().yaxis.set_major_formatter(FuncFormatter(lambda x, _: f\"{int(x)}\"))\n",
    "plt.yticks([-1, 0, 1, 5, 10, 50])\n",
    "\n",
    "save_chart_as_png(\"3_BTC_YoY_returns\")"
   ]
  },
  {
   "cell_type": "code",
   "execution_count": null,
   "id": "9093ec9f-0b06-4644-a8dd-061184858e89",
   "metadata": {},
   "outputs": [],
   "source": [
    "# Highest YoY return\n",
    "df_btc_yearly.loc[[df_btc_yearly[\"price_change\"].idxmax()]]"
   ]
  },
  {
   "cell_type": "code",
   "execution_count": null,
   "id": "f12cf841-ff35-4ca0-8177-5a5670e209c4",
   "metadata": {},
   "outputs": [],
   "source": [
    "# Lowest YoY return\n",
    "df_btc_yearly.loc[[df_btc_yearly[\"price_change\"].idxmin()]]"
   ]
  },
  {
   "cell_type": "code",
   "execution_count": null,
   "id": "5d096d93-05d6-406b-b11c-c71a3dd4de2c",
   "metadata": {},
   "outputs": [],
   "source": [
    "# Average YoY return\n",
    "df_btc_yearly[\"price_change\"].mean().round(4)"
   ]
  },
  {
   "cell_type": "code",
   "execution_count": null,
   "id": "c3bf274f-88ac-4b5d-9b50-d0a9e714ba2c",
   "metadata": {},
   "outputs": [],
   "source": [
    "# Median YoY return\n",
    "round(df_btc_yearly[\"price_change\"].median(), 4)"
   ]
  },
  {
   "cell_type": "code",
   "execution_count": null,
   "id": "23e9e4b2-afc0-421d-a54d-97c3b8aebd83",
   "metadata": {},
   "outputs": [],
   "source": [
    "# Standard deviation YoY return\n",
    "round(df_btc_yearly[\"price_change\"].std(), 4)"
   ]
  },
  {
   "cell_type": "code",
   "execution_count": null,
   "id": "6b7f82af-3e22-4219-89e3-5764fd1b053a",
   "metadata": {},
   "outputs": [],
   "source": [
    "# Cumulative product YoY return\n",
    "(1 + df_btc_yearly[\"price_change\"]).cumprod().iloc[-1].round(4) - 1"
   ]
  },
  {
   "cell_type": "code",
   "execution_count": null,
   "id": "ae95617b-63a3-4480-a19e-c8cf989e6f10",
   "metadata": {},
   "outputs": [],
   "source": [
    "# Add positive returns phase column\n",
    "df_btc_yearly[\"positive_returns_phase\"] = df_btc_yearly.index.map(lambda year:\n",
    "                                                         1 if 2010 <= year <= 2013\n",
    "                                                         else 2 if 2015 <= year <= 2017\n",
    "                                                         else 3 if 2019 <= year <= 2021\n",
    "                                                         else 4 if 2023 <= year <= 2024\n",
    "                                                         else None).astype(\"Int64\")"
   ]
  },
  {
   "cell_type": "code",
   "execution_count": null,
   "id": "95e69bd8-5ee1-49dd-adc2-4e845de81814",
   "metadata": {},
   "outputs": [],
   "source": [
    "# Get total price change, max, min, average, median, standard deviation and cumulative product YoY return per positive returns phase\n",
    "df_btc_yearly.groupby(\"positive_returns_phase\").agg(\n",
    "    timeframe=(\"price_change\", lambda x: f\"{x.index.min()}-{x.index.max()}\"),\n",
    "    total_price_change=(\"price_change\", lambda x: round((df_btc_yearly.loc[x.index[-1]][\"last_price\"] - df_btc_yearly.loc[x.index[0]][\"first_price\"]) / df_btc_yearly.loc[x.index[0]][\"first_price\"], 2)),\n",
    "    max_yoy_price_change=(\"price_change\", lambda x: round(x.max(), 2)),\n",
    "    min_yoy_price_change=(\"price_change\", lambda x: round(x.min(), 2)),\n",
    "    avg_yoy_price_change=(\"price_change\", lambda x: round(x.mean(), 2)),\n",
    "    median_yoy_price_change=(\"price_change\", lambda x: round(x.median(), 2)),\n",
    "    std_yoy_price_change=(\"price_change\", lambda x: round(x.std(), 2)),\n",
    "    cumprod_yoy_price_change=(\"price_change\", lambda x: round((1 + x).cumprod().iloc[-1] - 1, 2))\n",
    ").T"
   ]
  },
  {
   "cell_type": "markdown",
   "id": "575c3ff9-fc1a-4139-a673-5c30e9a23ce3",
   "metadata": {},
   "source": [
    "## First X days vs last Y days"
   ]
  },
  {
   "cell_type": "code",
   "execution_count": null,
   "id": "022d5cf9-2e2f-4117-b31e-3a565ee5646d",
   "metadata": {},
   "outputs": [],
   "source": [
    "# Average daily returns until 2014"
   ]
  },
  {
   "cell_type": "code",
   "execution_count": null,
   "id": "30481140-ae81-41c0-ba37-56ee06bcf814",
   "metadata": {},
   "outputs": [],
   "source": [
    "# Total cumulative returns (which is the exact same as price appreciation since first entry)\n",
    "(df_btc[\"price_change\"] + 1).prod() - 1"
   ]
  },
  {
   "cell_type": "code",
   "execution_count": null,
   "id": "8e6f908a-3b6a-4d56-8eb3-906c6e3d025c",
   "metadata": {},
   "outputs": [],
   "source": [
    "# Cumulative returns until 2014\n",
    "(df_btc[df_btc.index.year < 2014][\"price_change\"] + 1).prod() - 1"
   ]
  },
  {
   "cell_type": "code",
   "execution_count": null,
   "id": "c073fc78-2b68-4693-912a-e5e48789a600",
   "metadata": {},
   "outputs": [],
   "source": []
  },
  {
   "cell_type": "markdown",
   "id": "09ea96b4-fa1a-457d-bbd9-2bbc2fb60d9e",
   "metadata": {},
   "source": [
    "**Key takeaways:**\n",
    "- ..."
   ]
  },
  {
   "cell_type": "markdown",
   "id": "1af27ecd-0b59-4cbc-8c1a-b2c51b048b17",
   "metadata": {},
   "source": [
    "## Risk-adjusted performance ⚖️"
   ]
  },
  {
   "cell_type": "code",
   "execution_count": null,
   "id": "81ec884e-9296-45dc-8f9e-e51db3f75a38",
   "metadata": {},
   "outputs": [],
   "source": []
  },
  {
   "cell_type": "markdown",
   "id": "de47f29a-90f6-467b-9d3f-ad7ae8412b69",
   "metadata": {},
   "source": [
    "**Key takeaways:**\n",
    "- ..."
   ]
  }
 ],
 "metadata": {
  "kernelspec": {
   "display_name": "Python 3 (ipykernel)",
   "language": "python",
   "name": "python3"
  },
  "language_info": {
   "codemirror_mode": {
    "name": "ipython",
    "version": 3
   },
   "file_extension": ".py",
   "mimetype": "text/x-python",
   "name": "python",
   "nbconvert_exporter": "python",
   "pygments_lexer": "ipython3",
   "version": "3.12.5"
  }
 },
 "nbformat": 4,
 "nbformat_minor": 5
}
