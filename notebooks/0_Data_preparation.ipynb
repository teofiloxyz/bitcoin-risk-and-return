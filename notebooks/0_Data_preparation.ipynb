{
 "cells": [
  {
   "cell_type": "markdown",
   "id": "6d0b1f2a-be26-4941-8eba-ef50dcd1016d",
   "metadata": {},
   "source": [
    "# Data preparation"
   ]
  },
  {
   "cell_type": "markdown",
   "id": "3ca5818a-4591-446d-8e45-73059f45aabc",
   "metadata": {},
   "source": [
    "## Setup"
   ]
  },
  {
   "cell_type": "code",
   "execution_count": null,
   "id": "5b88c97f-8f80-4f76-98d9-dc6dffe879e8",
   "metadata": {},
   "outputs": [],
   "source": [
    "import glob\n",
    "import os\n",
    "\n",
    "import pandas as pd"
   ]
  },
  {
   "cell_type": "markdown",
   "id": "68447aeb-1f11-4627-9eea-ba6a0d6a9599",
   "metadata": {},
   "source": [
    "## Bitcoin"
   ]
  },
  {
   "cell_type": "code",
   "execution_count": null,
   "id": "5cc1d786-a733-4fab-a581-c2da5112a5a7",
   "metadata": {},
   "outputs": [],
   "source": [
    "# Match the path of the raw CSV\n",
    "csv_path = glob.glob(os.path.expanduser(\"~/Downloads/bitcoin_2010-07-22*.csv\"))[0]"
   ]
  },
  {
   "cell_type": "code",
   "execution_count": null,
   "id": "18c90b73-349f-47b4-a591-bad92df9979b",
   "metadata": {},
   "outputs": [],
   "source": [
    "# Read raw CSV as df and show it\n",
    "df_btc = pd.read_csv(csv_path)\n",
    "df_btc"
   ]
  },
  {
   "cell_type": "code",
   "execution_count": null,
   "id": "044252a6-3fc0-4385-b53c-c70ae4b0eac3",
   "metadata": {},
   "outputs": [],
   "source": [
    "# Reverse the order of the rows\n",
    "df_btc = df_btc[::-1].copy()"
   ]
  },
  {
   "cell_type": "code",
   "execution_count": null,
   "id": "86f595fb-964d-4d6c-b67e-9e8753281228",
   "metadata": {},
   "outputs": [],
   "source": [
    "# Remove irrelevant columns, and rename the remaining\n",
    "df_btc.drop(columns=[\"End\", \"Volume\", \"Market Cap\"], inplace=True)\n",
    "df_btc.rename(columns={\"Start\": \"date\", \"Open\": \"open\", \"High\": \"high\", \"Low\": \"low\", \"Close\": \"close\"}, inplace=True)"
   ]
  },
  {
   "cell_type": "code",
   "execution_count": null,
   "id": "b418fad3-96cd-4e9b-81ce-246c6ae8729e",
   "metadata": {},
   "outputs": [],
   "source": [
    "# Check the data type of each column\n",
    "df_btc.dtypes"
   ]
  },
  {
   "cell_type": "code",
   "execution_count": null,
   "id": "53db869d-c9c1-412e-a8fc-ed20db3ae78e",
   "metadata": {},
   "outputs": [],
   "source": [
    "# Check if the data type of each column is consistent across all rows\n",
    "df_btc.map(type).nunique() == 1"
   ]
  },
  {
   "cell_type": "code",
   "execution_count": null,
   "id": "bfa99304-dbc7-4342-9597-f11c7c7f86cd",
   "metadata": {},
   "outputs": [],
   "source": [
    "# Check for null values in each column\n",
    "df_btc.isna().sum()"
   ]
  },
  {
   "cell_type": "code",
   "execution_count": null,
   "id": "4d1619a8-6c76-4a73-8903-6ee013e6fe6e",
   "metadata": {},
   "outputs": [],
   "source": [
    "# Check for zero values in each column\n",
    "(df_btc == 0).sum()"
   ]
  },
  {
   "cell_type": "code",
   "execution_count": null,
   "id": "8c0ed565-e6dd-45b2-bc71-dbd93c199fba",
   "metadata": {},
   "outputs": [],
   "source": [
    "# Check if dates progress correctly (without skipped or duplicated dates)\n",
    "df_btc[\"date\"] = pd.to_datetime(df_btc[\"date\"])\n",
    "date_diff = df_btc[\"date\"].diff().dropna()\n",
    "(date_diff == pd.Timedelta(days=1)).all()"
   ]
  },
  {
   "cell_type": "code",
   "execution_count": null,
   "id": "7a9aca80-062a-4b72-b9ce-258c3157bb31",
   "metadata": {},
   "outputs": [],
   "source": [
    "# Reset index and show final df\n",
    "df_btc.reset_index(drop=True, inplace=True)\n",
    "df_btc"
   ]
  },
  {
   "cell_type": "code",
   "execution_count": null,
   "id": "03501a1d-c21f-44e2-9ba5-8e3dd6020012",
   "metadata": {},
   "outputs": [],
   "source": [
    "# Export final df\n",
    "df_btc.to_csv(\"../data/BTC.csv\", index=False)"
   ]
  },
  {
   "cell_type": "markdown",
   "id": "a71c653f-812b-44d8-ad71-29701a7b469d",
   "metadata": {},
   "source": [
    "### Dataset basic info"
   ]
  },
  {
   "cell_type": "code",
   "execution_count": null,
   "id": "48fca3e7-afdf-4c3e-888c-f174e3d50127",
   "metadata": {},
   "outputs": [],
   "source": [
    "# First and last entries\n",
    "pd.concat([df_btc.head(1), df_btc.tail(1)]).T"
   ]
  },
  {
   "cell_type": "code",
   "execution_count": null,
   "id": "360f2f86-5cfe-4910-ba53-74a16fe74576",
   "metadata": {},
   "outputs": [],
   "source": [
    "df_btc.describe().T"
   ]
  },
  {
   "cell_type": "code",
   "execution_count": null,
   "id": "7cfdc52d-0f60-45f1-9746-be242a6924b7",
   "metadata": {
    "scrolled": true
   },
   "outputs": [],
   "source": [
    "# How many trading days per year on average\n",
    "days_per_year = df_btc[~df_btc.index.year.isin([2024, 2010])].index.year.value_counts()\n",
    "days_per_year.mean().round(2)"
   ]
  }
 ],
 "metadata": {
  "kernelspec": {
   "display_name": "Python 3 (ipykernel)",
   "language": "python",
   "name": "python3"
  },
  "language_info": {
   "codemirror_mode": {
    "name": "ipython",
    "version": 3
   },
   "file_extension": ".py",
   "mimetype": "text/x-python",
   "name": "python",
   "nbconvert_exporter": "python",
   "pygments_lexer": "ipython3",
   "version": "3.12.5"
  }
 },
 "nbformat": 4,
 "nbformat_minor": 5
}
