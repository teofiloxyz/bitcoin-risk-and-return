{
 "cells": [
  {
   "cell_type": "markdown",
   "id": "6d0b1f2a-be26-4941-8eba-ef50dcd1016d",
   "metadata": {},
   "source": [
    "# Data preparation"
   ]
  },
  {
   "cell_type": "markdown",
   "id": "3ca5818a-4591-446d-8e45-73059f45aabc",
   "metadata": {},
   "source": [
    "## Setup"
   ]
  },
  {
   "cell_type": "code",
   "execution_count": null,
   "id": "5b88c97f-8f80-4f76-98d9-dc6dffe879e8",
   "metadata": {},
   "outputs": [],
   "source": [
    "from datetime import datetime\n",
    "import glob\n",
    "import os\n",
    "\n",
    "import pandas as pd\n",
    "import yfinance as yf"
   ]
  },
  {
   "cell_type": "code",
   "execution_count": null,
   "id": "b9664eaf-0ff2-4dff-b0c8-cbde636ee748",
   "metadata": {},
   "outputs": [],
   "source": [
    "today = datetime.today().strftime(\"%Y-%m-%d\")"
   ]
  },
  {
   "cell_type": "markdown",
   "id": "68447aeb-1f11-4627-9eea-ba6a0d6a9599",
   "metadata": {},
   "source": [
    "## Bitcoin"
   ]
  },
  {
   "cell_type": "code",
   "execution_count": null,
   "id": "5cc1d786-a733-4fab-a581-c2da5112a5a7",
   "metadata": {},
   "outputs": [],
   "source": [
    "# Match the path of the downloaded raw CSV (yfinance only has BTC data since 2014)\n",
    "raw_btc_path = glob.glob(os.path.expanduser(\"~/Downloads/bitcoin_2010-07-22*.csv\"))[0]"
   ]
  },
  {
   "cell_type": "code",
   "execution_count": null,
   "id": "18c90b73-349f-47b4-a591-bad92df9979b",
   "metadata": {},
   "outputs": [],
   "source": [
    "# Read raw CSV as df and show it\n",
    "df_btc = pd.read_csv(raw_btc_path)\n",
    "df_btc"
   ]
  },
  {
   "cell_type": "code",
   "execution_count": null,
   "id": "044252a6-3fc0-4385-b53c-c70ae4b0eac3",
   "metadata": {},
   "outputs": [],
   "source": [
    "# Reverse the order of the rows\n",
    "df_btc = df_btc[::-1].copy()"
   ]
  },
  {
   "cell_type": "code",
   "execution_count": null,
   "id": "86f595fb-964d-4d6c-b67e-9e8753281228",
   "metadata": {},
   "outputs": [],
   "source": [
    "# Remove irrelevant columns, and rename the remaining\n",
    "df_btc.drop(columns=[\"End\", \"Volume\", \"Market Cap\"], inplace=True)\n",
    "df_btc.rename(columns={\"Start\": \"date\", \"Open\": \"open\", \"High\": \"high\", \"Low\": \"low\", \"Close\": \"close\"}, inplace=True)"
   ]
  },
  {
   "cell_type": "code",
   "execution_count": null,
   "id": "b418fad3-96cd-4e9b-81ce-246c6ae8729e",
   "metadata": {},
   "outputs": [],
   "source": [
    "# Check the data type of each column\n",
    "df_btc.dtypes"
   ]
  },
  {
   "cell_type": "code",
   "execution_count": null,
   "id": "53db869d-c9c1-412e-a8fc-ed20db3ae78e",
   "metadata": {},
   "outputs": [],
   "source": [
    "# Check if the data type of each column is consistent across all rows\n",
    "df_btc.map(type).nunique() == 1"
   ]
  },
  {
   "cell_type": "code",
   "execution_count": null,
   "id": "bfa99304-dbc7-4342-9597-f11c7c7f86cd",
   "metadata": {},
   "outputs": [],
   "source": [
    "# Check for null values in each column\n",
    "df_btc.isna().sum()"
   ]
  },
  {
   "cell_type": "code",
   "execution_count": null,
   "id": "4d1619a8-6c76-4a73-8903-6ee013e6fe6e",
   "metadata": {},
   "outputs": [],
   "source": [
    "# Check for zero values in each column\n",
    "(df_btc == 0).sum()"
   ]
  },
  {
   "cell_type": "code",
   "execution_count": null,
   "id": "8c0ed565-e6dd-45b2-bc71-dbd93c199fba",
   "metadata": {},
   "outputs": [],
   "source": [
    "# Check if dates progress correctly (without skipped or duplicated dates)\n",
    "df_btc[\"date\"] = pd.to_datetime(df_btc[\"date\"])\n",
    "date_diff = df_btc[\"date\"].diff().dropna()\n",
    "(date_diff == pd.Timedelta(days=1)).all()"
   ]
  },
  {
   "cell_type": "code",
   "execution_count": null,
   "id": "7a9aca80-062a-4b72-b9ce-258c3157bb31",
   "metadata": {},
   "outputs": [],
   "source": [
    "# Reset index and show final df\n",
    "df_btc.reset_index(drop=True, inplace=True)\n",
    "df_btc"
   ]
  },
  {
   "cell_type": "code",
   "execution_count": null,
   "id": "03501a1d-c21f-44e2-9ba5-8e3dd6020012",
   "metadata": {},
   "outputs": [],
   "source": [
    "# Export final df\n",
    "df_btc.to_csv(\"../data/BTC.csv\", index=False)"
   ]
  },
  {
   "cell_type": "markdown",
   "id": "a71c653f-812b-44d8-ad71-29701a7b469d",
   "metadata": {},
   "source": [
    "### Dataset basic info"
   ]
  },
  {
   "cell_type": "code",
   "execution_count": null,
   "id": "48fca3e7-afdf-4c3e-888c-f174e3d50127",
   "metadata": {},
   "outputs": [],
   "source": [
    "# First and last entries\n",
    "pd.concat([df_btc.head(1), df_btc.tail(1)])"
   ]
  },
  {
   "cell_type": "code",
   "execution_count": null,
   "id": "360f2f86-5cfe-4910-ba53-74a16fe74576",
   "metadata": {},
   "outputs": [],
   "source": [
    "df_btc.describe().T"
   ]
  },
  {
   "cell_type": "code",
   "execution_count": null,
   "id": "7cfdc52d-0f60-45f1-9746-be242a6924b7",
   "metadata": {
    "scrolled": true
   },
   "outputs": [],
   "source": [
    "# How many trading days per year on average\n",
    "days_per_year = df_btc[~df_btc.index.year.isin([2024, 2010])].index.year.value_counts()\n",
    "days_per_year.mean().round(2)"
   ]
  },
  {
   "cell_type": "markdown",
   "id": "80bf8a3e-3cd0-4eab-99a9-78af3e6fe7ee",
   "metadata": {},
   "source": [
    "## S&P 500"
   ]
  },
  {
   "cell_type": "code",
   "execution_count": null,
   "id": "9574f043-a90a-4fab-90eb-145843b673a6",
   "metadata": {},
   "outputs": [],
   "source": [
    "# Get df from yfinance API and show it\n",
    "df_sp500 = yf.download(\"^GSPC\", start=\"2010-01-01\", end=today)\n",
    "df_sp500"
   ]
  },
  {
   "cell_type": "code",
   "execution_count": null,
   "id": "60fa0de3-64e6-4c8a-b896-be185eb40007",
   "metadata": {},
   "outputs": [],
   "source": [
    "# Export the df as raw CSV file\n",
    "raw_sp500_path = os.path.expanduser(\"~/Downloads/SP500.csv\")\n",
    "df_sp500.to_csv(raw_sp500_path, index=True)"
   ]
  },
  {
   "cell_type": "code",
   "execution_count": null,
   "id": "f97b688f-3501-4f6c-9344-8694e1141073",
   "metadata": {},
   "outputs": [],
   "source": [
    "# Remove irrelevant columns, and rename the index and remaining columns\n",
    "df_sp500.drop(columns=[\"Adj Close\", \"Volume\"], inplace=True)\n",
    "df_sp500.rename_axis(\"date\", inplace=True)\n",
    "df_sp500.rename(columns={\"Open\": \"open\", \"High\": \"high\", \"Low\": \"low\", \"Close\": \"close\"}, inplace=True)"
   ]
  },
  {
   "cell_type": "code",
   "execution_count": null,
   "id": "317d1a90-a27b-4b67-bca3-14158109fbdf",
   "metadata": {},
   "outputs": [],
   "source": [
    "# Check the data type of each column\n",
    "df_sp500.dtypes"
   ]
  },
  {
   "cell_type": "code",
   "execution_count": null,
   "id": "754578b2-1a1f-474f-ae0f-12857f6e7a96",
   "metadata": {},
   "outputs": [],
   "source": [
    "# Check if the data type of each column is consistent across all rows\n",
    "df_sp500.map(type).nunique() == 1"
   ]
  },
  {
   "cell_type": "code",
   "execution_count": null,
   "id": "5a881111-8b33-4b68-ac3f-36aa2776eaf2",
   "metadata": {},
   "outputs": [],
   "source": [
    "# Check for null values in each column\n",
    "df_sp500.isna().sum()"
   ]
  },
  {
   "cell_type": "code",
   "execution_count": null,
   "id": "2c4fb29d-7643-4aa4-9d8c-6a54ff8e34d2",
   "metadata": {},
   "outputs": [],
   "source": [
    "# Check for zero values in each column\n",
    "(df_sp500 == 0).sum()"
   ]
  },
  {
   "cell_type": "code",
   "execution_count": null,
   "id": "cd0ef186-faab-441d-a0c1-e3923c20ebb2",
   "metadata": {},
   "outputs": [],
   "source": [
    "# Check for duplicated dates\n",
    "df_sp500.index.duplicated().any()"
   ]
  },
  {
   "cell_type": "code",
   "execution_count": null,
   "id": "b5fe14d2-dadf-4e5e-96a8-a2159ab899cb",
   "metadata": {},
   "outputs": [],
   "source": [
    "# Show final df\n",
    "df_sp500"
   ]
  },
  {
   "cell_type": "code",
   "execution_count": null,
   "id": "7053911f-8bb6-4a32-8d1c-b50d0d65612f",
   "metadata": {},
   "outputs": [],
   "source": [
    "# Export final df\n",
    "df_sp500.to_csv(\"../data/SP500.csv\", index=True)"
   ]
  },
  {
   "cell_type": "markdown",
   "id": "c57be9d5-cd50-4528-b2f3-5eb1dd13e8dd",
   "metadata": {},
   "source": [
    "### Dataset basic info"
   ]
  },
  {
   "cell_type": "code",
   "execution_count": null,
   "id": "d7df3bf5-c2f3-4950-abd4-09df10bddf35",
   "metadata": {},
   "outputs": [],
   "source": [
    "# First and last entries\n",
    "pd.concat([df_sp500.head(1), df_sp500.tail(1)])"
   ]
  },
  {
   "cell_type": "code",
   "execution_count": null,
   "id": "11d44aa7-b385-4ca8-9f52-56b696a59483",
   "metadata": {},
   "outputs": [],
   "source": [
    "df_sp500.describe().T"
   ]
  },
  {
   "cell_type": "code",
   "execution_count": null,
   "id": "e8a26b21-9e91-44eb-b787-321b5d1deb5d",
   "metadata": {
    "scrolled": true
   },
   "outputs": [],
   "source": [
    "# How many trading days per year on average\n",
    "days_per_year = df_sp500[df_sp500.index.year != 2024].index.year.value_counts()\n",
    "days_per_year.mean().round(2)"
   ]
  }
 ],
 "metadata": {
  "kernelspec": {
   "display_name": "Python 3 (ipykernel)",
   "language": "python",
   "name": "python3"
  },
  "language_info": {
   "codemirror_mode": {
    "name": "ipython",
    "version": 3
   },
   "file_extension": ".py",
   "mimetype": "text/x-python",
   "name": "python",
   "nbconvert_exporter": "python",
   "pygments_lexer": "ipython3",
   "version": "3.12.5"
  }
 },
 "nbformat": 4,
 "nbformat_minor": 5
}
