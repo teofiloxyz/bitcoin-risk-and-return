{
 "cells": [
  {
   "cell_type": "markdown",
   "id": "6d0b1f2a-be26-4941-8eba-ef50dcd1016d",
   "metadata": {},
   "source": [
    "# Data preparation"
   ]
  },
  {
   "cell_type": "markdown",
   "id": "3ca5818a-4591-446d-8e45-73059f45aabc",
   "metadata": {},
   "source": [
    "## Setup"
   ]
  },
  {
   "cell_type": "code",
   "execution_count": 1,
   "id": "5b88c97f-8f80-4f76-98d9-dc6dffe879e8",
   "metadata": {},
   "outputs": [],
   "source": [
    "import glob\n",
    "import os\n",
    "import tarfile\n",
    "\n",
    "import pandas as pd\n",
    "import yfinance as yf"
   ]
  },
  {
   "cell_type": "code",
   "execution_count": 2,
   "id": "3f7bf7f3-1141-4378-9bcf-41c071048eca",
   "metadata": {},
   "outputs": [],
   "source": [
    "# Get function that processes the datasets from yfinance\n",
    "def process_yf_dataset(yf_ticker: str, title: str, value_col_name: str = \"price\", start_date: str = \"2010-01-01\", end_date: str = \"2024-09-21\") -> pd.DataFrame:\n",
    "    # Fetch data from yfinance\n",
    "    df = yf.download(yf_ticker, start=start_date, end=end_date)\n",
    "    print(f\"\\nDataset for {yf_ticker} downloaded\")\n",
    "\n",
    "    # Export raw dataset\n",
    "    raw_csv_path = f\"~/Downloads/{title}_raw.csv\"\n",
    "    df.to_csv(os.path.expanduser(raw_csv_path), index=True)\n",
    "    print(f\"\\nRaw dataset exported to '{raw_csv_path}'\")\n",
    "\n",
    "    # Data quality checks of relevant columns\n",
    "    print(\"\\nData quality checks:\")\n",
    "    print(f\"- Consistent data types: {df[[\"Open\", \"High\", \"Low\", \"Close\"]].dtypes.nunique() == 1}\")\n",
    "    print(f\"- Null values:\\n{df[[\"Open\", \"High\", \"Low\", \"Close\"]].isna().sum()}\")\n",
    "    print(f\"- Zero values:\\n{(df[[\"Open\", \"High\", \"Low\", \"Close\"]] == 0).sum()}\")\n",
    "    print(f\"- Duplicated dates: {df[[\"Open\", \"High\", \"Low\", \"Close\"]].index.duplicated().sum()}\")\n",
    "\n",
    "    # Get price using OHLC average (\"adjusted close\" is the same as \"close\" for the selected datasets)\n",
    "    df[value_col_name] = df[[\"Open\", \"High\", \"Low\", \"Close\"]].mean(axis=1)\n",
    "    # Remove all the other columns, and rename index\n",
    "    df = df.drop(columns=[\"Open\", \"High\", \"Low\", \"Close\", \"Adj Close\", \"Volume\"]).rename_axis(\"date\")\n",
    "    print(\"\\nDataset columns adjusted\")\n",
    "\n",
    "    # Export the final processed dataset\n",
    "    final_csv_path = f\"../data/{title}.csv\"\n",
    "    df.to_csv(final_csv_path, index=True)\n",
    "    print(f\"\\nFinal dataset exported to '{final_csv_path}'\")\n",
    "\n",
    "    return df"
   ]
  },
  {
   "cell_type": "code",
   "execution_count": 3,
   "id": "8d27a4d1-2877-411e-bfd8-9ec8daee73b6",
   "metadata": {},
   "outputs": [],
   "source": [
    "def show_dataset_basic_info(df: pd.DataFrame) -> None:\n",
    "    print(\"First and last entries of the dataset:\")\n",
    "    display(df.iloc[[0, -1]])\n",
    "\n",
    "    print(\"\\nBasic statistics of the dataset:\")\n",
    "    display(df.describe().T)\n",
    "\n",
    "    median_days = df.index.year.value_counts().median()\n",
    "    print(f\"\\nTypical number of trading days per year: {int(median_days)}\")"
   ]
  },
  {
   "cell_type": "markdown",
   "id": "68447aeb-1f11-4627-9eea-ba6a0d6a9599",
   "metadata": {},
   "source": [
    "## Bitcoin"
   ]
  },
  {
   "cell_type": "markdown",
   "id": "8ef1b186-9e2d-442a-9f56-5f9f301dd069",
   "metadata": {},
   "source": [
    "**[Yahoo Finance](https://finance.yahoo.com/) provides BTC data only starting from 2014. Therefore, this [Coin Codex dataset](https://coincodex.com/crypto/bitcoin/historical-data) requires a different processing approach.**"
   ]
  },
  {
   "cell_type": "code",
   "execution_count": 4,
   "id": "5cc1d786-a733-4fab-a581-c2da5112a5a7",
   "metadata": {},
   "outputs": [],
   "source": [
    "# Match the path of the downloaded raw CSV\n",
    "raw_btc_path = glob.glob(os.path.expanduser(\"~/Downloads/bitcoin_*.csv\"))[0]"
   ]
  },
  {
   "cell_type": "code",
   "execution_count": 5,
   "id": "18c90b73-349f-47b4-a591-bad92df9979b",
   "metadata": {},
   "outputs": [
    {
     "data": {
      "text/html": [
       "<div>\n",
       "<style scoped>\n",
       "    .dataframe tbody tr th:only-of-type {\n",
       "        vertical-align: middle;\n",
       "    }\n",
       "\n",
       "    .dataframe tbody tr th {\n",
       "        vertical-align: top;\n",
       "    }\n",
       "\n",
       "    .dataframe thead th {\n",
       "        text-align: right;\n",
       "    }\n",
       "</style>\n",
       "<table border=\"1\" class=\"dataframe\">\n",
       "  <thead>\n",
       "    <tr style=\"text-align: right;\">\n",
       "      <th></th>\n",
       "      <th>Start</th>\n",
       "      <th>End</th>\n",
       "      <th>Open</th>\n",
       "      <th>High</th>\n",
       "      <th>Low</th>\n",
       "      <th>Close</th>\n",
       "      <th>Volume</th>\n",
       "      <th>Market Cap</th>\n",
       "    </tr>\n",
       "  </thead>\n",
       "  <tbody>\n",
       "    <tr>\n",
       "      <th>0</th>\n",
       "      <td>2024-09-20</td>\n",
       "      <td>2024-09-21</td>\n",
       "      <td>62935.8800</td>\n",
       "      <td>64053.9600</td>\n",
       "      <td>62400.0400</td>\n",
       "      <td>63102.0300</td>\n",
       "      <td>1.159340e+11</td>\n",
       "      <td>1.248770e+12</td>\n",
       "    </tr>\n",
       "    <tr>\n",
       "      <th>1</th>\n",
       "      <td>2024-09-19</td>\n",
       "      <td>2024-09-20</td>\n",
       "      <td>61831.9600</td>\n",
       "      <td>63819.9200</td>\n",
       "      <td>61592.0000</td>\n",
       "      <td>62953.9800</td>\n",
       "      <td>1.270354e+11</td>\n",
       "      <td>1.237745e+12</td>\n",
       "    </tr>\n",
       "    <tr>\n",
       "      <th>2</th>\n",
       "      <td>2024-09-18</td>\n",
       "      <td>2024-09-19</td>\n",
       "      <td>60313.9800</td>\n",
       "      <td>61449.1400</td>\n",
       "      <td>59216.0100</td>\n",
       "      <td>61449.1400</td>\n",
       "      <td>1.100440e+11</td>\n",
       "      <td>1.188172e+12</td>\n",
       "    </tr>\n",
       "    <tr>\n",
       "      <th>3</th>\n",
       "      <td>2024-09-17</td>\n",
       "      <td>2024-09-18</td>\n",
       "      <td>58267.9400</td>\n",
       "      <td>61259.9900</td>\n",
       "      <td>57620.0000</td>\n",
       "      <td>60303.5000</td>\n",
       "      <td>1.016688e+11</td>\n",
       "      <td>1.172633e+12</td>\n",
       "    </tr>\n",
       "    <tr>\n",
       "      <th>4</th>\n",
       "      <td>2024-09-16</td>\n",
       "      <td>2024-09-17</td>\n",
       "      <td>59191.9600</td>\n",
       "      <td>59191.9600</td>\n",
       "      <td>57549.7800</td>\n",
       "      <td>58229.2000</td>\n",
       "      <td>9.470302e+10</td>\n",
       "      <td>1.152253e+12</td>\n",
       "    </tr>\n",
       "    <tr>\n",
       "      <th>...</th>\n",
       "      <td>...</td>\n",
       "      <td>...</td>\n",
       "      <td>...</td>\n",
       "      <td>...</td>\n",
       "      <td>...</td>\n",
       "      <td>...</td>\n",
       "      <td>...</td>\n",
       "      <td>...</td>\n",
       "    </tr>\n",
       "    <tr>\n",
       "      <th>5175</th>\n",
       "      <td>2010-07-21</td>\n",
       "      <td>2010-07-22</td>\n",
       "      <td>0.0792</td>\n",
       "      <td>0.0792</td>\n",
       "      <td>0.0792</td>\n",
       "      <td>0.0792</td>\n",
       "      <td>0.000000e+00</td>\n",
       "      <td>2.743084e+05</td>\n",
       "    </tr>\n",
       "    <tr>\n",
       "      <th>5176</th>\n",
       "      <td>2010-07-20</td>\n",
       "      <td>2010-07-21</td>\n",
       "      <td>0.0747</td>\n",
       "      <td>0.0747</td>\n",
       "      <td>0.0747</td>\n",
       "      <td>0.0747</td>\n",
       "      <td>0.000000e+00</td>\n",
       "      <td>2.567102e+05</td>\n",
       "    </tr>\n",
       "    <tr>\n",
       "      <th>5177</th>\n",
       "      <td>2010-07-19</td>\n",
       "      <td>2010-07-20</td>\n",
       "      <td>0.0808</td>\n",
       "      <td>0.0808</td>\n",
       "      <td>0.0808</td>\n",
       "      <td>0.0808</td>\n",
       "      <td>0.000000e+00</td>\n",
       "      <td>2.775702e+05</td>\n",
       "    </tr>\n",
       "    <tr>\n",
       "      <th>5178</th>\n",
       "      <td>2010-07-18</td>\n",
       "      <td>2010-07-19</td>\n",
       "      <td>0.0858</td>\n",
       "      <td>0.0858</td>\n",
       "      <td>0.0858</td>\n",
       "      <td>0.0858</td>\n",
       "      <td>0.000000e+00</td>\n",
       "      <td>2.947466e+05</td>\n",
       "    </tr>\n",
       "    <tr>\n",
       "      <th>5179</th>\n",
       "      <td>2010-07-17</td>\n",
       "      <td>2010-07-18</td>\n",
       "      <td>0.0500</td>\n",
       "      <td>0.0500</td>\n",
       "      <td>0.0500</td>\n",
       "      <td>0.0500</td>\n",
       "      <td>0.000000e+00</td>\n",
       "      <td>1.708032e+05</td>\n",
       "    </tr>\n",
       "  </tbody>\n",
       "</table>\n",
       "<p>5180 rows × 8 columns</p>\n",
       "</div>"
      ],
      "text/plain": [
       "           Start         End        Open        High         Low       Close  \\\n",
       "0     2024-09-20  2024-09-21  62935.8800  64053.9600  62400.0400  63102.0300   \n",
       "1     2024-09-19  2024-09-20  61831.9600  63819.9200  61592.0000  62953.9800   \n",
       "2     2024-09-18  2024-09-19  60313.9800  61449.1400  59216.0100  61449.1400   \n",
       "3     2024-09-17  2024-09-18  58267.9400  61259.9900  57620.0000  60303.5000   \n",
       "4     2024-09-16  2024-09-17  59191.9600  59191.9600  57549.7800  58229.2000   \n",
       "...          ...         ...         ...         ...         ...         ...   \n",
       "5175  2010-07-21  2010-07-22      0.0792      0.0792      0.0792      0.0792   \n",
       "5176  2010-07-20  2010-07-21      0.0747      0.0747      0.0747      0.0747   \n",
       "5177  2010-07-19  2010-07-20      0.0808      0.0808      0.0808      0.0808   \n",
       "5178  2010-07-18  2010-07-19      0.0858      0.0858      0.0858      0.0858   \n",
       "5179  2010-07-17  2010-07-18      0.0500      0.0500      0.0500      0.0500   \n",
       "\n",
       "            Volume    Market Cap  \n",
       "0     1.159340e+11  1.248770e+12  \n",
       "1     1.270354e+11  1.237745e+12  \n",
       "2     1.100440e+11  1.188172e+12  \n",
       "3     1.016688e+11  1.172633e+12  \n",
       "4     9.470302e+10  1.152253e+12  \n",
       "...            ...           ...  \n",
       "5175  0.000000e+00  2.743084e+05  \n",
       "5176  0.000000e+00  2.567102e+05  \n",
       "5177  0.000000e+00  2.775702e+05  \n",
       "5178  0.000000e+00  2.947466e+05  \n",
       "5179  0.000000e+00  1.708032e+05  \n",
       "\n",
       "[5180 rows x 8 columns]"
      ]
     },
     "execution_count": 5,
     "metadata": {},
     "output_type": "execute_result"
    }
   ],
   "source": [
    "# Read raw CSV as df and show it\n",
    "df_btc = pd.read_csv(raw_btc_path)\n",
    "df_btc"
   ]
  },
  {
   "cell_type": "code",
   "execution_count": 6,
   "id": "044252a6-3fc0-4385-b53c-c70ae4b0eac3",
   "metadata": {},
   "outputs": [],
   "source": [
    "# Reverse the order of the rows\n",
    "df_btc = df_btc[::-1].copy()"
   ]
  },
  {
   "cell_type": "code",
   "execution_count": 7,
   "id": "b418fad3-96cd-4e9b-81ce-246c6ae8729e",
   "metadata": {},
   "outputs": [
    {
     "data": {
      "text/plain": [
       "Start          object\n",
       "End            object\n",
       "Open          float64\n",
       "High          float64\n",
       "Low           float64\n",
       "Close         float64\n",
       "Volume        float64\n",
       "Market Cap    float64\n",
       "dtype: object"
      ]
     },
     "execution_count": 7,
     "metadata": {},
     "output_type": "execute_result"
    }
   ],
   "source": [
    "# Check the data type of each column\n",
    "df_btc.dtypes"
   ]
  },
  {
   "cell_type": "code",
   "execution_count": 8,
   "id": "53db869d-c9c1-412e-a8fc-ed20db3ae78e",
   "metadata": {},
   "outputs": [
    {
     "data": {
      "text/plain": [
       "Start    True\n",
       "Open     True\n",
       "High     True\n",
       "Low      True\n",
       "Close    True\n",
       "dtype: bool"
      ]
     },
     "execution_count": 8,
     "metadata": {},
     "output_type": "execute_result"
    }
   ],
   "source": [
    "# Check if the data type of each relevant column is consistent across all rows\n",
    "df_btc[[\"Start\", \"Open\", \"High\", \"Low\", \"Close\"]].map(type).nunique() == 1"
   ]
  },
  {
   "cell_type": "code",
   "execution_count": 9,
   "id": "bfa99304-dbc7-4342-9597-f11c7c7f86cd",
   "metadata": {},
   "outputs": [
    {
     "data": {
      "text/plain": [
       "Start    0\n",
       "Open     0\n",
       "High     0\n",
       "Low      0\n",
       "Close    0\n",
       "dtype: int64"
      ]
     },
     "execution_count": 9,
     "metadata": {},
     "output_type": "execute_result"
    }
   ],
   "source": [
    "# Check for null values in each relevant column\n",
    "df_btc[[\"Start\", \"Open\", \"High\", \"Low\", \"Close\"]].isna().sum()"
   ]
  },
  {
   "cell_type": "code",
   "execution_count": 10,
   "id": "4d1619a8-6c76-4a73-8903-6ee013e6fe6e",
   "metadata": {},
   "outputs": [
    {
     "data": {
      "text/plain": [
       "Start    0\n",
       "Open     0\n",
       "High     0\n",
       "Low      0\n",
       "Close    0\n",
       "dtype: int64"
      ]
     },
     "execution_count": 10,
     "metadata": {},
     "output_type": "execute_result"
    }
   ],
   "source": [
    "# Check for zero values in each relevant column\n",
    "(df_btc[[\"Start\", \"Open\", \"High\", \"Low\", \"Close\"]] == 0).sum()"
   ]
  },
  {
   "cell_type": "code",
   "execution_count": 11,
   "id": "ac60d33d-290c-4d8f-8e80-19d26e8b4069",
   "metadata": {},
   "outputs": [],
   "source": [
    "# Get price using OHLC average\n",
    "df_btc[\"price\"] = df_btc[[\"Open\", \"High\", \"Low\", \"Close\"]].mean(axis=1)"
   ]
  },
  {
   "cell_type": "code",
   "execution_count": 12,
   "id": "86f595fb-964d-4d6c-b67e-9e8753281228",
   "metadata": {},
   "outputs": [],
   "source": [
    "# Rename date column and remove all the other columns\n",
    "df_btc.rename(columns={\"Start\": \"date\"}, inplace=True)\n",
    "df_btc.drop(columns=[\"End\", \"Open\", \"High\", \"Low\", \"Close\", \"Volume\", \"Market Cap\"], inplace=True)"
   ]
  },
  {
   "cell_type": "code",
   "execution_count": 13,
   "id": "8c0ed565-e6dd-45b2-bc71-dbd93c199fba",
   "metadata": {},
   "outputs": [
    {
     "data": {
      "text/plain": [
       "True"
      ]
     },
     "execution_count": 13,
     "metadata": {},
     "output_type": "execute_result"
    }
   ],
   "source": [
    "# Check if dates progress correctly assuming all days of the year (without skipped or duplicated dates)\n",
    "df_btc[\"date\"] = pd.to_datetime(df_btc[\"date\"])\n",
    "date_diff = df_btc[\"date\"].diff().dropna()\n",
    "(date_diff == pd.Timedelta(days=1)).all()"
   ]
  },
  {
   "cell_type": "code",
   "execution_count": 14,
   "id": "7a9aca80-062a-4b72-b9ce-258c3157bb31",
   "metadata": {},
   "outputs": [
    {
     "data": {
      "text/html": [
       "<div>\n",
       "<style scoped>\n",
       "    .dataframe tbody tr th:only-of-type {\n",
       "        vertical-align: middle;\n",
       "    }\n",
       "\n",
       "    .dataframe tbody tr th {\n",
       "        vertical-align: top;\n",
       "    }\n",
       "\n",
       "    .dataframe thead th {\n",
       "        text-align: right;\n",
       "    }\n",
       "</style>\n",
       "<table border=\"1\" class=\"dataframe\">\n",
       "  <thead>\n",
       "    <tr style=\"text-align: right;\">\n",
       "      <th></th>\n",
       "      <th>price</th>\n",
       "    </tr>\n",
       "    <tr>\n",
       "      <th>date</th>\n",
       "      <th></th>\n",
       "    </tr>\n",
       "  </thead>\n",
       "  <tbody>\n",
       "    <tr>\n",
       "      <th>2010-07-17</th>\n",
       "      <td>0.0500</td>\n",
       "    </tr>\n",
       "    <tr>\n",
       "      <th>2010-07-18</th>\n",
       "      <td>0.0858</td>\n",
       "    </tr>\n",
       "    <tr>\n",
       "      <th>2010-07-19</th>\n",
       "      <td>0.0808</td>\n",
       "    </tr>\n",
       "    <tr>\n",
       "      <th>2010-07-20</th>\n",
       "      <td>0.0747</td>\n",
       "    </tr>\n",
       "    <tr>\n",
       "      <th>2010-07-21</th>\n",
       "      <td>0.0792</td>\n",
       "    </tr>\n",
       "    <tr>\n",
       "      <th>...</th>\n",
       "      <td>...</td>\n",
       "    </tr>\n",
       "    <tr>\n",
       "      <th>2024-09-16</th>\n",
       "      <td>58540.7250</td>\n",
       "    </tr>\n",
       "    <tr>\n",
       "      <th>2024-09-17</th>\n",
       "      <td>59362.8575</td>\n",
       "    </tr>\n",
       "    <tr>\n",
       "      <th>2024-09-18</th>\n",
       "      <td>60607.0675</td>\n",
       "    </tr>\n",
       "    <tr>\n",
       "      <th>2024-09-19</th>\n",
       "      <td>62549.4650</td>\n",
       "    </tr>\n",
       "    <tr>\n",
       "      <th>2024-09-20</th>\n",
       "      <td>63122.9775</td>\n",
       "    </tr>\n",
       "  </tbody>\n",
       "</table>\n",
       "<p>5180 rows × 1 columns</p>\n",
       "</div>"
      ],
      "text/plain": [
       "                 price\n",
       "date                  \n",
       "2010-07-17      0.0500\n",
       "2010-07-18      0.0858\n",
       "2010-07-19      0.0808\n",
       "2010-07-20      0.0747\n",
       "2010-07-21      0.0792\n",
       "...                ...\n",
       "2024-09-16  58540.7250\n",
       "2024-09-17  59362.8575\n",
       "2024-09-18  60607.0675\n",
       "2024-09-19  62549.4650\n",
       "2024-09-20  63122.9775\n",
       "\n",
       "[5180 rows x 1 columns]"
      ]
     },
     "execution_count": 14,
     "metadata": {},
     "output_type": "execute_result"
    }
   ],
   "source": [
    "# Make date as index and show final df\n",
    "df_btc.set_index(\"date\", inplace=True)\n",
    "df_btc"
   ]
  },
  {
   "cell_type": "code",
   "execution_count": 15,
   "id": "03501a1d-c21f-44e2-9ba5-8e3dd6020012",
   "metadata": {},
   "outputs": [],
   "source": [
    "# Export final df\n",
    "df_btc.to_csv(\"../data/BTC.csv\", index=True)"
   ]
  },
  {
   "cell_type": "code",
   "execution_count": 16,
   "id": "ef11983e-ba57-4726-b14c-672e361fd53d",
   "metadata": {},
   "outputs": [
    {
     "name": "stdout",
     "output_type": "stream",
     "text": [
      "First and last entries of the dataset:\n"
     ]
    },
    {
     "data": {
      "text/html": [
       "<div>\n",
       "<style scoped>\n",
       "    .dataframe tbody tr th:only-of-type {\n",
       "        vertical-align: middle;\n",
       "    }\n",
       "\n",
       "    .dataframe tbody tr th {\n",
       "        vertical-align: top;\n",
       "    }\n",
       "\n",
       "    .dataframe thead th {\n",
       "        text-align: right;\n",
       "    }\n",
       "</style>\n",
       "<table border=\"1\" class=\"dataframe\">\n",
       "  <thead>\n",
       "    <tr style=\"text-align: right;\">\n",
       "      <th></th>\n",
       "      <th>price</th>\n",
       "    </tr>\n",
       "    <tr>\n",
       "      <th>date</th>\n",
       "      <th></th>\n",
       "    </tr>\n",
       "  </thead>\n",
       "  <tbody>\n",
       "    <tr>\n",
       "      <th>2010-07-17</th>\n",
       "      <td>0.0500</td>\n",
       "    </tr>\n",
       "    <tr>\n",
       "      <th>2024-09-20</th>\n",
       "      <td>63122.9775</td>\n",
       "    </tr>\n",
       "  </tbody>\n",
       "</table>\n",
       "</div>"
      ],
      "text/plain": [
       "                 price\n",
       "date                  \n",
       "2010-07-17      0.0500\n",
       "2024-09-20  63122.9775"
      ]
     },
     "metadata": {},
     "output_type": "display_data"
    },
    {
     "name": "stdout",
     "output_type": "stream",
     "text": [
      "\n",
      "Basic statistics of the dataset:\n"
     ]
    },
    {
     "data": {
      "text/html": [
       "<div>\n",
       "<style scoped>\n",
       "    .dataframe tbody tr th:only-of-type {\n",
       "        vertical-align: middle;\n",
       "    }\n",
       "\n",
       "    .dataframe tbody tr th {\n",
       "        vertical-align: top;\n",
       "    }\n",
       "\n",
       "    .dataframe thead th {\n",
       "        text-align: right;\n",
       "    }\n",
       "</style>\n",
       "<table border=\"1\" class=\"dataframe\">\n",
       "  <thead>\n",
       "    <tr style=\"text-align: right;\">\n",
       "      <th></th>\n",
       "      <th>count</th>\n",
       "      <th>mean</th>\n",
       "      <th>std</th>\n",
       "      <th>min</th>\n",
       "      <th>25%</th>\n",
       "      <th>50%</th>\n",
       "      <th>75%</th>\n",
       "      <th>max</th>\n",
       "    </tr>\n",
       "  </thead>\n",
       "  <tbody>\n",
       "    <tr>\n",
       "      <th>price</th>\n",
       "      <td>5180.0</td>\n",
       "      <td>12632.49931</td>\n",
       "      <td>18358.368932</td>\n",
       "      <td>0.05</td>\n",
       "      <td>233.617188</td>\n",
       "      <td>3427.284242</td>\n",
       "      <td>19225.075768</td>\n",
       "      <td>72372.82</td>\n",
       "    </tr>\n",
       "  </tbody>\n",
       "</table>\n",
       "</div>"
      ],
      "text/plain": [
       "        count         mean           std   min         25%          50%  \\\n",
       "price  5180.0  12632.49931  18358.368932  0.05  233.617188  3427.284242   \n",
       "\n",
       "                75%       max  \n",
       "price  19225.075768  72372.82  "
      ]
     },
     "metadata": {},
     "output_type": "display_data"
    },
    {
     "name": "stdout",
     "output_type": "stream",
     "text": [
      "\n",
      "Typical number of trading days per year: 365\n"
     ]
    }
   ],
   "source": [
    "show_dataset_basic_info(df_btc)"
   ]
  },
  {
   "cell_type": "markdown",
   "id": "80bf8a3e-3cd0-4eab-99a9-78af3e6fe7ee",
   "metadata": {},
   "source": [
    "## S&P 500"
   ]
  },
  {
   "cell_type": "code",
   "execution_count": 17,
   "id": "e31367b0-6f97-4f17-8332-348cb4df51ce",
   "metadata": {},
   "outputs": [
    {
     "name": "stderr",
     "output_type": "stream",
     "text": [
      "[*********************100%***********************]  1 of 1 completed"
     ]
    },
    {
     "name": "stdout",
     "output_type": "stream",
     "text": [
      "\n",
      "Dataset for ^GSPC downloaded\n",
      "\n",
      "Raw dataset exported to '~/Downloads/SP500_raw.csv'\n",
      "\n",
      "Data quality checks:\n",
      "- Consistent data types: True\n",
      "- Null values:\n",
      "Open     0\n",
      "High     0\n",
      "Low      0\n",
      "Close    0\n",
      "dtype: int64\n",
      "- Zero values:\n",
      "Open     0\n",
      "High     0\n",
      "Low      0\n",
      "Close    0\n",
      "dtype: int64\n",
      "- Duplicated dates: 0\n",
      "\n",
      "Dataset columns adjusted\n",
      "\n",
      "Final dataset exported to '../data/SP500.csv'\n"
     ]
    },
    {
     "name": "stderr",
     "output_type": "stream",
     "text": [
      "\n"
     ]
    }
   ],
   "source": [
    "df_sp500 = process_yf_dataset(\"^GSPC\", \"SP500\")"
   ]
  },
  {
   "cell_type": "code",
   "execution_count": 18,
   "id": "0da4e66e-0646-4c30-bf03-5d6169c549b8",
   "metadata": {},
   "outputs": [
    {
     "name": "stdout",
     "output_type": "stream",
     "text": [
      "First and last entries of the dataset:\n"
     ]
    },
    {
     "data": {
      "text/html": [
       "<div>\n",
       "<style scoped>\n",
       "    .dataframe tbody tr th:only-of-type {\n",
       "        vertical-align: middle;\n",
       "    }\n",
       "\n",
       "    .dataframe tbody tr th {\n",
       "        vertical-align: top;\n",
       "    }\n",
       "\n",
       "    .dataframe thead th {\n",
       "        text-align: right;\n",
       "    }\n",
       "</style>\n",
       "<table border=\"1\" class=\"dataframe\">\n",
       "  <thead>\n",
       "    <tr style=\"text-align: right;\">\n",
       "      <th></th>\n",
       "      <th>price</th>\n",
       "    </tr>\n",
       "    <tr>\n",
       "      <th>date</th>\n",
       "      <th></th>\n",
       "    </tr>\n",
       "  </thead>\n",
       "  <tbody>\n",
       "    <tr>\n",
       "      <th>2010-01-04</th>\n",
       "      <td>1124.995026</td>\n",
       "    </tr>\n",
       "    <tr>\n",
       "      <th>2024-09-20</th>\n",
       "      <td>5700.455078</td>\n",
       "    </tr>\n",
       "  </tbody>\n",
       "</table>\n",
       "</div>"
      ],
      "text/plain": [
       "                  price\n",
       "date                   \n",
       "2010-01-04  1124.995026\n",
       "2024-09-20  5700.455078"
      ]
     },
     "metadata": {},
     "output_type": "display_data"
    },
    {
     "name": "stdout",
     "output_type": "stream",
     "text": [
      "\n",
      "Basic statistics of the dataset:\n"
     ]
    },
    {
     "data": {
      "text/html": [
       "<div>\n",
       "<style scoped>\n",
       "    .dataframe tbody tr th:only-of-type {\n",
       "        vertical-align: middle;\n",
       "    }\n",
       "\n",
       "    .dataframe tbody tr th {\n",
       "        vertical-align: top;\n",
       "    }\n",
       "\n",
       "    .dataframe thead th {\n",
       "        text-align: right;\n",
       "    }\n",
       "</style>\n",
       "<table border=\"1\" class=\"dataframe\">\n",
       "  <thead>\n",
       "    <tr style=\"text-align: right;\">\n",
       "      <th></th>\n",
       "      <th>count</th>\n",
       "      <th>mean</th>\n",
       "      <th>std</th>\n",
       "      <th>min</th>\n",
       "      <th>25%</th>\n",
       "      <th>50%</th>\n",
       "      <th>75%</th>\n",
       "      <th>max</th>\n",
       "    </tr>\n",
       "  </thead>\n",
       "  <tbody>\n",
       "    <tr>\n",
       "      <th>price</th>\n",
       "      <td>3704.0</td>\n",
       "      <td>2667.808033</td>\n",
       "      <td>1198.662166</td>\n",
       "      <td>1024.777496</td>\n",
       "      <td>1689.163124</td>\n",
       "      <td>2390.29248</td>\n",
       "      <td>3697.753174</td>\n",
       "      <td>5709.064941</td>\n",
       "    </tr>\n",
       "  </tbody>\n",
       "</table>\n",
       "</div>"
      ],
      "text/plain": [
       "        count         mean          std          min          25%         50%  \\\n",
       "price  3704.0  2667.808033  1198.662166  1024.777496  1689.163124  2390.29248   \n",
       "\n",
       "               75%          max  \n",
       "price  3697.753174  5709.064941  "
      ]
     },
     "metadata": {},
     "output_type": "display_data"
    },
    {
     "name": "stdout",
     "output_type": "stream",
     "text": [
      "\n",
      "Typical number of trading days per year: 252\n"
     ]
    }
   ],
   "source": [
    "show_dataset_basic_info(df_sp500)"
   ]
  },
  {
   "cell_type": "markdown",
   "id": "dafde716-551b-4caa-9313-fb2fa746a7dd",
   "metadata": {},
   "source": [
    "## US 10-year treasury yield"
   ]
  },
  {
   "cell_type": "code",
   "execution_count": 19,
   "id": "83fb7bda-215c-4d3e-9343-72ce875083b6",
   "metadata": {},
   "outputs": [
    {
     "name": "stderr",
     "output_type": "stream",
     "text": [
      "[*********************100%***********************]  1 of 1 completed"
     ]
    },
    {
     "name": "stdout",
     "output_type": "stream",
     "text": [
      "\n",
      "Dataset for ^TNX downloaded\n",
      "\n",
      "Raw dataset exported to '~/Downloads/US10Y_raw.csv'\n",
      "\n",
      "Data quality checks:\n",
      "- Consistent data types: True\n",
      "- Null values:\n",
      "Open     0\n",
      "High     0\n",
      "Low      0\n",
      "Close    0\n",
      "dtype: int64\n",
      "- Zero values:\n",
      "Open     0\n",
      "High     0\n",
      "Low      0\n",
      "Close    0\n",
      "dtype: int64\n",
      "- Duplicated dates: 0\n",
      "\n",
      "Dataset columns adjusted\n",
      "\n",
      "Final dataset exported to '../data/US10Y.csv'\n"
     ]
    },
    {
     "name": "stderr",
     "output_type": "stream",
     "text": [
      "\n"
     ]
    }
   ],
   "source": [
    "df_us10y = process_yf_dataset(\"^TNX\", \"US10Y\", \"yield\")"
   ]
  },
  {
   "cell_type": "code",
   "execution_count": 20,
   "id": "d3185663-5c05-4d3f-85af-718c76031df1",
   "metadata": {},
   "outputs": [
    {
     "name": "stdout",
     "output_type": "stream",
     "text": [
      "First and last entries of the dataset:\n"
     ]
    },
    {
     "data": {
      "text/html": [
       "<div>\n",
       "<style scoped>\n",
       "    .dataframe tbody tr th:only-of-type {\n",
       "        vertical-align: middle;\n",
       "    }\n",
       "\n",
       "    .dataframe tbody tr th {\n",
       "        vertical-align: top;\n",
       "    }\n",
       "\n",
       "    .dataframe thead th {\n",
       "        text-align: right;\n",
       "    }\n",
       "</style>\n",
       "<table border=\"1\" class=\"dataframe\">\n",
       "  <thead>\n",
       "    <tr style=\"text-align: right;\">\n",
       "      <th></th>\n",
       "      <th>yield</th>\n",
       "    </tr>\n",
       "    <tr>\n",
       "      <th>date</th>\n",
       "      <th></th>\n",
       "    </tr>\n",
       "  </thead>\n",
       "  <tbody>\n",
       "    <tr>\n",
       "      <th>2010-01-04</th>\n",
       "      <td>3.84175</td>\n",
       "    </tr>\n",
       "    <tr>\n",
       "      <th>2024-09-20</th>\n",
       "      <td>3.73525</td>\n",
       "    </tr>\n",
       "  </tbody>\n",
       "</table>\n",
       "</div>"
      ],
      "text/plain": [
       "              yield\n",
       "date               \n",
       "2010-01-04  3.84175\n",
       "2024-09-20  3.73525"
      ]
     },
     "metadata": {},
     "output_type": "display_data"
    },
    {
     "name": "stdout",
     "output_type": "stream",
     "text": [
      "\n",
      "Basic statistics of the dataset:\n"
     ]
    },
    {
     "data": {
      "text/html": [
       "<div>\n",
       "<style scoped>\n",
       "    .dataframe tbody tr th:only-of-type {\n",
       "        vertical-align: middle;\n",
       "    }\n",
       "\n",
       "    .dataframe tbody tr th {\n",
       "        vertical-align: top;\n",
       "    }\n",
       "\n",
       "    .dataframe thead th {\n",
       "        text-align: right;\n",
       "    }\n",
       "</style>\n",
       "<table border=\"1\" class=\"dataframe\">\n",
       "  <thead>\n",
       "    <tr style=\"text-align: right;\">\n",
       "      <th></th>\n",
       "      <th>count</th>\n",
       "      <th>mean</th>\n",
       "      <th>std</th>\n",
       "      <th>min</th>\n",
       "      <th>25%</th>\n",
       "      <th>50%</th>\n",
       "      <th>75%</th>\n",
       "      <th>max</th>\n",
       "    </tr>\n",
       "  </thead>\n",
       "  <tbody>\n",
       "    <tr>\n",
       "      <th>yield</th>\n",
       "      <td>3702.0</td>\n",
       "      <td>2.459896</td>\n",
       "      <td>0.911333</td>\n",
       "      <td>0.4955</td>\n",
       "      <td>1.813562</td>\n",
       "      <td>2.3575</td>\n",
       "      <td>2.96675</td>\n",
       "      <td>4.9605</td>\n",
       "    </tr>\n",
       "  </tbody>\n",
       "</table>\n",
       "</div>"
      ],
      "text/plain": [
       "        count      mean       std     min       25%     50%      75%     max\n",
       "yield  3702.0  2.459896  0.911333  0.4955  1.813562  2.3575  2.96675  4.9605"
      ]
     },
     "metadata": {},
     "output_type": "display_data"
    },
    {
     "name": "stdout",
     "output_type": "stream",
     "text": [
      "\n",
      "Typical number of trading days per year: 251\n"
     ]
    }
   ],
   "source": [
    "show_dataset_basic_info(df_us10y)"
   ]
  },
  {
   "cell_type": "markdown",
   "id": "b01e9642-d72b-45ce-b813-323bbdec6378",
   "metadata": {},
   "source": [
    "## Gold (futures)"
   ]
  },
  {
   "cell_type": "code",
   "execution_count": 21,
   "id": "60dde4e5-f5e4-4e44-8bba-70558b3caa1b",
   "metadata": {},
   "outputs": [
    {
     "name": "stderr",
     "output_type": "stream",
     "text": [
      "[*********************100%***********************]  1 of 1 completed"
     ]
    },
    {
     "name": "stdout",
     "output_type": "stream",
     "text": [
      "\n",
      "Dataset for GC=F downloaded\n",
      "\n",
      "Raw dataset exported to '~/Downloads/AU_raw.csv'\n",
      "\n",
      "Data quality checks:\n",
      "- Consistent data types: True\n",
      "- Null values:\n",
      "Open     0\n",
      "High     0\n",
      "Low      0\n",
      "Close    0\n",
      "dtype: int64\n",
      "- Zero values:\n",
      "Open     0\n",
      "High     0\n",
      "Low      0\n",
      "Close    0\n",
      "dtype: int64\n",
      "- Duplicated dates: 0\n",
      "\n",
      "Dataset columns adjusted\n",
      "\n",
      "Final dataset exported to '../data/AU.csv'\n"
     ]
    },
    {
     "name": "stderr",
     "output_type": "stream",
     "text": [
      "\n"
     ]
    }
   ],
   "source": [
    "df_au = process_yf_dataset(\"GC=F\", \"AU\")"
   ]
  },
  {
   "cell_type": "code",
   "execution_count": 22,
   "id": "122661ee-8d9e-445b-84fc-8bbeca335d85",
   "metadata": {},
   "outputs": [
    {
     "name": "stdout",
     "output_type": "stream",
     "text": [
      "First and last entries of the dataset:\n"
     ]
    },
    {
     "data": {
      "text/html": [
       "<div>\n",
       "<style scoped>\n",
       "    .dataframe tbody tr th:only-of-type {\n",
       "        vertical-align: middle;\n",
       "    }\n",
       "\n",
       "    .dataframe tbody tr th {\n",
       "        vertical-align: top;\n",
       "    }\n",
       "\n",
       "    .dataframe thead th {\n",
       "        text-align: right;\n",
       "    }\n",
       "</style>\n",
       "<table border=\"1\" class=\"dataframe\">\n",
       "  <thead>\n",
       "    <tr style=\"text-align: right;\">\n",
       "      <th></th>\n",
       "      <th>price</th>\n",
       "    </tr>\n",
       "    <tr>\n",
       "      <th>date</th>\n",
       "      <th></th>\n",
       "    </tr>\n",
       "  </thead>\n",
       "  <tbody>\n",
       "    <tr>\n",
       "      <th>2010-01-04</th>\n",
       "      <td>1113.699982</td>\n",
       "    </tr>\n",
       "    <tr>\n",
       "      <th>2024-09-20</th>\n",
       "      <td>2605.624939</td>\n",
       "    </tr>\n",
       "  </tbody>\n",
       "</table>\n",
       "</div>"
      ],
      "text/plain": [
       "                  price\n",
       "date                   \n",
       "2010-01-04  1113.699982\n",
       "2024-09-20  2605.624939"
      ]
     },
     "metadata": {},
     "output_type": "display_data"
    },
    {
     "name": "stdout",
     "output_type": "stream",
     "text": [
      "\n",
      "Basic statistics of the dataset:\n"
     ]
    },
    {
     "data": {
      "text/html": [
       "<div>\n",
       "<style scoped>\n",
       "    .dataframe tbody tr th:only-of-type {\n",
       "        vertical-align: middle;\n",
       "    }\n",
       "\n",
       "    .dataframe tbody tr th {\n",
       "        vertical-align: top;\n",
       "    }\n",
       "\n",
       "    .dataframe thead th {\n",
       "        text-align: right;\n",
       "    }\n",
       "</style>\n",
       "<table border=\"1\" class=\"dataframe\">\n",
       "  <thead>\n",
       "    <tr style=\"text-align: right;\">\n",
       "      <th></th>\n",
       "      <th>count</th>\n",
       "      <th>mean</th>\n",
       "      <th>std</th>\n",
       "      <th>min</th>\n",
       "      <th>25%</th>\n",
       "      <th>50%</th>\n",
       "      <th>75%</th>\n",
       "      <th>max</th>\n",
       "    </tr>\n",
       "  </thead>\n",
       "  <tbody>\n",
       "    <tr>\n",
       "      <th>price</th>\n",
       "      <td>3701.0</td>\n",
       "      <td>1523.826864</td>\n",
       "      <td>318.853363</td>\n",
       "      <td>1054.524963</td>\n",
       "      <td>1257.025024</td>\n",
       "      <td>1416.925018</td>\n",
       "      <td>1776.399994</td>\n",
       "      <td>2605.624939</td>\n",
       "    </tr>\n",
       "  </tbody>\n",
       "</table>\n",
       "</div>"
      ],
      "text/plain": [
       "        count         mean         std          min          25%          50%  \\\n",
       "price  3701.0  1523.826864  318.853363  1054.524963  1257.025024  1416.925018   \n",
       "\n",
       "               75%          max  \n",
       "price  1776.399994  2605.624939  "
      ]
     },
     "metadata": {},
     "output_type": "display_data"
    },
    {
     "name": "stdout",
     "output_type": "stream",
     "text": [
      "\n",
      "Typical number of trading days per year: 252\n"
     ]
    }
   ],
   "source": [
    "show_dataset_basic_info(df_au)"
   ]
  },
  {
   "cell_type": "markdown",
   "id": "1df5bfab-ebbf-425d-9e3c-7b8caa4def3e",
   "metadata": {},
   "source": [
    "## Crude oil (futures)"
   ]
  },
  {
   "cell_type": "code",
   "execution_count": 23,
   "id": "86ee2b5b-de81-43cd-a3f0-ca305d8d2dab",
   "metadata": {},
   "outputs": [
    {
     "name": "stderr",
     "output_type": "stream",
     "text": [
      "[*********************100%***********************]  1 of 1 completed"
     ]
    },
    {
     "name": "stdout",
     "output_type": "stream",
     "text": [
      "\n",
      "Dataset for CL=F downloaded\n",
      "\n",
      "Raw dataset exported to '~/Downloads/WTI_raw.csv'\n",
      "\n",
      "Data quality checks:\n",
      "- Consistent data types: True\n",
      "- Null values:\n",
      "Open     0\n",
      "High     0\n",
      "Low      0\n",
      "Close    0\n",
      "dtype: int64\n",
      "- Zero values:\n",
      "Open     0\n",
      "High     0\n",
      "Low      0\n",
      "Close    0\n",
      "dtype: int64\n",
      "- Duplicated dates: 0\n",
      "\n",
      "Dataset columns adjusted\n",
      "\n",
      "Final dataset exported to '../data/WTI.csv'\n"
     ]
    },
    {
     "name": "stderr",
     "output_type": "stream",
     "text": [
      "\n"
     ]
    }
   ],
   "source": [
    "df_wti = process_yf_dataset(\"CL=F\", \"WTI\")"
   ]
  },
  {
   "cell_type": "code",
   "execution_count": 24,
   "id": "6a90cf86",
   "metadata": {},
   "outputs": [
    {
     "name": "stdout",
     "output_type": "stream",
     "text": [
      "First and last entries of the dataset:\n"
     ]
    },
    {
     "data": {
      "text/html": [
       "<div>\n",
       "<style scoped>\n",
       "    .dataframe tbody tr th:only-of-type {\n",
       "        vertical-align: middle;\n",
       "    }\n",
       "\n",
       "    .dataframe tbody tr th {\n",
       "        vertical-align: top;\n",
       "    }\n",
       "\n",
       "    .dataframe thead th {\n",
       "        text-align: right;\n",
       "    }\n",
       "</style>\n",
       "<table border=\"1\" class=\"dataframe\">\n",
       "  <thead>\n",
       "    <tr style=\"text-align: right;\">\n",
       "      <th></th>\n",
       "      <th>price</th>\n",
       "    </tr>\n",
       "    <tr>\n",
       "      <th>date</th>\n",
       "      <th></th>\n",
       "    </tr>\n",
       "  </thead>\n",
       "  <tbody>\n",
       "    <tr>\n",
       "      <th>2010-01-04</th>\n",
       "      <td>80.612499</td>\n",
       "    </tr>\n",
       "    <tr>\n",
       "      <th>2024-09-20</th>\n",
       "      <td>71.945000</td>\n",
       "    </tr>\n",
       "  </tbody>\n",
       "</table>\n",
       "</div>"
      ],
      "text/plain": [
       "                price\n",
       "date                 \n",
       "2010-01-04  80.612499\n",
       "2024-09-20  71.945000"
      ]
     },
     "metadata": {},
     "output_type": "display_data"
    },
    {
     "name": "stdout",
     "output_type": "stream",
     "text": [
      "\n",
      "Basic statistics of the dataset:\n"
     ]
    },
    {
     "data": {
      "text/html": [
       "<div>\n",
       "<style scoped>\n",
       "    .dataframe tbody tr th:only-of-type {\n",
       "        vertical-align: middle;\n",
       "    }\n",
       "\n",
       "    .dataframe tbody tr th {\n",
       "        vertical-align: top;\n",
       "    }\n",
       "\n",
       "    .dataframe thead th {\n",
       "        text-align: right;\n",
       "    }\n",
       "</style>\n",
       "<table border=\"1\" class=\"dataframe\">\n",
       "  <thead>\n",
       "    <tr style=\"text-align: right;\">\n",
       "      <th></th>\n",
       "      <th>count</th>\n",
       "      <th>mean</th>\n",
       "      <th>std</th>\n",
       "      <th>min</th>\n",
       "      <th>25%</th>\n",
       "      <th>50%</th>\n",
       "      <th>75%</th>\n",
       "      <th>max</th>\n",
       "    </tr>\n",
       "  </thead>\n",
       "  <tbody>\n",
       "    <tr>\n",
       "      <th>price</th>\n",
       "      <td>3702.0</td>\n",
       "      <td>72.026457</td>\n",
       "      <td>21.507457</td>\n",
       "      <td>-10.5925</td>\n",
       "      <td>53.05625</td>\n",
       "      <td>73.56625</td>\n",
       "      <td>89.982499</td>\n",
       "      <td>122.719999</td>\n",
       "    </tr>\n",
       "  </tbody>\n",
       "</table>\n",
       "</div>"
      ],
      "text/plain": [
       "        count       mean        std      min       25%       50%        75%  \\\n",
       "price  3702.0  72.026457  21.507457 -10.5925  53.05625  73.56625  89.982499   \n",
       "\n",
       "              max  \n",
       "price  122.719999  "
      ]
     },
     "metadata": {},
     "output_type": "display_data"
    },
    {
     "name": "stdout",
     "output_type": "stream",
     "text": [
      "\n",
      "Typical number of trading days per year: 252\n"
     ]
    }
   ],
   "source": [
    "show_dataset_basic_info(df_wti)"
   ]
  },
  {
   "cell_type": "markdown",
   "id": "75661b47-f4b0-4784-af4f-37431c9ca64f",
   "metadata": {},
   "source": [
    "## USD/CHF"
   ]
  },
  {
   "cell_type": "code",
   "execution_count": 25,
   "id": "ef4f0f31-383a-4eff-a8d1-ed9319b67add",
   "metadata": {},
   "outputs": [
    {
     "name": "stderr",
     "output_type": "stream",
     "text": [
      "[*********************100%***********************]  1 of 1 completed"
     ]
    },
    {
     "name": "stdout",
     "output_type": "stream",
     "text": [
      "\n",
      "Dataset for CHF=X downloaded\n",
      "\n",
      "Raw dataset exported to '~/Downloads/CHF_raw.csv'\n",
      "\n",
      "Data quality checks:\n",
      "- Consistent data types: True\n",
      "- Null values:\n",
      "Open     0\n",
      "High     0\n",
      "Low      0\n",
      "Close    0\n",
      "dtype: int64\n",
      "- Zero values:\n",
      "Open     0\n",
      "High     0\n",
      "Low      0\n",
      "Close    0\n",
      "dtype: int64\n",
      "- Duplicated dates: 0\n",
      "\n",
      "Dataset columns adjusted\n",
      "\n",
      "Final dataset exported to '../data/CHF.csv'\n"
     ]
    },
    {
     "name": "stderr",
     "output_type": "stream",
     "text": [
      "\n"
     ]
    }
   ],
   "source": [
    "df_chf = process_yf_dataset(\"CHF=X\", \"CHF\", \"rate\")"
   ]
  },
  {
   "cell_type": "code",
   "execution_count": 26,
   "id": "916c39e7-c892-4041-9424-0ecaf0c32f69",
   "metadata": {},
   "outputs": [
    {
     "name": "stdout",
     "output_type": "stream",
     "text": [
      "First and last entries of the dataset:\n"
     ]
    },
    {
     "data": {
      "text/html": [
       "<div>\n",
       "<style scoped>\n",
       "    .dataframe tbody tr th:only-of-type {\n",
       "        vertical-align: middle;\n",
       "    }\n",
       "\n",
       "    .dataframe tbody tr th {\n",
       "        vertical-align: top;\n",
       "    }\n",
       "\n",
       "    .dataframe thead th {\n",
       "        text-align: right;\n",
       "    }\n",
       "</style>\n",
       "<table border=\"1\" class=\"dataframe\">\n",
       "  <thead>\n",
       "    <tr style=\"text-align: right;\">\n",
       "      <th></th>\n",
       "      <th>rate</th>\n",
       "    </tr>\n",
       "    <tr>\n",
       "      <th>date</th>\n",
       "      <th></th>\n",
       "    </tr>\n",
       "  </thead>\n",
       "  <tbody>\n",
       "    <tr>\n",
       "      <th>2010-01-01</th>\n",
       "      <td>1.035025</td>\n",
       "    </tr>\n",
       "    <tr>\n",
       "      <th>2024-09-20</th>\n",
       "      <td>0.848102</td>\n",
       "    </tr>\n",
       "  </tbody>\n",
       "</table>\n",
       "</div>"
      ],
      "text/plain": [
       "                rate\n",
       "date                \n",
       "2010-01-01  1.035025\n",
       "2024-09-20  0.848102"
      ]
     },
     "metadata": {},
     "output_type": "display_data"
    },
    {
     "name": "stdout",
     "output_type": "stream",
     "text": [
      "\n",
      "Basic statistics of the dataset:\n"
     ]
    },
    {
     "data": {
      "text/html": [
       "<div>\n",
       "<style scoped>\n",
       "    .dataframe tbody tr th:only-of-type {\n",
       "        vertical-align: middle;\n",
       "    }\n",
       "\n",
       "    .dataframe tbody tr th {\n",
       "        vertical-align: top;\n",
       "    }\n",
       "\n",
       "    .dataframe thead th {\n",
       "        text-align: right;\n",
       "    }\n",
       "</style>\n",
       "<table border=\"1\" class=\"dataframe\">\n",
       "  <thead>\n",
       "    <tr style=\"text-align: right;\">\n",
       "      <th></th>\n",
       "      <th>count</th>\n",
       "      <th>mean</th>\n",
       "      <th>std</th>\n",
       "      <th>min</th>\n",
       "      <th>25%</th>\n",
       "      <th>50%</th>\n",
       "      <th>75%</th>\n",
       "      <th>max</th>\n",
       "    </tr>\n",
       "  </thead>\n",
       "  <tbody>\n",
       "    <tr>\n",
       "      <th>rate</th>\n",
       "      <td>3833.0</td>\n",
       "      <td>0.948016</td>\n",
       "      <td>0.051927</td>\n",
       "      <td>0.72367</td>\n",
       "      <td>0.912402</td>\n",
       "      <td>0.947785</td>\n",
       "      <td>0.983642</td>\n",
       "      <td>1.162888</td>\n",
       "    </tr>\n",
       "  </tbody>\n",
       "</table>\n",
       "</div>"
      ],
      "text/plain": [
       "       count      mean       std      min       25%       50%       75%  \\\n",
       "rate  3833.0  0.948016  0.051927  0.72367  0.912402  0.947785  0.983642   \n",
       "\n",
       "           max  \n",
       "rate  1.162888  "
      ]
     },
     "metadata": {},
     "output_type": "display_data"
    },
    {
     "name": "stdout",
     "output_type": "stream",
     "text": [
      "\n",
      "Typical number of trading days per year: 260\n"
     ]
    }
   ],
   "source": [
    "show_dataset_basic_info(df_chf)"
   ]
  },
  {
   "cell_type": "markdown",
   "id": "b66c2266-97e6-4604-8874-a76d3b410a16",
   "metadata": {},
   "source": [
    "## Archive the raw data"
   ]
  },
  {
   "cell_type": "code",
   "execution_count": 27,
   "id": "8080f6ea-7628-4aa7-9d37-82ce75f83c1f",
   "metadata": {},
   "outputs": [],
   "source": [
    "# List of filenames for raw CSV data\n",
    "csv_titles = [\"SP500\", \"US10Y\", \"AU\", \"WTI\", \"CHF\"]\n",
    "\n",
    "# Generate full paths of the raw CSV files in the downloads dir\n",
    "csv_file_paths = [os.path.join(os.path.expanduser(\"~/Downloads/\"), f\"{csv_title}_raw.csv\") for csv_title in csv_titles]\n",
    "\n",
    "# Append the bitcoin raw CSV path to the list\n",
    "csv_file_paths.append(raw_btc_path)\n",
    "\n",
    "# Create a compressed tar archive of the raw CSV files\n",
    "with tarfile.open(\"../data/.raw_data.tar.xz\", \"w:xz\") as archive:\n",
    "    for csv_file_path in csv_file_paths:\n",
    "        archive.add(csv_file_path, arcname=os.path.basename(csv_file_path))"
   ]
  }
 ],
 "metadata": {
  "kernelspec": {
   "display_name": "Python 3 (ipykernel)",
   "language": "python",
   "name": "python3"
  },
  "language_info": {
   "codemirror_mode": {
    "name": "ipython",
    "version": 3
   },
   "file_extension": ".py",
   "mimetype": "text/x-python",
   "name": "python",
   "nbconvert_exporter": "python",
   "pygments_lexer": "ipython3",
   "version": "3.12.6"
  }
 },
 "nbformat": 4,
 "nbformat_minor": 5
}
