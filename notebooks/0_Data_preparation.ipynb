{
 "cells": [
  {
   "cell_type": "markdown",
   "id": "6d0b1f2a-be26-4941-8eba-ef50dcd1016d",
   "metadata": {},
   "source": [
    "# Data preparation"
   ]
  },
  {
   "cell_type": "markdown",
   "id": "3ca5818a-4591-446d-8e45-73059f45aabc",
   "metadata": {},
   "source": [
    "## Setup"
   ]
  },
  {
   "cell_type": "code",
   "execution_count": null,
   "id": "5b88c97f-8f80-4f76-98d9-dc6dffe879e8",
   "metadata": {},
   "outputs": [],
   "source": [
    "from datetime import datetime\n",
    "import glob\n",
    "import os\n",
    "import tarfile\n",
    "\n",
    "import pandas as pd\n",
    "import yfinance as yf"
   ]
  },
  {
   "cell_type": "code",
   "execution_count": null,
   "id": "02e825c3-8541-41a1-afbb-7af4580115a8",
   "metadata": {},
   "outputs": [],
   "source": [
    "today = datetime.today().strftime(\"%Y-%m-%d\")"
   ]
  },
  {
   "cell_type": "code",
   "execution_count": null,
   "id": "3f7bf7f3-1141-4378-9bcf-41c071048eca",
   "metadata": {},
   "outputs": [],
   "source": [
    "# Get function that processes any dataset from yfinance\n",
    "def process_yf_dataset(yf_ticker: str, title: str, start_date: str = \"2010-01-01\", end_date: str = today) -> pd.DataFrame:\n",
    "    # Fetch data from yfinance\n",
    "    df = yf.download(yf_ticker, start=start_date, end=end_date)\n",
    "    print(f\"\\nDataset for {yf_ticker} downloaded\")\n",
    "\n",
    "    # Export raw dataset\n",
    "    raw_csv_path = f\"~/Downloads/{title}_raw.csv\"\n",
    "    df.to_csv(os.path.expanduser(raw_csv_path), index=True)\n",
    "    print(f\"\\nRaw dataset exported to '{raw_csv_path}'\")\n",
    "\n",
    "    # Remove irrelevant columns, and rename index and rename remaining columns\n",
    "    df = df.drop(columns=[\"Adj Close\", \"Volume\"]).rename_axis(\"date\").rename(\n",
    "        columns={\"Open\": \"open\", \"High\": \"high\", \"Low\": \"low\", \"Close\": \"close\"}\n",
    "    )\n",
    "    print(\"\\nDataset columns adjusted\")\n",
    "\n",
    "    # Data quality checks\n",
    "    print(\"\\nData quality checks:\")\n",
    "    print(f\"- Consistent data types: {df.dtypes.nunique() == 1}\")\n",
    "    print(f\"- Null values:\\n{df.isna().sum()}\")\n",
    "    print(f\"- Zero values:\\n{(df == 0).sum()}\")\n",
    "    print(f\"- Duplicated dates: {df.index.duplicated().sum()}\")\n",
    "\n",
    "    # Export the final processed dataset\n",
    "    final_csv_path = f\"../data/{title}.csv\"\n",
    "    df.to_csv(final_csv_path, index=True)\n",
    "    print(f\"\\nFinal dataset exported to '{final_csv_path}'\")\n",
    "\n",
    "    return df"
   ]
  },
  {
   "cell_type": "code",
   "execution_count": null,
   "id": "8d27a4d1-2877-411e-bfd8-9ec8daee73b6",
   "metadata": {},
   "outputs": [],
   "source": [
    "def show_dataset_basic_info(df: pd.DataFrame) -> None:\n",
    "    print(\"First and last entries of the dataset:\")\n",
    "    display(df.iloc[[0, -1]])\n",
    "\n",
    "    print(\"\\nBasic statistics of the dataset:\")\n",
    "    display(df.describe().T)\n",
    "\n",
    "    median_days = df.index.year.value_counts().median()\n",
    "    print(f\"\\nTypical number of trading days per year: {int(median_days)}\")"
   ]
  },
  {
   "cell_type": "markdown",
   "id": "68447aeb-1f11-4627-9eea-ba6a0d6a9599",
   "metadata": {},
   "source": [
    "## Bitcoin"
   ]
  },
  {
   "cell_type": "markdown",
   "id": "8ef1b186-9e2d-442a-9f56-5f9f301dd069",
   "metadata": {},
   "source": [
    "*Yahoo Finance provides BTC data only starting from 2014. Therefore, this Coin Codex dataset requires a different processing approach.*"
   ]
  },
  {
   "cell_type": "code",
   "execution_count": null,
   "id": "5cc1d786-a733-4fab-a581-c2da5112a5a7",
   "metadata": {},
   "outputs": [],
   "source": [
    "# Match the path of the downloaded raw CSV\n",
    "raw_btc_path = glob.glob(os.path.expanduser(\"~/Downloads/bitcoin_2010-07-22*.csv\"))[0]"
   ]
  },
  {
   "cell_type": "code",
   "execution_count": null,
   "id": "18c90b73-349f-47b4-a591-bad92df9979b",
   "metadata": {},
   "outputs": [],
   "source": [
    "# Read raw CSV as df and show it\n",
    "df_btc = pd.read_csv(raw_btc_path)\n",
    "df_btc"
   ]
  },
  {
   "cell_type": "code",
   "execution_count": null,
   "id": "044252a6-3fc0-4385-b53c-c70ae4b0eac3",
   "metadata": {},
   "outputs": [],
   "source": [
    "# Reverse the order of the rows\n",
    "df_btc = df_btc[::-1].copy()"
   ]
  },
  {
   "cell_type": "code",
   "execution_count": null,
   "id": "86f595fb-964d-4d6c-b67e-9e8753281228",
   "metadata": {},
   "outputs": [],
   "source": [
    "# Remove irrelevant columns, and rename the remaining\n",
    "df_btc.drop(columns=[\"End\", \"Volume\", \"Market Cap\"], inplace=True)\n",
    "df_btc.rename(columns={\"Start\": \"date\", \"Open\": \"open\", \"High\": \"high\", \"Low\": \"low\", \"Close\": \"close\"}, inplace=True)"
   ]
  },
  {
   "cell_type": "code",
   "execution_count": null,
   "id": "b418fad3-96cd-4e9b-81ce-246c6ae8729e",
   "metadata": {},
   "outputs": [],
   "source": [
    "# Check the data type of each column\n",
    "df_btc.dtypes"
   ]
  },
  {
   "cell_type": "code",
   "execution_count": null,
   "id": "53db869d-c9c1-412e-a8fc-ed20db3ae78e",
   "metadata": {},
   "outputs": [],
   "source": [
    "# Check if the data type of each column is consistent across all rows\n",
    "df_btc.map(type).nunique() == 1"
   ]
  },
  {
   "cell_type": "code",
   "execution_count": null,
   "id": "bfa99304-dbc7-4342-9597-f11c7c7f86cd",
   "metadata": {},
   "outputs": [],
   "source": [
    "# Check for null values in each column\n",
    "df_btc.isna().sum()"
   ]
  },
  {
   "cell_type": "code",
   "execution_count": null,
   "id": "4d1619a8-6c76-4a73-8903-6ee013e6fe6e",
   "metadata": {},
   "outputs": [],
   "source": [
    "# Check for zero values in each column\n",
    "(df_btc == 0).sum()"
   ]
  },
  {
   "cell_type": "code",
   "execution_count": null,
   "id": "8c0ed565-e6dd-45b2-bc71-dbd93c199fba",
   "metadata": {},
   "outputs": [],
   "source": [
    "# Check if dates progress correctly (without skipped or duplicated dates)\n",
    "df_btc[\"date\"] = pd.to_datetime(df_btc[\"date\"])\n",
    "date_diff = df_btc[\"date\"].diff().dropna()\n",
    "(date_diff == pd.Timedelta(days=1)).all()"
   ]
  },
  {
   "cell_type": "code",
   "execution_count": null,
   "id": "7a9aca80-062a-4b72-b9ce-258c3157bb31",
   "metadata": {},
   "outputs": [],
   "source": [
    "# Reset index and show final df\n",
    "df_btc.reset_index(drop=True, inplace=True)\n",
    "df_btc"
   ]
  },
  {
   "cell_type": "code",
   "execution_count": null,
   "id": "03501a1d-c21f-44e2-9ba5-8e3dd6020012",
   "metadata": {},
   "outputs": [],
   "source": [
    "# Export final df\n",
    "df_btc.to_csv(\"../data/BTC.csv\", index=False)"
   ]
  },
  {
   "cell_type": "code",
   "execution_count": null,
   "id": "ef11983e-ba57-4726-b14c-672e361fd53d",
   "metadata": {},
   "outputs": [],
   "source": [
    "show_dataset_basic_info(df_btc)"
   ]
  },
  {
   "cell_type": "markdown",
   "id": "80bf8a3e-3cd0-4eab-99a9-78af3e6fe7ee",
   "metadata": {},
   "source": [
    "## S&P 500"
   ]
  },
  {
   "cell_type": "code",
   "execution_count": null,
   "id": "e31367b0-6f97-4f17-8332-348cb4df51ce",
   "metadata": {},
   "outputs": [],
   "source": [
    "df_sp500 = process_yf_dataset(\"^GSPC\", \"SP500\")"
   ]
  },
  {
   "cell_type": "code",
   "execution_count": null,
   "id": "0da4e66e-0646-4c30-bf03-5d6169c549b8",
   "metadata": {},
   "outputs": [],
   "source": [
    "show_dataset_basic_info(df_sp500)"
   ]
  },
  {
   "cell_type": "markdown",
   "id": "dafde716-551b-4caa-9313-fb2fa746a7dd",
   "metadata": {},
   "source": [
    "## US 10-year treasury yield"
   ]
  },
  {
   "cell_type": "code",
   "execution_count": null,
   "id": "83fb7bda-215c-4d3e-9343-72ce875083b6",
   "metadata": {},
   "outputs": [],
   "source": [
    "df_us10y = process_yf_dataset(\"^TNX\", \"US10Y\")"
   ]
  },
  {
   "cell_type": "code",
   "execution_count": null,
   "id": "d3185663-5c05-4d3f-85af-718c76031df1",
   "metadata": {},
   "outputs": [],
   "source": [
    "show_dataset_basic_info(df_us10y)"
   ]
  },
  {
   "cell_type": "markdown",
   "id": "b01e9642-d72b-45ce-b813-323bbdec6378",
   "metadata": {},
   "source": [
    "## Gold (futures)"
   ]
  },
  {
   "cell_type": "code",
   "execution_count": null,
   "id": "60dde4e5-f5e4-4e44-8bba-70558b3caa1b",
   "metadata": {},
   "outputs": [],
   "source": [
    "df_au = process_yf_dataset(\"GC=F\", \"AU\")"
   ]
  },
  {
   "cell_type": "code",
   "execution_count": null,
   "id": "122661ee-8d9e-445b-84fc-8bbeca335d85",
   "metadata": {},
   "outputs": [],
   "source": [
    "show_dataset_basic_info(df_au)"
   ]
  },
  {
   "cell_type": "markdown",
   "id": "1df5bfab-ebbf-425d-9e3c-7b8caa4def3e",
   "metadata": {},
   "source": [
    "## Crude oil (futures)"
   ]
  },
  {
   "cell_type": "code",
   "execution_count": null,
   "id": "86ee2b5b-de81-43cd-a3f0-ca305d8d2dab",
   "metadata": {},
   "outputs": [],
   "source": [
    "df_wti = process_yf_dataset(\"CL=F\", \"WTI\")"
   ]
  },
  {
   "cell_type": "code",
   "execution_count": null,
   "id": "9741f792",
   "metadata": {},
   "outputs": [],
   "source": [
    "show_dataset_basic_info(df_wti)"
   ]
  },
  {
   "cell_type": "markdown",
   "id": "75661b47-f4b0-4784-af4f-37431c9ca64f",
   "metadata": {},
   "source": [
    "## USD/CHF"
   ]
  },
  {
   "cell_type": "code",
   "execution_count": null,
   "id": "ef4f0f31-383a-4eff-a8d1-ed9319b67add",
   "metadata": {},
   "outputs": [],
   "source": [
    "df_chf = process_yf_dataset(\"CHF=X\", \"CHF\")"
   ]
  },
  {
   "cell_type": "code",
   "execution_count": null,
   "id": "916c39e7-c892-4041-9424-0ecaf0c32f69",
   "metadata": {},
   "outputs": [],
   "source": [
    "show_dataset_basic_info(df_chf)"
   ]
  },
  {
   "cell_type": "markdown",
   "id": "b66c2266-97e6-4604-8874-a76d3b410a16",
   "metadata": {},
   "source": [
    "## Archive the raw data"
   ]
  },
  {
   "cell_type": "code",
   "execution_count": null,
   "id": "8080f6ea-7628-4aa7-9d37-82ce75f83c1f",
   "metadata": {},
   "outputs": [],
   "source": [
    "# List of filenames for raw CSV data\n",
    "csv_titles = [\"SP500\", \"US10Y\", \"AU\", \"WTI\", \"CHF\"]\n",
    "\n",
    "# Generate full paths of the raw CSV files in the downloads dir\n",
    "csv_file_paths = [os.path.join(os.path.expanduser(\"~/Downloads/\"), f\"{csv_title}.csv\") for csv_title in csv_titles]\n",
    "\n",
    "# Append the bitcoin raw CSV path to the list\n",
    "csv_file_paths.append(raw_btc_path)\n",
    "\n",
    "# Create a compressed tar archive of the raw CSV files\n",
    "with tarfile.open(\"../data/.raw_data.tar.xz\", \"w:xz\") as archive:\n",
    "    for csv_file_path in csv_file_paths:\n",
    "        archive.add(csv_file_path, arcname=os.path.basename(csv_file_path))"
   ]
  }
 ],
 "metadata": {
  "kernelspec": {
   "display_name": "Python 3 (ipykernel)",
   "language": "python",
   "name": "python3"
  },
  "language_info": {
   "codemirror_mode": {
    "name": "ipython",
    "version": 3
   },
   "file_extension": ".py",
   "mimetype": "text/x-python",
   "name": "python",
   "nbconvert_exporter": "python",
   "pygments_lexer": "ipython3",
   "version": "3.12.5"
  }
 },
 "nbformat": 4,
 "nbformat_minor": 5
}
